{
 "cells": [
  {
   "cell_type": "markdown",
   "metadata": {},
   "source": [
    "In this notebook, we will walk through the process of:\n",
    "\n",
    "1. Initializing the YouTubeDataClient with your API key.\n",
    "2. Collecting video metadata from one or multiple channels.\n",
    "3. Retrieving performance statistics for selected videos.\n",
    "4. Extracting top-level user comments for a set of videos.\n",
    "\n",
    "The outputs can be returned as raw dictionaries, Pandas DataFrames, or Polars DataFrames,\n",
    "allowing you to flexibly integrate them into any data pipeline or workflow.\n",
    "\n",
    "For demonstration purposes, the [CDCodes channel](https://www.youtube.com/@cdcodes) and [homedawg channel](https://www.youtube.com/@homedawg_yt) will be used, as these belong to one of the developers of this package. You are free to subsitute these for a channel or channels of your choosing\n",
    "\n",
    "# Setup - Load API Key and YouTubeDataClient\n",
    "\n",
    "To generate an API key for your google developer account, please see the [official YouTube API v3 documentation](https://developers.google.com/youtube/v3/getting-started) for more information"
   ]
  },
  {
   "cell_type": "code",
   "execution_count": 2,
   "metadata": {},
   "outputs": [
    {
     "name": "stdout",
     "output_type": "stream",
     "text": [
      "Remaining units in quota: 10000\n"
     ]
    }
   ],
   "source": [
    "# Load environment variables\n",
    "import os\n",
    "from yt_stats_wrangler.api.client import YouTubeDataClient\n",
    "\n",
    "# Channel ID(s) to test the package\n",
    "# Feel free to test the package with those of your choosing\n",
    "TEST_CHANNEL_ID = 'UCB2mKxxXPK3X8SJkAc-db3A' # https://www.youtube.com/@cdcodes\n",
    "TEST_CHANNEL_IDS = ['UCB2mKxxXPK3X8SJkAc-db3A', 'UC0pIFIthf92_8ku2NAYFG_Q'] # https://www.youtube.com/@cdcodes, https://www.youtube.com/@homedawg_yt\n",
    "\n",
    "# Get your API key - recommended to store it as an environment variable\n",
    "YOUTUBE_API_KEY = os.getenv(\"YOUTUBE_API_V3_KEY\")\n",
    "\n",
    "if not YOUTUBE_API_KEY:\n",
    "    raise ValueError(\"Missing YOUTUBE_API_V3_KEY. it is recommended that you set it as an environment variable.\")\n",
    "\n",
    "# Create the client (with quoata limit set to the free trial of 10000 units)\n",
    "client = YouTubeDataClient(api_key=YOUTUBE_API_KEY, max_quota=10000)\n",
    "print(f\"Remaining units in quota: {client.max_quota - client.quota_used}\")"
   ]
  },
  {
   "cell_type": "markdown",
   "metadata": {},
   "source": [
    "# Gather Video IDs and Metadata\n",
    "\n",
    "Series of functions that can take a YouTube channel ID and gather the following\n",
    "\n",
    "+ Titles, Descriptions, and upload dates for public videos on a YouTube channle or channels\n",
    "+ Video IDs that can be passed to other methods to collect descriptive data\n",
    "\n",
    "## Gather video IDs, titles and descriptions from a single channel"
   ]
  },
  {
   "cell_type": "markdown",
   "metadata": {},
   "source": [
    "### Raw output from YouTube API V3"
   ]
  },
  {
   "cell_type": "code",
   "execution_count": 3,
   "metadata": {},
   "outputs": [
    {
     "name": "stdout",
     "output_type": "stream",
     "text": [
      "Collected 18 videos.\n",
      "Remaining units in quota: 9998\n"
     ]
    }
   ],
   "source": [
    "# Get all public videos from a channel and print out in raw form\n",
    "videos = client.get_all_video_details_for_channel(TEST_CHANNEL_ID, key_format=\"raw\", output_format='raw')\n",
    "print(f\"Collected {len(videos)} videos.\")\n",
    "videos[:1]  # Preview first  result\n",
    "print(f\"Remaining units in quota: {client.max_quota - client.quota_used}\")"
   ]
  },
  {
   "cell_type": "markdown",
   "metadata": {},
   "source": [
    "### Pandas output with modified column names"
   ]
  },
  {
   "cell_type": "code",
   "execution_count": 4,
   "metadata": {},
   "outputs": [
    {
     "name": "stdout",
     "output_type": "stream",
     "text": [
      "Collected 18 videos.\n",
      "Remaining units in quota: 9996\n"
     ]
    },
    {
     "data": {
      "text/html": [
       "<div>\n",
       "<style scoped>\n",
       "    .dataframe tbody tr th:only-of-type {\n",
       "        vertical-align: middle;\n",
       "    }\n",
       "\n",
       "    .dataframe tbody tr th {\n",
       "        vertical-align: top;\n",
       "    }\n",
       "\n",
       "    .dataframe thead th {\n",
       "        text-align: right;\n",
       "    }\n",
       "</style>\n",
       "<table border=\"1\" class=\"dataframe\">\n",
       "  <thead>\n",
       "    <tr style=\"text-align: right;\">\n",
       "      <th></th>\n",
       "      <th>CHANNEL_ID</th>\n",
       "      <th>VIDEO_ID</th>\n",
       "      <th>PUBLISHED_AT</th>\n",
       "      <th>TITLE</th>\n",
       "      <th>DESCRIPTION</th>\n",
       "      <th>CHANNEL_TITLE</th>\n",
       "      <th>VIDEO_DETAILS_COMMIT_TIME</th>\n",
       "    </tr>\n",
       "  </thead>\n",
       "  <tbody>\n",
       "    <tr>\n",
       "      <th>0</th>\n",
       "      <td>UCB2mKxxXPK3X8SJkAc-db3A</td>\n",
       "      <td>72Ef65B65JA</td>\n",
       "      <td>2025-02-09T21:01:50Z</td>\n",
       "      <td>Python DeepSeek Tutorial: Installing DeepSeek ...</td>\n",
       "      <td>In this tutorial, we'll be installing DeepSeek...</td>\n",
       "      <td>CDcodes</td>\n",
       "      <td>2025-03-31 00:38:18.226572</td>\n",
       "    </tr>\n",
       "    <tr>\n",
       "      <th>1</th>\n",
       "      <td>UCB2mKxxXPK3X8SJkAc-db3A</td>\n",
       "      <td>S3dlYi7LPk0</td>\n",
       "      <td>2024-08-18T23:14:38Z</td>\n",
       "      <td>Thank You Pygame</td>\n",
       "      <td>An ode to pygame, the quirky little python mod...</td>\n",
       "      <td>CDcodes</td>\n",
       "      <td>2025-03-31 00:38:18.226572</td>\n",
       "    </tr>\n",
       "    <tr>\n",
       "      <th>2</th>\n",
       "      <td>UCB2mKxxXPK3X8SJkAc-db3A</td>\n",
       "      <td>5OoukJNz3YQ</td>\n",
       "      <td>2023-05-30T00:05:58Z</td>\n",
       "      <td>Beginner Python Project From Scratch: Web Scra...</td>\n",
       "      <td>In this video, I'll be walking you through a r...</td>\n",
       "      <td>CDcodes</td>\n",
       "      <td>2025-03-31 00:38:18.226572</td>\n",
       "    </tr>\n",
       "    <tr>\n",
       "      <th>3</th>\n",
       "      <td>UCB2mKxxXPK3X8SJkAc-db3A</td>\n",
       "      <td>ruISjcokmuk</td>\n",
       "      <td>2022-11-09T01:38:55Z</td>\n",
       "      <td>Beginner Python Project From Scratch: Rock Pap...</td>\n",
       "      <td>Follow along with me on replit: https://replit...</td>\n",
       "      <td>CDcodes</td>\n",
       "      <td>2025-03-31 00:38:18.226572</td>\n",
       "    </tr>\n",
       "    <tr>\n",
       "      <th>4</th>\n",
       "      <td>UCB2mKxxXPK3X8SJkAc-db3A</td>\n",
       "      <td>Q6CCdCBVypg</td>\n",
       "      <td>2022-04-05T22:45:48Z</td>\n",
       "      <td>Beginner Python Project From Scratch: Tic Tac Toe</td>\n",
       "      <td>Follow along with me on replit: https://replit...</td>\n",
       "      <td>CDcodes</td>\n",
       "      <td>2025-03-31 00:38:18.226572</td>\n",
       "    </tr>\n",
       "  </tbody>\n",
       "</table>\n",
       "</div>"
      ],
      "text/plain": [
       "                 CHANNEL_ID     VIDEO_ID          PUBLISHED_AT  \\\n",
       "0  UCB2mKxxXPK3X8SJkAc-db3A  72Ef65B65JA  2025-02-09T21:01:50Z   \n",
       "1  UCB2mKxxXPK3X8SJkAc-db3A  S3dlYi7LPk0  2024-08-18T23:14:38Z   \n",
       "2  UCB2mKxxXPK3X8SJkAc-db3A  5OoukJNz3YQ  2023-05-30T00:05:58Z   \n",
       "3  UCB2mKxxXPK3X8SJkAc-db3A  ruISjcokmuk  2022-11-09T01:38:55Z   \n",
       "4  UCB2mKxxXPK3X8SJkAc-db3A  Q6CCdCBVypg  2022-04-05T22:45:48Z   \n",
       "\n",
       "                                               TITLE  \\\n",
       "0  Python DeepSeek Tutorial: Installing DeepSeek ...   \n",
       "1                                   Thank You Pygame   \n",
       "2  Beginner Python Project From Scratch: Web Scra...   \n",
       "3  Beginner Python Project From Scratch: Rock Pap...   \n",
       "4  Beginner Python Project From Scratch: Tic Tac Toe   \n",
       "\n",
       "                                         DESCRIPTION CHANNEL_TITLE  \\\n",
       "0  In this tutorial, we'll be installing DeepSeek...       CDcodes   \n",
       "1  An ode to pygame, the quirky little python mod...       CDcodes   \n",
       "2  In this video, I'll be walking you through a r...       CDcodes   \n",
       "3  Follow along with me on replit: https://replit...       CDcodes   \n",
       "4  Follow along with me on replit: https://replit...       CDcodes   \n",
       "\n",
       "    VIDEO_DETAILS_COMMIT_TIME  \n",
       "0  2025-03-31 00:38:18.226572  \n",
       "1  2025-03-31 00:38:18.226572  \n",
       "2  2025-03-31 00:38:18.226572  \n",
       "3  2025-03-31 00:38:18.226572  \n",
       "4  2025-03-31 00:38:18.226572  "
      ]
     },
     "execution_count": 4,
     "metadata": {},
     "output_type": "execute_result"
    }
   ],
   "source": [
    "# Get all public videos from a channel and output a pandas dataframe with formatted column names\n",
    "videos_pandas_df = client.get_all_video_details_for_channel(TEST_CHANNEL_ID, key_format=\"upper\", output_format='pandas')\n",
    "print(f\"Collected {videos_pandas_df.shape[0]} videos.\")\n",
    "print(f\"Remaining units in quota: {client.max_quota - client.quota_used}\")\n",
    "videos_pandas_df.head(5)  # Preview first few results"
   ]
  },
  {
   "cell_type": "markdown",
   "metadata": {},
   "source": [
    "### Polars output with modified column names"
   ]
  },
  {
   "cell_type": "code",
   "execution_count": 5,
   "metadata": {},
   "outputs": [
    {
     "name": "stdout",
     "output_type": "stream",
     "text": [
      "Collected 18 videos.\n",
      "Remaining units in quota: 9994\n"
     ]
    },
    {
     "data": {
      "text/html": [
       "<div><style>\n",
       ".dataframe > thead > tr,\n",
       ".dataframe > tbody > tr {\n",
       "  text-align: right;\n",
       "  white-space: pre-wrap;\n",
       "}\n",
       "</style>\n",
       "<small>shape: (5, 7)</small><table border=\"1\" class=\"dataframe\"><thead><tr><th>channel_id</th><th>video_id</th><th>published_at</th><th>title</th><th>description</th><th>channel_title</th><th>video_details_commit_time</th></tr><tr><td>str</td><td>str</td><td>str</td><td>str</td><td>str</td><td>str</td><td>str</td></tr></thead><tbody><tr><td>&quot;UCB2mKxxXPK3X8SJkAc-db3A&quot;</td><td>&quot;72Ef65B65JA&quot;</td><td>&quot;2025-02-09T21:01:50Z&quot;</td><td>&quot;Python DeepSeek Tutorial: Inst…</td><td>&quot;In this tutorial, we&#x27;ll be ins…</td><td>&quot;CDcodes&quot;</td><td>&quot;2025-03-31 00:38:19.116919&quot;</td></tr><tr><td>&quot;UCB2mKxxXPK3X8SJkAc-db3A&quot;</td><td>&quot;S3dlYi7LPk0&quot;</td><td>&quot;2024-08-18T23:14:38Z&quot;</td><td>&quot;Thank You Pygame&quot;</td><td>&quot;An ode to pygame, the quirky l…</td><td>&quot;CDcodes&quot;</td><td>&quot;2025-03-31 00:38:19.116919&quot;</td></tr><tr><td>&quot;UCB2mKxxXPK3X8SJkAc-db3A&quot;</td><td>&quot;5OoukJNz3YQ&quot;</td><td>&quot;2023-05-30T00:05:58Z&quot;</td><td>&quot;Beginner Python Project From S…</td><td>&quot;In this video, I&#x27;ll be walking…</td><td>&quot;CDcodes&quot;</td><td>&quot;2025-03-31 00:38:19.116919&quot;</td></tr><tr><td>&quot;UCB2mKxxXPK3X8SJkAc-db3A&quot;</td><td>&quot;ruISjcokmuk&quot;</td><td>&quot;2022-11-09T01:38:55Z&quot;</td><td>&quot;Beginner Python Project From S…</td><td>&quot;Follow along with me on replit…</td><td>&quot;CDcodes&quot;</td><td>&quot;2025-03-31 00:38:19.116919&quot;</td></tr><tr><td>&quot;UCB2mKxxXPK3X8SJkAc-db3A&quot;</td><td>&quot;Q6CCdCBVypg&quot;</td><td>&quot;2022-04-05T22:45:48Z&quot;</td><td>&quot;Beginner Python Project From S…</td><td>&quot;Follow along with me on replit…</td><td>&quot;CDcodes&quot;</td><td>&quot;2025-03-31 00:38:19.116919&quot;</td></tr></tbody></table></div>"
      ],
      "text/plain": [
       "shape: (5, 7)\n",
       "┌──────────────┬─────────────┬─────────────┬─────────────┬─────────────┬─────────────┬─────────────┐\n",
       "│ channel_id   ┆ video_id    ┆ published_a ┆ title       ┆ description ┆ channel_tit ┆ video_detai │\n",
       "│ ---          ┆ ---         ┆ t           ┆ ---         ┆ ---         ┆ le          ┆ ls_commit_t │\n",
       "│ str          ┆ str         ┆ ---         ┆ str         ┆ str         ┆ ---         ┆ ime         │\n",
       "│              ┆             ┆ str         ┆             ┆             ┆ str         ┆ ---         │\n",
       "│              ┆             ┆             ┆             ┆             ┆             ┆ str         │\n",
       "╞══════════════╪═════════════╪═════════════╪═════════════╪═════════════╪═════════════╪═════════════╡\n",
       "│ UCB2mKxxXPK3 ┆ 72Ef65B65JA ┆ 2025-02-09T ┆ Python      ┆ In this     ┆ CDcodes     ┆ 2025-03-31  │\n",
       "│ X8SJkAc-db3A ┆             ┆ 21:01:50Z   ┆ DeepSeek    ┆ tutorial,   ┆             ┆ 00:38:19.11 │\n",
       "│              ┆             ┆             ┆ Tutorial:   ┆ we'll be    ┆             ┆ 6919        │\n",
       "│              ┆             ┆             ┆ Inst…       ┆ ins…        ┆             ┆             │\n",
       "│ UCB2mKxxXPK3 ┆ S3dlYi7LPk0 ┆ 2024-08-18T ┆ Thank You   ┆ An ode to   ┆ CDcodes     ┆ 2025-03-31  │\n",
       "│ X8SJkAc-db3A ┆             ┆ 23:14:38Z   ┆ Pygame      ┆ pygame, the ┆             ┆ 00:38:19.11 │\n",
       "│              ┆             ┆             ┆             ┆ quirky l…   ┆             ┆ 6919        │\n",
       "│ UCB2mKxxXPK3 ┆ 5OoukJNz3YQ ┆ 2023-05-30T ┆ Beginner    ┆ In this     ┆ CDcodes     ┆ 2025-03-31  │\n",
       "│ X8SJkAc-db3A ┆             ┆ 00:05:58Z   ┆ Python      ┆ video, I'll ┆             ┆ 00:38:19.11 │\n",
       "│              ┆             ┆             ┆ Project     ┆ be walking… ┆             ┆ 6919        │\n",
       "│              ┆             ┆             ┆ From S…     ┆             ┆             ┆             │\n",
       "│ UCB2mKxxXPK3 ┆ ruISjcokmuk ┆ 2022-11-09T ┆ Beginner    ┆ Follow      ┆ CDcodes     ┆ 2025-03-31  │\n",
       "│ X8SJkAc-db3A ┆             ┆ 01:38:55Z   ┆ Python      ┆ along with  ┆             ┆ 00:38:19.11 │\n",
       "│              ┆             ┆             ┆ Project     ┆ me on       ┆             ┆ 6919        │\n",
       "│              ┆             ┆             ┆ From S…     ┆ replit…     ┆             ┆             │\n",
       "│ UCB2mKxxXPK3 ┆ Q6CCdCBVypg ┆ 2022-04-05T ┆ Beginner    ┆ Follow      ┆ CDcodes     ┆ 2025-03-31  │\n",
       "│ X8SJkAc-db3A ┆             ┆ 22:45:48Z   ┆ Python      ┆ along with  ┆             ┆ 00:38:19.11 │\n",
       "│              ┆             ┆             ┆ Project     ┆ me on       ┆             ┆ 6919        │\n",
       "│              ┆             ┆             ┆ From S…     ┆ replit…     ┆             ┆             │\n",
       "└──────────────┴─────────────┴─────────────┴─────────────┴─────────────┴─────────────┴─────────────┘"
      ]
     },
     "execution_count": 5,
     "metadata": {},
     "output_type": "execute_result"
    }
   ],
   "source": [
    "# Get all public videos from a channel and output a pandas dataframe with formatted column names\n",
    "videos_polars_df = client.get_all_video_details_for_channel(TEST_CHANNEL_ID, key_format=\"lower\", output_format='polars')\n",
    "print(f\"Collected {videos_polars_df.shape[0]} videos.\")\n",
    "print(f\"Remaining units in quota: {client.max_quota - client.quota_used}\")\n",
    "videos_polars_df.head(5)  # Preview first few results"
   ]
  },
  {
   "cell_type": "markdown",
   "metadata": {},
   "source": [
    "## Gather video IDs, titles and descriptions from multiple channels at a time"
   ]
  },
  {
   "cell_type": "markdown",
   "metadata": {},
   "source": [
    "### Raw output from YouTube API V3"
   ]
  },
  {
   "cell_type": "code",
   "execution_count": 6,
   "metadata": {},
   "outputs": [
    {
     "name": "stdout",
     "output_type": "stream",
     "text": [
      "Fetching videos for channel: UCB2mKxxXPK3X8SJkAc-db3A\n",
      "Fetching videos for channel: UC0pIFIthf92_8ku2NAYFG_Q\n",
      "Collected 20 videos.\n",
      "Remaining units in quota: 9990\n"
     ]
    },
    {
     "data": {
      "text/plain": [
       "{'channelId': 'UC0pIFIthf92_8ku2NAYFG_Q',\n",
       " 'videoId': 'vDm8pvsqFY8',\n",
       " 'publishedAt': '2024-02-14T09:41:13Z',\n",
       " 'title': 'What Competitive Super Smash Bros Taught Me (About Life and Myself)',\n",
       " 'description': \"Some reflections on personal development that occurred through my journey as an amateur competitor in Super Smash Bros Melee for the Nintendo Gamecube.\\n\\n\\nTimestamps\\n00:00:00 - Introduction\\n00:01:26 - Lesson 1~ Improvement is a game (and you can level up)\\n00:06:10 - Lesson 2~ You're an obstacle in someone else's story\\n00:08:45 - Lesson 3~ Losing sucks, detaching is easier\\n00:11:04 - Lesson 4~ Win or lose, vulnerability is cool\\n00:14:21 - Lesson 5~ Anyone can step up and be a leader\\n00:17:08 - Final Remarks\\n\\nYou should totally play Melee if you don't already, checkout Slippi:\\nhttps://slippi.gg/\\n\\nMusic in order of appearance\\nMii Channel (Editing)\\nMenu - Super Smash Bros Melee\\n7PM - Animal Crossing New Leaf\\nIt's Raining Somewhere Else - Toby Fox\\nMenu 2 - Super Smash Bros Melee\\nMother 2 - Super Smash Bros Melee\\nTrophy - Super Smash Bros Melee\\nAll Star Rest Area - Super Smash Bros Melee\",\n",
       " 'channelTitle': 'homedawg',\n",
       " 'videoDetails_commit_time': '2025-03-31 00:38:19.782017'}"
      ]
     },
     "execution_count": 6,
     "metadata": {},
     "output_type": "execute_result"
    }
   ],
   "source": [
    "# Get all public videos from a channel and print out in raw form\n",
    "videos = client.get_all_video_details_for_channels(TEST_CHANNEL_IDS, key_format=\"raw\", output_format='raw')\n",
    "print(f\"Collected {len(videos)} videos.\")\n",
    "print(f\"Remaining units in quota: {client.max_quota - client.quota_used}\")\n",
    "videos[-1]  # Preview tail of the results"
   ]
  },
  {
   "cell_type": "markdown",
   "metadata": {},
   "source": [
    "### Pandas output with modified column names"
   ]
  },
  {
   "cell_type": "code",
   "execution_count": 7,
   "metadata": {},
   "outputs": [
    {
     "name": "stdout",
     "output_type": "stream",
     "text": [
      "Fetching videos for channel: UCB2mKxxXPK3X8SJkAc-db3A\n",
      "Fetching videos for channel: UC0pIFIthf92_8ku2NAYFG_Q\n",
      "Collected 20 videos.\n",
      "Remaining units in quota: 9986\n"
     ]
    },
    {
     "data": {
      "text/html": [
       "<div>\n",
       "<style scoped>\n",
       "    .dataframe tbody tr th:only-of-type {\n",
       "        vertical-align: middle;\n",
       "    }\n",
       "\n",
       "    .dataframe tbody tr th {\n",
       "        vertical-align: top;\n",
       "    }\n",
       "\n",
       "    .dataframe thead th {\n",
       "        text-align: right;\n",
       "    }\n",
       "</style>\n",
       "<table border=\"1\" class=\"dataframe\">\n",
       "  <thead>\n",
       "    <tr style=\"text-align: right;\">\n",
       "      <th></th>\n",
       "      <th>channel_id</th>\n",
       "      <th>video_id</th>\n",
       "      <th>published_at</th>\n",
       "      <th>title</th>\n",
       "      <th>description</th>\n",
       "      <th>channel_title</th>\n",
       "      <th>video_details_commit_time</th>\n",
       "    </tr>\n",
       "  </thead>\n",
       "  <tbody>\n",
       "    <tr>\n",
       "      <th>15</th>\n",
       "      <td>UCB2mKxxXPK3X8SJkAc-db3A</td>\n",
       "      <td>ePiMYe7JpJo</td>\n",
       "      <td>2020-07-27T15:59:04Z</td>\n",
       "      <td>Pygame Sprite Sheet Tutorial: How to Load, Par...</td>\n",
       "      <td>In this tutorial, we'll be learning all about ...</td>\n",
       "      <td>CDcodes</td>\n",
       "      <td>2025-03-31 00:38:20.006887</td>\n",
       "    </tr>\n",
       "    <tr>\n",
       "      <th>16</th>\n",
       "      <td>UCB2mKxxXPK3X8SJkAc-db3A</td>\n",
       "      <td>bmRFi7-gy5Y</td>\n",
       "      <td>2020-07-24T06:33:18Z</td>\n",
       "      <td>Pygame Menu System Tutorial Part 2: Building t...</td>\n",
       "      <td>LINK TO PART 1: https://youtu.be/a5JWrd7Y_14\\n...</td>\n",
       "      <td>CDcodes</td>\n",
       "      <td>2025-03-31 00:38:20.006887</td>\n",
       "    </tr>\n",
       "    <tr>\n",
       "      <th>17</th>\n",
       "      <td>UCB2mKxxXPK3X8SJkAc-db3A</td>\n",
       "      <td>a5JWrd7Y_14</td>\n",
       "      <td>2020-07-24T06:03:54Z</td>\n",
       "      <td>Pygame Menu System Tutorial Part 1: Game Loops...</td>\n",
       "      <td>LINK TO PART 2: https://www.youtube.com/watch?...</td>\n",
       "      <td>CDcodes</td>\n",
       "      <td>2025-03-31 00:38:20.006887</td>\n",
       "    </tr>\n",
       "    <tr>\n",
       "      <th>18</th>\n",
       "      <td>UC0pIFIthf92_8ku2NAYFG_Q</td>\n",
       "      <td>D7YJXgtLqAU</td>\n",
       "      <td>2024-05-05T23:21:21Z</td>\n",
       "      <td>Nostalgia, Change and Pokemon</td>\n",
       "      <td>Examining my relationship with the greatest ma...</td>\n",
       "      <td>homedawg</td>\n",
       "      <td>2025-03-31 00:38:20.195383</td>\n",
       "    </tr>\n",
       "    <tr>\n",
       "      <th>19</th>\n",
       "      <td>UC0pIFIthf92_8ku2NAYFG_Q</td>\n",
       "      <td>vDm8pvsqFY8</td>\n",
       "      <td>2024-02-14T09:41:13Z</td>\n",
       "      <td>What Competitive Super Smash Bros Taught Me (A...</td>\n",
       "      <td>Some reflections on personal development that ...</td>\n",
       "      <td>homedawg</td>\n",
       "      <td>2025-03-31 00:38:20.195383</td>\n",
       "    </tr>\n",
       "  </tbody>\n",
       "</table>\n",
       "</div>"
      ],
      "text/plain": [
       "                  channel_id     video_id          published_at  \\\n",
       "15  UCB2mKxxXPK3X8SJkAc-db3A  ePiMYe7JpJo  2020-07-27T15:59:04Z   \n",
       "16  UCB2mKxxXPK3X8SJkAc-db3A  bmRFi7-gy5Y  2020-07-24T06:33:18Z   \n",
       "17  UCB2mKxxXPK3X8SJkAc-db3A  a5JWrd7Y_14  2020-07-24T06:03:54Z   \n",
       "18  UC0pIFIthf92_8ku2NAYFG_Q  D7YJXgtLqAU  2024-05-05T23:21:21Z   \n",
       "19  UC0pIFIthf92_8ku2NAYFG_Q  vDm8pvsqFY8  2024-02-14T09:41:13Z   \n",
       "\n",
       "                                                title  \\\n",
       "15  Pygame Sprite Sheet Tutorial: How to Load, Par...   \n",
       "16  Pygame Menu System Tutorial Part 2: Building t...   \n",
       "17  Pygame Menu System Tutorial Part 1: Game Loops...   \n",
       "18                      Nostalgia, Change and Pokemon   \n",
       "19  What Competitive Super Smash Bros Taught Me (A...   \n",
       "\n",
       "                                          description channel_title  \\\n",
       "15  In this tutorial, we'll be learning all about ...       CDcodes   \n",
       "16  LINK TO PART 1: https://youtu.be/a5JWrd7Y_14\\n...       CDcodes   \n",
       "17  LINK TO PART 2: https://www.youtube.com/watch?...       CDcodes   \n",
       "18  Examining my relationship with the greatest ma...      homedawg   \n",
       "19  Some reflections on personal development that ...      homedawg   \n",
       "\n",
       "     video_details_commit_time  \n",
       "15  2025-03-31 00:38:20.006887  \n",
       "16  2025-03-31 00:38:20.006887  \n",
       "17  2025-03-31 00:38:20.006887  \n",
       "18  2025-03-31 00:38:20.195383  \n",
       "19  2025-03-31 00:38:20.195383  "
      ]
     },
     "execution_count": 7,
     "metadata": {},
     "output_type": "execute_result"
    }
   ],
   "source": [
    "# Get all public videos from a channel and output a pandas dataframe with formatted column names\n",
    "videos_pandas_df = client.get_all_video_details_for_channels(TEST_CHANNEL_IDS, key_format=\"lower\", output_format='pandas')\n",
    "print(f\"Collected {videos_pandas_df.shape[0]} videos.\")\n",
    "print(f\"Remaining units in quota: {client.max_quota - client.quota_used}\")\n",
    "videos_pandas_df.tail(5)  # Preview first few results"
   ]
  },
  {
   "cell_type": "markdown",
   "metadata": {},
   "source": [
    "### Polars output with modified column names"
   ]
  },
  {
   "cell_type": "code",
   "execution_count": 8,
   "metadata": {},
   "outputs": [
    {
     "name": "stdout",
     "output_type": "stream",
     "text": [
      "Fetching videos for channel: UCB2mKxxXPK3X8SJkAc-db3A\n",
      "Fetching videos for channel: UC0pIFIthf92_8ku2NAYFG_Q\n",
      "Collected 20 videos.\n",
      "Remaining units in quota: 9982\n"
     ]
    },
    {
     "data": {
      "text/html": [
       "<div><style>\n",
       ".dataframe > thead > tr,\n",
       ".dataframe > tbody > tr {\n",
       "  text-align: right;\n",
       "  white-space: pre-wrap;\n",
       "}\n",
       "</style>\n",
       "<small>shape: (5, 7)</small><table border=\"1\" class=\"dataframe\"><thead><tr><th>CHANNEL_ID</th><th>VIDEO_ID</th><th>PUBLISHED_AT</th><th>TITLE</th><th>DESCRIPTION</th><th>CHANNEL_TITLE</th><th>VIDEO_DETAILS_COMMIT_TIME</th></tr><tr><td>str</td><td>str</td><td>str</td><td>str</td><td>str</td><td>str</td><td>str</td></tr></thead><tbody><tr><td>&quot;UCB2mKxxXPK3X8SJkAc-db3A&quot;</td><td>&quot;ePiMYe7JpJo&quot;</td><td>&quot;2020-07-27T15:59:04Z&quot;</td><td>&quot;Pygame Sprite Sheet Tutorial: …</td><td>&quot;In this tutorial, we&#x27;ll be lea…</td><td>&quot;CDcodes&quot;</td><td>&quot;2025-03-31 00:38:20.524686&quot;</td></tr><tr><td>&quot;UCB2mKxxXPK3X8SJkAc-db3A&quot;</td><td>&quot;bmRFi7-gy5Y&quot;</td><td>&quot;2020-07-24T06:33:18Z&quot;</td><td>&quot;Pygame Menu System Tutorial Pa…</td><td>&quot;LINK TO PART 1: https://youtu.…</td><td>&quot;CDcodes&quot;</td><td>&quot;2025-03-31 00:38:20.524686&quot;</td></tr><tr><td>&quot;UCB2mKxxXPK3X8SJkAc-db3A&quot;</td><td>&quot;a5JWrd7Y_14&quot;</td><td>&quot;2020-07-24T06:03:54Z&quot;</td><td>&quot;Pygame Menu System Tutorial Pa…</td><td>&quot;LINK TO PART 2: https://www.yo…</td><td>&quot;CDcodes&quot;</td><td>&quot;2025-03-31 00:38:20.524686&quot;</td></tr><tr><td>&quot;UC0pIFIthf92_8ku2NAYFG_Q&quot;</td><td>&quot;D7YJXgtLqAU&quot;</td><td>&quot;2024-05-05T23:21:21Z&quot;</td><td>&quot;Nostalgia, Change and Pokemon&quot;</td><td>&quot;Examining my relationship with…</td><td>&quot;homedawg&quot;</td><td>&quot;2025-03-31 00:38:20.791971&quot;</td></tr><tr><td>&quot;UC0pIFIthf92_8ku2NAYFG_Q&quot;</td><td>&quot;vDm8pvsqFY8&quot;</td><td>&quot;2024-02-14T09:41:13Z&quot;</td><td>&quot;What Competitive Super Smash B…</td><td>&quot;Some reflections on personal d…</td><td>&quot;homedawg&quot;</td><td>&quot;2025-03-31 00:38:20.791971&quot;</td></tr></tbody></table></div>"
      ],
      "text/plain": [
       "shape: (5, 7)\n",
       "┌──────────────┬─────────────┬─────────────┬─────────────┬─────────────┬─────────────┬─────────────┐\n",
       "│ CHANNEL_ID   ┆ VIDEO_ID    ┆ PUBLISHED_A ┆ TITLE       ┆ DESCRIPTION ┆ CHANNEL_TIT ┆ VIDEO_DETAI │\n",
       "│ ---          ┆ ---         ┆ T           ┆ ---         ┆ ---         ┆ LE          ┆ LS_COMMIT_T │\n",
       "│ str          ┆ str         ┆ ---         ┆ str         ┆ str         ┆ ---         ┆ IME         │\n",
       "│              ┆             ┆ str         ┆             ┆             ┆ str         ┆ ---         │\n",
       "│              ┆             ┆             ┆             ┆             ┆             ┆ str         │\n",
       "╞══════════════╪═════════════╪═════════════╪═════════════╪═════════════╪═════════════╪═════════════╡\n",
       "│ UCB2mKxxXPK3 ┆ ePiMYe7JpJo ┆ 2020-07-27T ┆ Pygame      ┆ In this     ┆ CDcodes     ┆ 2025-03-31  │\n",
       "│ X8SJkAc-db3A ┆             ┆ 15:59:04Z   ┆ Sprite      ┆ tutorial,   ┆             ┆ 00:38:20.52 │\n",
       "│              ┆             ┆             ┆ Sheet       ┆ we'll be    ┆             ┆ 4686        │\n",
       "│              ┆             ┆             ┆ Tutorial: … ┆ lea…        ┆             ┆             │\n",
       "│ UCB2mKxxXPK3 ┆ bmRFi7-gy5Y ┆ 2020-07-24T ┆ Pygame Menu ┆ LINK TO     ┆ CDcodes     ┆ 2025-03-31  │\n",
       "│ X8SJkAc-db3A ┆             ┆ 06:33:18Z   ┆ System      ┆ PART 1: htt ┆             ┆ 00:38:20.52 │\n",
       "│              ┆             ┆             ┆ Tutorial    ┆ ps://youtu. ┆             ┆ 4686        │\n",
       "│              ┆             ┆             ┆ Pa…         ┆ …           ┆             ┆             │\n",
       "│ UCB2mKxxXPK3 ┆ a5JWrd7Y_14 ┆ 2020-07-24T ┆ Pygame Menu ┆ LINK TO     ┆ CDcodes     ┆ 2025-03-31  │\n",
       "│ X8SJkAc-db3A ┆             ┆ 06:03:54Z   ┆ System      ┆ PART 2: htt ┆             ┆ 00:38:20.52 │\n",
       "│              ┆             ┆             ┆ Tutorial    ┆ ps://www.yo ┆             ┆ 4686        │\n",
       "│              ┆             ┆             ┆ Pa…         ┆ …           ┆             ┆             │\n",
       "│ UC0pIFIthf92 ┆ D7YJXgtLqAU ┆ 2024-05-05T ┆ Nostalgia,  ┆ Examining   ┆ homedawg    ┆ 2025-03-31  │\n",
       "│ _8ku2NAYFG_Q ┆             ┆ 23:21:21Z   ┆ Change and  ┆ my relation ┆             ┆ 00:38:20.79 │\n",
       "│              ┆             ┆             ┆ Pokemon     ┆ ship with…  ┆             ┆ 1971        │\n",
       "│ UC0pIFIthf92 ┆ vDm8pvsqFY8 ┆ 2024-02-14T ┆ What        ┆ Some        ┆ homedawg    ┆ 2025-03-31  │\n",
       "│ _8ku2NAYFG_Q ┆             ┆ 09:41:13Z   ┆ Competitive ┆ reflections ┆             ┆ 00:38:20.79 │\n",
       "│              ┆             ┆             ┆ Super Smash ┆ on personal ┆             ┆ 1971        │\n",
       "│              ┆             ┆             ┆ B…          ┆ d…          ┆             ┆             │\n",
       "└──────────────┴─────────────┴─────────────┴─────────────┴─────────────┴─────────────┴─────────────┘"
      ]
     },
     "execution_count": 8,
     "metadata": {},
     "output_type": "execute_result"
    }
   ],
   "source": [
    "# Get all public videos from a channel and output a pandas dataframe with formatted column names\n",
    "videos_polars_df = client.get_all_video_details_for_channels(TEST_CHANNEL_IDS, key_format=\"upper\", output_format='polars')\n",
    "print(f\"Collected {videos_polars_df.shape[0]} videos.\")\n",
    "print(f\"Remaining units in quota: {client.max_quota - client.quota_used}\")\n",
    "videos_polars_df.tail(5)  # Preview last few results"
   ]
  },
  {
   "cell_type": "markdown",
   "metadata": {},
   "source": [
    "# Get Video Statistics\n",
    "\n",
    "Once you have a list of video IDs, you can retrieve high-level public statistics\n",
    "for each video, such as \n",
    "+ View counts\n",
    "+ Like counts\n",
    "+ Comment counts\n",
    "+ Tags\n",
    "\n",
    "This is useful for performance analytics and benchmarking.\n",
    "\n",
    "### Raw output from YouTube API V3"
   ]
  },
  {
   "cell_type": "code",
   "execution_count": 14,
   "metadata": {},
   "outputs": [
    {
     "name": "stdout",
     "output_type": "stream",
     "text": [
      "Retrieved statistics for 5 videos.\n",
      "Remaining units in quota: 9976\n"
     ]
    },
    {
     "data": {
      "text/plain": [
       "{'videoId': '72Ef65B65JA',\n",
       " 'title': 'Python DeepSeek Tutorial: Installing DeepSeek Locally and Interfacing with Python',\n",
       " 'description': \"In this tutorial, we'll be installing DeepSeek onto our local machine, and then interfacing with the LLM through a Python script. I'll also run through a few very basic use cases that can give you an idea of how you might process data and automate tasks through an LLM.\\n\\nCode and Datasets can be found here: https://github.com/ChristianD37/YoutubeTutorials/tree/master/DeepSeekPython\\n\\nollama download: https://ollama.com/download\\ndeepseek-r1 page: https://ollama.com/library/deepseek-r1\\n\\n00:00 - Introduction\\n00:56 - Installing ollama and DeepSeek locally\\n02:05 - Interfacing with DeepSeek through Python\\n03:46 - Cleaner Interface Function\\n06:54 - Sentiment Analysis on YouTube Comments\\n11:24 - Pokemon 3 to 5 sentence Stat Summaries\",\n",
       " 'publishedAt': '2025-02-09T21:01:50Z',\n",
       " 'channelId': 'UCB2mKxxXPK3X8SJkAc-db3A',\n",
       " 'channelTitle': 'CDcodes',\n",
       " 'tags': [],\n",
       " 'categoryId': '27',\n",
       " 'viewCount': 4557,\n",
       " 'likeCount': 93,\n",
       " 'commentCount': 18,\n",
       " 'duration_seconds': 925,\n",
       " 'definition': 'hd',\n",
       " 'isShort': False,\n",
       " 'videoStats_commit_time': '2025-03-31 00:41:45.499950'}"
      ]
     },
     "execution_count": 14,
     "metadata": {},
     "output_type": "execute_result"
    }
   ],
   "source": [
    "# Let's grab the first 5 video IDs from the previous data\n",
    "video_ids = [video[\"videoId\"] for video in videos[:5]]\n",
    "\n",
    "# Get statistics for the videos\n",
    "video_stats = client.get_video_stats(video_ids, key_format=\"raw\", output_format=\"raw\")\n",
    "print(f\"Retrieved statistics for {len(video_stats)} videos.\")\n",
    "print(f\"Remaining units in quota: {client.max_quota - client.quota_used}\")\n",
    "video_stats[0]"
   ]
  },
  {
   "cell_type": "markdown",
   "metadata": {},
   "source": [
    "### Pandas output with modified column names"
   ]
  },
  {
   "cell_type": "code",
   "execution_count": 19,
   "metadata": {},
   "outputs": [
    {
     "name": "stdout",
     "output_type": "stream",
     "text": [
      "Retrieved statistics for 5 videos.\n",
      "Remaining units in quota: 9972\n"
     ]
    },
    {
     "data": {
      "text/html": [
       "<div>\n",
       "<style scoped>\n",
       "    .dataframe tbody tr th:only-of-type {\n",
       "        vertical-align: middle;\n",
       "    }\n",
       "\n",
       "    .dataframe tbody tr th {\n",
       "        vertical-align: top;\n",
       "    }\n",
       "\n",
       "    .dataframe thead th {\n",
       "        text-align: right;\n",
       "    }\n",
       "</style>\n",
       "<table border=\"1\" class=\"dataframe\">\n",
       "  <thead>\n",
       "    <tr style=\"text-align: right;\">\n",
       "      <th></th>\n",
       "      <th>video_id</th>\n",
       "      <th>title</th>\n",
       "      <th>description</th>\n",
       "      <th>published_at</th>\n",
       "      <th>channel_id</th>\n",
       "      <th>channel_title</th>\n",
       "      <th>tags</th>\n",
       "      <th>category_id</th>\n",
       "      <th>view_count</th>\n",
       "      <th>like_count</th>\n",
       "      <th>comment_count</th>\n",
       "      <th>duration_seconds</th>\n",
       "      <th>definition</th>\n",
       "      <th>is_short</th>\n",
       "      <th>video_stats_commit_time</th>\n",
       "    </tr>\n",
       "  </thead>\n",
       "  <tbody>\n",
       "    <tr>\n",
       "      <th>0</th>\n",
       "      <td>72Ef65B65JA</td>\n",
       "      <td>Python DeepSeek Tutorial: Installing DeepSeek ...</td>\n",
       "      <td>In this tutorial, we'll be installing DeepSeek...</td>\n",
       "      <td>2025-02-09T21:01:50Z</td>\n",
       "      <td>UCB2mKxxXPK3X8SJkAc-db3A</td>\n",
       "      <td>CDcodes</td>\n",
       "      <td>[]</td>\n",
       "      <td>27</td>\n",
       "      <td>4557</td>\n",
       "      <td>93</td>\n",
       "      <td>18</td>\n",
       "      <td>925</td>\n",
       "      <td>hd</td>\n",
       "      <td>False</td>\n",
       "      <td>2025-03-31 00:43:57.347051</td>\n",
       "    </tr>\n",
       "    <tr>\n",
       "      <th>1</th>\n",
       "      <td>S3dlYi7LPk0</td>\n",
       "      <td>Thank You Pygame</td>\n",
       "      <td>An ode to pygame, the quirky little python mod...</td>\n",
       "      <td>2024-08-18T23:14:38Z</td>\n",
       "      <td>UCB2mKxxXPK3X8SJkAc-db3A</td>\n",
       "      <td>CDcodes</td>\n",
       "      <td>[]</td>\n",
       "      <td>27</td>\n",
       "      <td>8748</td>\n",
       "      <td>429</td>\n",
       "      <td>37</td>\n",
       "      <td>400</td>\n",
       "      <td>hd</td>\n",
       "      <td>False</td>\n",
       "      <td>2025-03-31 00:43:57.347051</td>\n",
       "    </tr>\n",
       "    <tr>\n",
       "      <th>2</th>\n",
       "      <td>5OoukJNz3YQ</td>\n",
       "      <td>Beginner Python Project From Scratch: Web Scra...</td>\n",
       "      <td>In this video, I'll be walking you through a r...</td>\n",
       "      <td>2023-05-30T00:05:58Z</td>\n",
       "      <td>UCB2mKxxXPK3X8SJkAc-db3A</td>\n",
       "      <td>CDcodes</td>\n",
       "      <td>[]</td>\n",
       "      <td>20</td>\n",
       "      <td>1550</td>\n",
       "      <td>68</td>\n",
       "      <td>11</td>\n",
       "      <td>2737</td>\n",
       "      <td>hd</td>\n",
       "      <td>False</td>\n",
       "      <td>2025-03-31 00:43:57.347051</td>\n",
       "    </tr>\n",
       "    <tr>\n",
       "      <th>3</th>\n",
       "      <td>ruISjcokmuk</td>\n",
       "      <td>Beginner Python Project From Scratch: Rock Pap...</td>\n",
       "      <td>Follow along with me on replit: https://replit...</td>\n",
       "      <td>2022-11-09T01:38:55Z</td>\n",
       "      <td>UCB2mKxxXPK3X8SJkAc-db3A</td>\n",
       "      <td>CDcodes</td>\n",
       "      <td>[]</td>\n",
       "      <td>20</td>\n",
       "      <td>3323</td>\n",
       "      <td>56</td>\n",
       "      <td>9</td>\n",
       "      <td>960</td>\n",
       "      <td>hd</td>\n",
       "      <td>False</td>\n",
       "      <td>2025-03-31 00:43:57.347051</td>\n",
       "    </tr>\n",
       "    <tr>\n",
       "      <th>4</th>\n",
       "      <td>Q6CCdCBVypg</td>\n",
       "      <td>Beginner Python Project From Scratch: Tic Tac Toe</td>\n",
       "      <td>Follow along with me on replit: https://replit...</td>\n",
       "      <td>2022-04-05T22:45:48Z</td>\n",
       "      <td>UCB2mKxxXPK3X8SJkAc-db3A</td>\n",
       "      <td>CDcodes</td>\n",
       "      <td>[]</td>\n",
       "      <td>20</td>\n",
       "      <td>78971</td>\n",
       "      <td>811</td>\n",
       "      <td>60</td>\n",
       "      <td>1014</td>\n",
       "      <td>hd</td>\n",
       "      <td>False</td>\n",
       "      <td>2025-03-31 00:43:57.347051</td>\n",
       "    </tr>\n",
       "  </tbody>\n",
       "</table>\n",
       "</div>"
      ],
      "text/plain": [
       "      video_id                                              title  \\\n",
       "0  72Ef65B65JA  Python DeepSeek Tutorial: Installing DeepSeek ...   \n",
       "1  S3dlYi7LPk0                                   Thank You Pygame   \n",
       "2  5OoukJNz3YQ  Beginner Python Project From Scratch: Web Scra...   \n",
       "3  ruISjcokmuk  Beginner Python Project From Scratch: Rock Pap...   \n",
       "4  Q6CCdCBVypg  Beginner Python Project From Scratch: Tic Tac Toe   \n",
       "\n",
       "                                         description          published_at  \\\n",
       "0  In this tutorial, we'll be installing DeepSeek...  2025-02-09T21:01:50Z   \n",
       "1  An ode to pygame, the quirky little python mod...  2024-08-18T23:14:38Z   \n",
       "2  In this video, I'll be walking you through a r...  2023-05-30T00:05:58Z   \n",
       "3  Follow along with me on replit: https://replit...  2022-11-09T01:38:55Z   \n",
       "4  Follow along with me on replit: https://replit...  2022-04-05T22:45:48Z   \n",
       "\n",
       "                 channel_id channel_title tags category_id  view_count  \\\n",
       "0  UCB2mKxxXPK3X8SJkAc-db3A       CDcodes   []          27        4557   \n",
       "1  UCB2mKxxXPK3X8SJkAc-db3A       CDcodes   []          27        8748   \n",
       "2  UCB2mKxxXPK3X8SJkAc-db3A       CDcodes   []          20        1550   \n",
       "3  UCB2mKxxXPK3X8SJkAc-db3A       CDcodes   []          20        3323   \n",
       "4  UCB2mKxxXPK3X8SJkAc-db3A       CDcodes   []          20       78971   \n",
       "\n",
       "   like_count  comment_count  duration_seconds definition  is_short  \\\n",
       "0          93             18               925         hd     False   \n",
       "1         429             37               400         hd     False   \n",
       "2          68             11              2737         hd     False   \n",
       "3          56              9               960         hd     False   \n",
       "4         811             60              1014         hd     False   \n",
       "\n",
       "      video_stats_commit_time  \n",
       "0  2025-03-31 00:43:57.347051  \n",
       "1  2025-03-31 00:43:57.347051  \n",
       "2  2025-03-31 00:43:57.347051  \n",
       "3  2025-03-31 00:43:57.347051  \n",
       "4  2025-03-31 00:43:57.347051  "
      ]
     },
     "execution_count": 19,
     "metadata": {},
     "output_type": "execute_result"
    }
   ],
   "source": [
    "# Let's grab the first 5 video IDs from the pandas dataframe\n",
    "# Get statistics for the videos\n",
    "video_stats_pandas_df = client.get_video_stats(videos_pandas_df['video_id'][0:5], key_format=\"lower\", output_format=\"pandas\")\n",
    "print(f\"Retrieved statistics for {video_stats_pandas_df .shape[0]} videos.\")\n",
    "print(f\"Remaining units in quota: {client.max_quota - client.quota_used}\")\n",
    "video_stats_pandas_df.head()"
   ]
  },
  {
   "cell_type": "markdown",
   "metadata": {},
   "source": [
    "### Polars output with modified column names"
   ]
  },
  {
   "cell_type": "code",
   "execution_count": null,
   "metadata": {},
   "outputs": [
    {
     "name": "stdout",
     "output_type": "stream",
     "text": [
      "Retrieved statistics for 5 videos.\n",
      "Remaining units in quota: 9973\n"
     ]
    },
    {
     "data": {
      "text/html": [
       "<div>\n",
       "<style scoped>\n",
       "    .dataframe tbody tr th:only-of-type {\n",
       "        vertical-align: middle;\n",
       "    }\n",
       "\n",
       "    .dataframe tbody tr th {\n",
       "        vertical-align: top;\n",
       "    }\n",
       "\n",
       "    .dataframe thead th {\n",
       "        text-align: right;\n",
       "    }\n",
       "</style>\n",
       "<table border=\"1\" class=\"dataframe\">\n",
       "  <thead>\n",
       "    <tr style=\"text-align: right;\">\n",
       "      <th></th>\n",
       "      <th>VIDEO_ID</th>\n",
       "      <th>TITLE</th>\n",
       "      <th>DESCRIPTION</th>\n",
       "      <th>PUBLISHED_AT</th>\n",
       "      <th>CHANNEL_ID</th>\n",
       "      <th>CHANNEL_TITLE</th>\n",
       "      <th>TAGS</th>\n",
       "      <th>CATEGORY_ID</th>\n",
       "      <th>VIEW_COUNT</th>\n",
       "      <th>LIKE_COUNT</th>\n",
       "      <th>COMMENT_COUNT</th>\n",
       "      <th>DURATION_SECONDS</th>\n",
       "      <th>DEFINITION</th>\n",
       "      <th>IS_SHORT</th>\n",
       "      <th>VIDEO_STATS_COMMIT_TIME</th>\n",
       "    </tr>\n",
       "  </thead>\n",
       "  <tbody>\n",
       "    <tr>\n",
       "      <th>0</th>\n",
       "      <td>72Ef65B65JA</td>\n",
       "      <td>Python DeepSeek Tutorial: Installing DeepSeek ...</td>\n",
       "      <td>In this tutorial, we'll be installing DeepSeek...</td>\n",
       "      <td>2025-02-09T21:01:50Z</td>\n",
       "      <td>UCB2mKxxXPK3X8SJkAc-db3A</td>\n",
       "      <td>CDcodes</td>\n",
       "      <td>[]</td>\n",
       "      <td>27</td>\n",
       "      <td>4559</td>\n",
       "      <td>93</td>\n",
       "      <td>18</td>\n",
       "      <td>925</td>\n",
       "      <td>hd</td>\n",
       "      <td>False</td>\n",
       "      <td>2025-03-31 00:43:33.937681</td>\n",
       "    </tr>\n",
       "    <tr>\n",
       "      <th>1</th>\n",
       "      <td>S3dlYi7LPk0</td>\n",
       "      <td>Thank You Pygame</td>\n",
       "      <td>An ode to pygame, the quirky little python mod...</td>\n",
       "      <td>2024-08-18T23:14:38Z</td>\n",
       "      <td>UCB2mKxxXPK3X8SJkAc-db3A</td>\n",
       "      <td>CDcodes</td>\n",
       "      <td>[]</td>\n",
       "      <td>27</td>\n",
       "      <td>8748</td>\n",
       "      <td>429</td>\n",
       "      <td>37</td>\n",
       "      <td>400</td>\n",
       "      <td>hd</td>\n",
       "      <td>False</td>\n",
       "      <td>2025-03-31 00:43:33.937681</td>\n",
       "    </tr>\n",
       "    <tr>\n",
       "      <th>2</th>\n",
       "      <td>5OoukJNz3YQ</td>\n",
       "      <td>Beginner Python Project From Scratch: Web Scra...</td>\n",
       "      <td>In this video, I'll be walking you through a r...</td>\n",
       "      <td>2023-05-30T00:05:58Z</td>\n",
       "      <td>UCB2mKxxXPK3X8SJkAc-db3A</td>\n",
       "      <td>CDcodes</td>\n",
       "      <td>[]</td>\n",
       "      <td>20</td>\n",
       "      <td>1550</td>\n",
       "      <td>68</td>\n",
       "      <td>11</td>\n",
       "      <td>2737</td>\n",
       "      <td>hd</td>\n",
       "      <td>False</td>\n",
       "      <td>2025-03-31 00:43:33.937681</td>\n",
       "    </tr>\n",
       "    <tr>\n",
       "      <th>3</th>\n",
       "      <td>ruISjcokmuk</td>\n",
       "      <td>Beginner Python Project From Scratch: Rock Pap...</td>\n",
       "      <td>Follow along with me on replit: https://replit...</td>\n",
       "      <td>2022-11-09T01:38:55Z</td>\n",
       "      <td>UCB2mKxxXPK3X8SJkAc-db3A</td>\n",
       "      <td>CDcodes</td>\n",
       "      <td>[]</td>\n",
       "      <td>20</td>\n",
       "      <td>3323</td>\n",
       "      <td>56</td>\n",
       "      <td>9</td>\n",
       "      <td>960</td>\n",
       "      <td>hd</td>\n",
       "      <td>False</td>\n",
       "      <td>2025-03-31 00:43:33.937681</td>\n",
       "    </tr>\n",
       "    <tr>\n",
       "      <th>4</th>\n",
       "      <td>Q6CCdCBVypg</td>\n",
       "      <td>Beginner Python Project From Scratch: Tic Tac Toe</td>\n",
       "      <td>Follow along with me on replit: https://replit...</td>\n",
       "      <td>2022-04-05T22:45:48Z</td>\n",
       "      <td>UCB2mKxxXPK3X8SJkAc-db3A</td>\n",
       "      <td>CDcodes</td>\n",
       "      <td>[]</td>\n",
       "      <td>20</td>\n",
       "      <td>78974</td>\n",
       "      <td>811</td>\n",
       "      <td>60</td>\n",
       "      <td>1014</td>\n",
       "      <td>hd</td>\n",
       "      <td>False</td>\n",
       "      <td>2025-03-31 00:43:33.937681</td>\n",
       "    </tr>\n",
       "  </tbody>\n",
       "</table>\n",
       "</div>"
      ],
      "text/plain": [
       "      VIDEO_ID                                              TITLE  \\\n",
       "0  72Ef65B65JA  Python DeepSeek Tutorial: Installing DeepSeek ...   \n",
       "1  S3dlYi7LPk0                                   Thank You Pygame   \n",
       "2  5OoukJNz3YQ  Beginner Python Project From Scratch: Web Scra...   \n",
       "3  ruISjcokmuk  Beginner Python Project From Scratch: Rock Pap...   \n",
       "4  Q6CCdCBVypg  Beginner Python Project From Scratch: Tic Tac Toe   \n",
       "\n",
       "                                         DESCRIPTION          PUBLISHED_AT  \\\n",
       "0  In this tutorial, we'll be installing DeepSeek...  2025-02-09T21:01:50Z   \n",
       "1  An ode to pygame, the quirky little python mod...  2024-08-18T23:14:38Z   \n",
       "2  In this video, I'll be walking you through a r...  2023-05-30T00:05:58Z   \n",
       "3  Follow along with me on replit: https://replit...  2022-11-09T01:38:55Z   \n",
       "4  Follow along with me on replit: https://replit...  2022-04-05T22:45:48Z   \n",
       "\n",
       "                 CHANNEL_ID CHANNEL_TITLE TAGS CATEGORY_ID  VIEW_COUNT  \\\n",
       "0  UCB2mKxxXPK3X8SJkAc-db3A       CDcodes   []          27        4559   \n",
       "1  UCB2mKxxXPK3X8SJkAc-db3A       CDcodes   []          27        8748   \n",
       "2  UCB2mKxxXPK3X8SJkAc-db3A       CDcodes   []          20        1550   \n",
       "3  UCB2mKxxXPK3X8SJkAc-db3A       CDcodes   []          20        3323   \n",
       "4  UCB2mKxxXPK3X8SJkAc-db3A       CDcodes   []          20       78974   \n",
       "\n",
       "   LIKE_COUNT  COMMENT_COUNT  DURATION_SECONDS DEFINITION  IS_SHORT  \\\n",
       "0          93             18               925         hd     False   \n",
       "1         429             37               400         hd     False   \n",
       "2          68             11              2737         hd     False   \n",
       "3          56              9               960         hd     False   \n",
       "4         811             60              1014         hd     False   \n",
       "\n",
       "      VIDEO_STATS_COMMIT_TIME  \n",
       "0  2025-03-31 00:43:33.937681  \n",
       "1  2025-03-31 00:43:33.937681  \n",
       "2  2025-03-31 00:43:33.937681  \n",
       "3  2025-03-31 00:43:33.937681  \n",
       "4  2025-03-31 00:43:33.937681  "
      ]
     },
     "execution_count": 18,
     "metadata": {},
     "output_type": "execute_result"
    }
   ],
   "source": [
    "# Let's grab the first 5 video IDs from the pandas dataframe\n",
    "# Get statistics for the videos\n",
    "video_stats_polars_df = client.get_video_stats(videos_polars_df['VIDEO_ID'][0:5], key_format=\"upper\", output_format=\"pandas\")\n",
    "print(f\"Retrieved statistics for {video_stats_polars_df.shape[0]} videos.\")\n",
    "print(f\"Remaining units in quota: {client.max_quota - client.quota_used}\")\n",
    "video_stats_polars_df.head()"
   ]
  },
  {
   "cell_type": "markdown",
   "metadata": {},
   "source": [
    "# Get Video Comments\n",
    "\n",
    "Once you have a list of video IDs, you can the following data regarding each of the comments\n",
    "+ Comment Text\n",
    "+ Like counts\n",
    "+ Reply counts\n",
    "+ Publication Date\n",
    "\n",
    "This is useful for performance analytics and sentiment analysis"
   ]
  },
  {
   "cell_type": "markdown",
   "metadata": {},
   "source": [
    "### Raw output from YouTube API V3"
   ]
  },
  {
   "cell_type": "code",
   "execution_count": 26,
   "metadata": {},
   "outputs": [
    {
     "name": "stdout",
     "output_type": "stream",
     "text": [
      "Fetching comments for video ID: 72Ef65B65JA\n",
      "Fetching comments for video ID: S3dlYi7LPk0\n",
      "Fetching comments for video ID: 5OoukJNz3YQ\n",
      "Fetching comments for video ID: ruISjcokmuk\n",
      "Fetching comments for video ID: Q6CCdCBVypg\n",
      "Collected 72 comments across 5 videos.\n",
      "Remaining units in quota: 9937\n"
     ]
    },
    {
     "data": {
      "text/plain": [
       "[{'videoId': '72Ef65B65JA',\n",
       "  'author': '@PARK60264',\n",
       "  'text': 'Is this local? lama is not local is it?',\n",
       "  'publishedAt': '2025-03-29T00:12:15Z',\n",
       "  'likeCount': 0,\n",
       "  'replyCount': 1,\n",
       "  'videoTopLevelComments_commit_time': '2025-03-31 00:58:53.192381'},\n",
       " {'videoId': '72Ef65B65JA',\n",
       "  'author': '@xiaoyanzheng6435',\n",
       "  'text': 'hi thank you for sharing this very helpful! for me it runs a bit slow but still works in the command prompt but when i switched to Jupyter Notebook, it slowed dramatically, a simple question takes 10 minutes for the answer to be produced. Any advice on improving speed? thanks!',\n",
       "  'publishedAt': '2025-02-27T15:55:04Z',\n",
       "  'likeCount': 0,\n",
       "  'replyCount': 1,\n",
       "  'videoTopLevelComments_commit_time': '2025-03-31 00:58:53.192381'}]"
      ]
     },
     "execution_count": 26,
     "metadata": {},
     "output_type": "execute_result"
    }
   ],
   "source": [
    "comments = client.get_top_level_comments_for_video_ids(video_ids, key_format=\"raw\", output_format=\"raw\")\n",
    "print(f\"Collected {len(comments)} comments across {len(video_ids)} videos.\")\n",
    "print(f\"Remaining units in quota: {client.max_quota - client.quota_used}\")\n",
    "comments[0:2]"
   ]
  },
  {
   "cell_type": "markdown",
   "metadata": {},
   "source": [
    "### Pandas output with modified column names"
   ]
  },
  {
   "cell_type": "code",
   "execution_count": 24,
   "metadata": {},
   "outputs": [
    {
     "name": "stdout",
     "output_type": "stream",
     "text": [
      "Fetching comments for video ID: 72Ef65B65JA\n",
      "Fetching comments for video ID: S3dlYi7LPk0\n",
      "Fetching comments for video ID: 5OoukJNz3YQ\n",
      "Fetching comments for video ID: ruISjcokmuk\n",
      "Fetching comments for video ID: Q6CCdCBVypg\n",
      "Collected 72 comments across 5 videos.\n",
      "Remaining units in quota: 9947\n"
     ]
    },
    {
     "data": {
      "text/html": [
       "<div>\n",
       "<style scoped>\n",
       "    .dataframe tbody tr th:only-of-type {\n",
       "        vertical-align: middle;\n",
       "    }\n",
       "\n",
       "    .dataframe tbody tr th {\n",
       "        vertical-align: top;\n",
       "    }\n",
       "\n",
       "    .dataframe thead th {\n",
       "        text-align: right;\n",
       "    }\n",
       "</style>\n",
       "<table border=\"1\" class=\"dataframe\">\n",
       "  <thead>\n",
       "    <tr style=\"text-align: right;\">\n",
       "      <th></th>\n",
       "      <th>video_id</th>\n",
       "      <th>author</th>\n",
       "      <th>text</th>\n",
       "      <th>published_at</th>\n",
       "      <th>like_count</th>\n",
       "      <th>reply_count</th>\n",
       "      <th>video_top_level_comments_commit_time</th>\n",
       "    </tr>\n",
       "  </thead>\n",
       "  <tbody>\n",
       "    <tr>\n",
       "      <th>67</th>\n",
       "      <td>Q6CCdCBVypg</td>\n",
       "      <td>@Poxlol</td>\n",
       "      <td>Underrated</td>\n",
       "      <td>2022-04-23T03:21:11Z</td>\n",
       "      <td>2</td>\n",
       "      <td>1</td>\n",
       "      <td>2025-03-31 00:56:00.456982</td>\n",
       "    </tr>\n",
       "    <tr>\n",
       "      <th>68</th>\n",
       "      <td>Q6CCdCBVypg</td>\n",
       "      <td>@phoebely2900</td>\n",
       "      <td>Fantastic work!</td>\n",
       "      <td>2022-04-06T04:44:48Z</td>\n",
       "      <td>1</td>\n",
       "      <td>1</td>\n",
       "      <td>2025-03-31 00:56:00.456982</td>\n",
       "    </tr>\n",
       "    <tr>\n",
       "      <th>69</th>\n",
       "      <td>Q6CCdCBVypg</td>\n",
       "      <td>@chosenone2435</td>\n",
       "      <td>Great to see you back! You are the best Pygame...</td>\n",
       "      <td>2022-04-06T01:25:19Z</td>\n",
       "      <td>4</td>\n",
       "      <td>1</td>\n",
       "      <td>2025-03-31 00:56:00.456982</td>\n",
       "    </tr>\n",
       "    <tr>\n",
       "      <th>70</th>\n",
       "      <td>Q6CCdCBVypg</td>\n",
       "      <td>@joey546</td>\n",
       "      <td>Good to see you back! You still have, by far, ...</td>\n",
       "      <td>2022-04-05T23:35:12Z</td>\n",
       "      <td>9</td>\n",
       "      <td>2</td>\n",
       "      <td>2025-03-31 00:56:00.456982</td>\n",
       "    </tr>\n",
       "    <tr>\n",
       "      <th>71</th>\n",
       "      <td>Q6CCdCBVypg</td>\n",
       "      <td>@MyFishWillKillU</td>\n",
       "      <td>Wow so cool</td>\n",
       "      <td>2022-04-05T22:53:18Z</td>\n",
       "      <td>4</td>\n",
       "      <td>0</td>\n",
       "      <td>2025-03-31 00:56:00.456982</td>\n",
       "    </tr>\n",
       "  </tbody>\n",
       "</table>\n",
       "</div>"
      ],
      "text/plain": [
       "       video_id            author  \\\n",
       "67  Q6CCdCBVypg           @Poxlol   \n",
       "68  Q6CCdCBVypg     @phoebely2900   \n",
       "69  Q6CCdCBVypg    @chosenone2435   \n",
       "70  Q6CCdCBVypg          @joey546   \n",
       "71  Q6CCdCBVypg  @MyFishWillKillU   \n",
       "\n",
       "                                                 text          published_at  \\\n",
       "67                                         Underrated  2022-04-23T03:21:11Z   \n",
       "68                                    Fantastic work!  2022-04-06T04:44:48Z   \n",
       "69  Great to see you back! You are the best Pygame...  2022-04-06T01:25:19Z   \n",
       "70  Good to see you back! You still have, by far, ...  2022-04-05T23:35:12Z   \n",
       "71                                        Wow so cool  2022-04-05T22:53:18Z   \n",
       "\n",
       "    like_count  reply_count video_top_level_comments_commit_time  \n",
       "67           2            1           2025-03-31 00:56:00.456982  \n",
       "68           1            1           2025-03-31 00:56:00.456982  \n",
       "69           4            1           2025-03-31 00:56:00.456982  \n",
       "70           9            2           2025-03-31 00:56:00.456982  \n",
       "71           4            0           2025-03-31 00:56:00.456982  "
      ]
     },
     "execution_count": 24,
     "metadata": {},
     "output_type": "execute_result"
    }
   ],
   "source": [
    "# Get top-level comments from the same 5 videos\n",
    "comments_pandas_df = client.get_top_level_comments_for_video_ids(videos_pandas_df['video_id'][0:5], key_format=\"lower\", output_format=\"pandas\")\n",
    "print(f\"Collected {comments_pandas_df.shape[0]} comments across {len(videos_pandas_df['video_id'][0:5].unique())} videos.\")\n",
    "print(f\"Remaining units in quota: {client.max_quota - client.quota_used}\")\n",
    "comments_pandas_df.tail(5)"
   ]
  },
  {
   "cell_type": "markdown",
   "metadata": {},
   "source": [
    "### Polars output with modified column names"
   ]
  },
  {
   "cell_type": "code",
   "execution_count": 25,
   "metadata": {},
   "outputs": [
    {
     "name": "stdout",
     "output_type": "stream",
     "text": [
      "Fetching comments for video ID: 72Ef65B65JA\n",
      "Fetching comments for video ID: S3dlYi7LPk0\n",
      "Fetching comments for video ID: 5OoukJNz3YQ\n",
      "Fetching comments for video ID: ruISjcokmuk\n",
      "Fetching comments for video ID: Q6CCdCBVypg\n",
      "Collected 72 comments across 1 videos.\n",
      "Remaining units in quota: 9942\n"
     ]
    },
    {
     "data": {
      "text/html": [
       "<div><style>\n",
       ".dataframe > thead > tr,\n",
       ".dataframe > tbody > tr {\n",
       "  text-align: right;\n",
       "  white-space: pre-wrap;\n",
       "}\n",
       "</style>\n",
       "<small>shape: (5, 7)</small><table border=\"1\" class=\"dataframe\"><thead><tr><th>VIDEO_ID</th><th>AUTHOR</th><th>TEXT</th><th>PUBLISHED_AT</th><th>LIKE_COUNT</th><th>REPLY_COUNT</th><th>VIDEO_TOP_LEVEL_COMMENTS_COMMIT_TIME</th></tr><tr><td>str</td><td>str</td><td>str</td><td>str</td><td>i64</td><td>i64</td><td>str</td></tr></thead><tbody><tr><td>&quot;Q6CCdCBVypg&quot;</td><td>&quot;@Poxlol&quot;</td><td>&quot;Underrated&quot;</td><td>&quot;2022-04-23T03:21:11Z&quot;</td><td>2</td><td>1</td><td>&quot;2025-03-31 00:56:46.682534&quot;</td></tr><tr><td>&quot;Q6CCdCBVypg&quot;</td><td>&quot;@phoebely2900&quot;</td><td>&quot;Fantastic work!&quot;</td><td>&quot;2022-04-06T04:44:48Z&quot;</td><td>1</td><td>1</td><td>&quot;2025-03-31 00:56:46.682534&quot;</td></tr><tr><td>&quot;Q6CCdCBVypg&quot;</td><td>&quot;@chosenone2435&quot;</td><td>&quot;Great to see you back! You are…</td><td>&quot;2022-04-06T01:25:19Z&quot;</td><td>4</td><td>1</td><td>&quot;2025-03-31 00:56:46.682534&quot;</td></tr><tr><td>&quot;Q6CCdCBVypg&quot;</td><td>&quot;@joey546&quot;</td><td>&quot;Good to see you back! You stil…</td><td>&quot;2022-04-05T23:35:12Z&quot;</td><td>9</td><td>2</td><td>&quot;2025-03-31 00:56:46.682534&quot;</td></tr><tr><td>&quot;Q6CCdCBVypg&quot;</td><td>&quot;@MyFishWillKillU&quot;</td><td>&quot;Wow so cool&quot;</td><td>&quot;2022-04-05T22:53:18Z&quot;</td><td>4</td><td>0</td><td>&quot;2025-03-31 00:56:46.682534&quot;</td></tr></tbody></table></div>"
      ],
      "text/plain": [
       "shape: (5, 7)\n",
       "┌─────────────┬──────────────┬──────────────┬─────────────┬────────────┬─────────────┬─────────────┐\n",
       "│ VIDEO_ID    ┆ AUTHOR       ┆ TEXT         ┆ PUBLISHED_A ┆ LIKE_COUNT ┆ REPLY_COUNT ┆ VIDEO_TOP_L │\n",
       "│ ---         ┆ ---          ┆ ---          ┆ T           ┆ ---        ┆ ---         ┆ EVEL_COMMEN │\n",
       "│ str         ┆ str          ┆ str          ┆ ---         ┆ i64        ┆ i64         ┆ TS_COMMI…   │\n",
       "│             ┆              ┆              ┆ str         ┆            ┆             ┆ ---         │\n",
       "│             ┆              ┆              ┆             ┆            ┆             ┆ str         │\n",
       "╞═════════════╪══════════════╪══════════════╪═════════════╪════════════╪═════════════╪═════════════╡\n",
       "│ Q6CCdCBVypg ┆ @Poxlol      ┆ Underrated   ┆ 2022-04-23T ┆ 2          ┆ 1           ┆ 2025-03-31  │\n",
       "│             ┆              ┆              ┆ 03:21:11Z   ┆            ┆             ┆ 00:56:46.68 │\n",
       "│             ┆              ┆              ┆             ┆            ┆             ┆ 2534        │\n",
       "│ Q6CCdCBVypg ┆ @phoebely290 ┆ Fantastic    ┆ 2022-04-06T ┆ 1          ┆ 1           ┆ 2025-03-31  │\n",
       "│             ┆ 0            ┆ work!        ┆ 04:44:48Z   ┆            ┆             ┆ 00:56:46.68 │\n",
       "│             ┆              ┆              ┆             ┆            ┆             ┆ 2534        │\n",
       "│ Q6CCdCBVypg ┆ @chosenone24 ┆ Great to see ┆ 2022-04-06T ┆ 4          ┆ 1           ┆ 2025-03-31  │\n",
       "│             ┆ 35           ┆ you back!    ┆ 01:25:19Z   ┆            ┆             ┆ 00:56:46.68 │\n",
       "│             ┆              ┆ You are…     ┆             ┆            ┆             ┆ 2534        │\n",
       "│ Q6CCdCBVypg ┆ @joey546     ┆ Good to see  ┆ 2022-04-05T ┆ 9          ┆ 2           ┆ 2025-03-31  │\n",
       "│             ┆              ┆ you back!    ┆ 23:35:12Z   ┆            ┆             ┆ 00:56:46.68 │\n",
       "│             ┆              ┆ You stil…    ┆             ┆            ┆             ┆ 2534        │\n",
       "│ Q6CCdCBVypg ┆ @MyFishWillK ┆ Wow so cool  ┆ 2022-04-05T ┆ 4          ┆ 0           ┆ 2025-03-31  │\n",
       "│             ┆ illU         ┆              ┆ 22:53:18Z   ┆            ┆             ┆ 00:56:46.68 │\n",
       "│             ┆              ┆              ┆             ┆            ┆             ┆ 2534        │\n",
       "└─────────────┴──────────────┴──────────────┴─────────────┴────────────┴─────────────┴─────────────┘"
      ]
     },
     "execution_count": 25,
     "metadata": {},
     "output_type": "execute_result"
    }
   ],
   "source": [
    "# Get top-level comments from the same 5 videos\n",
    "comments_polars_df = client.get_top_level_comments_for_video_ids(videos_polars_df['VIDEO_ID'][0:5], key_format=\"upper\", output_format=\"polars\")\n",
    "print(f\"Collected {comments_polars_df.shape[0]} comments across {len(comments_polars_df['VIDEO_ID'][0:5].unique())} videos.\")\n",
    "print(f\"Remaining units in quota: {client.max_quota - client.quota_used}\")\n",
    "comments_polars_df.tail(5)"
   ]
  }
 ],
 "metadata": {
  "kernelspec": {
   "display_name": "scraper_tutorial_env",
   "language": "python",
   "name": "python3"
  },
  "language_info": {
   "codemirror_mode": {
    "name": "ipython",
    "version": 3
   },
   "file_extension": ".py",
   "mimetype": "text/x-python",
   "name": "python",
   "nbconvert_exporter": "python",
   "pygments_lexer": "ipython3",
   "version": "3.11.3"
  }
 },
 "nbformat": 4,
 "nbformat_minor": 2
}
