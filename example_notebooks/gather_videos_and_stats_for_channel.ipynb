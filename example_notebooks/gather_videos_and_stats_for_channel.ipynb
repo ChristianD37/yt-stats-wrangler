{
 "cells": [
  {
   "cell_type": "markdown",
   "metadata": {},
   "source": [
    "In this notebook, we will walk through the process of:\n",
    "\n",
    "1. Initializing the YouTubeDataClient with your API key.\n",
    "2. Collecting video metadata from one or multiple channels.\n",
    "3. Retrieving performance statistics for selected videos.\n",
    "4. Extracting top-level comments left for a set of videos.\n",
    "5. Extracting all comments left on a set of videos (top-level and replies)\n",
    "\n",
    "The outputs can be returned as raw dictionaries, Pandas DataFrames, or Polars DataFrames.\n",
    "You can select the format that best fits into your data pipeline or workflow.\n",
    "\n",
    "For demonstration purposes, the [CDCodes channel](https://www.youtube.com/@cdcodes) and [homedawg channel](https://www.youtube.com/@homedawg_yt) will be used. These belong to one of the developers of this package. You are free to subsitute these for a channel or channels of your choosing\n",
    "\n",
    "# Setup - Load API Key and YouTubeDataClient\n",
    "\n",
    "To generate an API key for your google developer account, please see the [official YouTube API v3 documentation](https://developers.google.com/youtube/v3/getting-started) for more information"
   ]
  },
  {
   "cell_type": "code",
   "execution_count": 56,
   "metadata": {},
   "outputs": [
    {
     "name": "stdout",
     "output_type": "stream",
     "text": [
      "Remaining units in quota: 10000\n"
     ]
    }
   ],
   "source": [
    "# Load environment variables\n",
    "import os\n",
    "from yt_stats_wrangler.api.client import YouTubeDataClient\n",
    "\n",
    "\n",
    "# Get your API key - recommended to store it as an environment variable\n",
    "YOUTUBE_API_KEY = os.getenv(\"YOUTUBE_API_V3_KEY\")\n",
    "\n",
    "if not YOUTUBE_API_KEY:\n",
    "    raise ValueError(\"Missing YOUTUBE_API_V3_KEY. it is recommended that you set it as an environment variable.\")\n",
    "\n",
    "# Create the client (with quoata limit set to the free trial of 10000 units)\n",
    "client = YouTubeDataClient(api_key=YOUTUBE_API_KEY, max_quota=10000)\n",
    "print(f\"Remaining units in quota: {client.get_remaining_quota()}\")"
   ]
  },
  {
   "cell_type": "markdown",
   "metadata": {},
   "source": [
    "# Gather Channel IDs using handles\n",
    "\n",
    "A channel ID will be the core component for gathering data on a channel and its videos. Using an accounts \"@\" handle, the channel ID can be extracted directly from the API itself."
   ]
  },
  {
   "cell_type": "code",
   "execution_count": 57,
   "metadata": {},
   "outputs": [
    {
     "name": "stdout",
     "output_type": "stream",
     "text": [
      "Resolving handle: @cdcodes\n",
      "Resolving handle: @homedawg_yt\n",
      "Channel ID for @cdcodes is UCB2mKxxXPK3X8SJkAc-db3A\n",
      "Channel IDs for ['@cdcodes', '@homedawg_yt'] are ['UCB2mKxxXPK3X8SJkAc-db3A', 'UC0pIFIthf92_8ku2NAYFG_Q']\n",
      "Remaining units in quota: 9700\n"
     ]
    }
   ],
   "source": [
    "# Channel ID(s) to test the package\n",
    "# Feel free to test the package with those of your choosing\n",
    "\n",
    "# Singular channel case - channel string\n",
    "yt_handle = \"@cdcodes\" #https://www.youtube.com/@cdcodes\n",
    "# Multiple channel - list of channel strings\n",
    "yt_handles =  [\"@cdcodes\", \"@homedawg_yt\"] # https://www.youtube.com/@cdcodes, https://www.youtube.com/@homedawg_yt\n",
    "\n",
    "# Extract channel IDs from both cases and print the result\n",
    "TEST_CHANNEL_ID = client.get_channel_id_from_handle(yt_handle)\n",
    "TEST_CHANNEL_IDS = client.get_channel_ids_from_handles(yt_handles)\n",
    "print(f\"Channel ID for {yt_handle} is {TEST_CHANNEL_ID}\")\n",
    "print(f\"Channel IDs for {yt_handles} are {TEST_CHANNEL_IDS}\")\n",
    "print(f\"Remaining units in quota: {client.get_remaining_quota()}\")"
   ]
  },
  {
   "cell_type": "markdown",
   "metadata": {},
   "source": [
    "# Gather High-Level Channel Summaries\n",
    "\n",
    "Series of functions that can take a YouTube channel ID and gather the following\n",
    "\n",
    "+ Name of the Channel\n",
    "+ Subscribers\n",
    "+ Number of Uploads\n",
    "+ Total Channel Views\n",
    "\n",
    "## Get summaries for a singe channel\n",
    "\n",
    "### Raw output from YouTube API V3"
   ]
  },
  {
   "cell_type": "code",
   "execution_count": 58,
   "metadata": {},
   "outputs": [
    {
     "name": "stdout",
     "output_type": "stream",
     "text": [
      "Remaining units in quota: 9699\n"
     ]
    },
    {
     "data": {
      "text/plain": [
       "[{'channelId': 'UCB2mKxxXPK3X8SJkAc-db3A',\n",
       "  'channelName': 'CDcodes',\n",
       "  'subscribers': 3620,\n",
       "  'totalChannelViews': 480975,\n",
       "  'totalPosts': 18,\n",
       "  'channelStats_commit_time': '2025-04-03 01:00:34.703539'}]"
      ]
     },
     "execution_count": 58,
     "metadata": {},
     "output_type": "execute_result"
    }
   ],
   "source": [
    "# Get high-level statistics for a single channel\n",
    "channel_stats = client.get_channel_statistics(TEST_CHANNEL_ID, key_format=\"raw\", output_format=\"raw\")\n",
    "print(f\"Remaining units in quota: {client.get_remaining_quota()}\")\n",
    "channel_stats"
   ]
  },
  {
   "cell_type": "markdown",
   "metadata": {},
   "source": [
    "### Pandas output with modified column names"
   ]
  },
  {
   "cell_type": "code",
   "execution_count": 59,
   "metadata": {},
   "outputs": [
    {
     "name": "stdout",
     "output_type": "stream",
     "text": [
      "Remaining units in quota: 9698\n"
     ]
    },
    {
     "data": {
      "text/html": [
       "<div>\n",
       "<style scoped>\n",
       "    .dataframe tbody tr th:only-of-type {\n",
       "        vertical-align: middle;\n",
       "    }\n",
       "\n",
       "    .dataframe tbody tr th {\n",
       "        vertical-align: top;\n",
       "    }\n",
       "\n",
       "    .dataframe thead th {\n",
       "        text-align: right;\n",
       "    }\n",
       "</style>\n",
       "<table border=\"1\" class=\"dataframe\">\n",
       "  <thead>\n",
       "    <tr style=\"text-align: right;\">\n",
       "      <th></th>\n",
       "      <th>CHANNEL_ID</th>\n",
       "      <th>CHANNEL_NAME</th>\n",
       "      <th>SUBSCRIBERS</th>\n",
       "      <th>TOTAL_CHANNEL_VIEWS</th>\n",
       "      <th>TOTAL_POSTS</th>\n",
       "      <th>CHANNEL_STATS_COMMIT_TIME</th>\n",
       "    </tr>\n",
       "  </thead>\n",
       "  <tbody>\n",
       "    <tr>\n",
       "      <th>0</th>\n",
       "      <td>UCB2mKxxXPK3X8SJkAc-db3A</td>\n",
       "      <td>CDcodes</td>\n",
       "      <td>3620</td>\n",
       "      <td>480975</td>\n",
       "      <td>18</td>\n",
       "      <td>2025-04-03 01:00:34.806481</td>\n",
       "    </tr>\n",
       "  </tbody>\n",
       "</table>\n",
       "</div>"
      ],
      "text/plain": [
       "                 CHANNEL_ID CHANNEL_NAME  SUBSCRIBERS  TOTAL_CHANNEL_VIEWS  \\\n",
       "0  UCB2mKxxXPK3X8SJkAc-db3A      CDcodes         3620               480975   \n",
       "\n",
       "   TOTAL_POSTS   CHANNEL_STATS_COMMIT_TIME  \n",
       "0           18  2025-04-03 01:00:34.806481  "
      ]
     },
     "execution_count": 59,
     "metadata": {},
     "output_type": "execute_result"
    }
   ],
   "source": [
    "# Get high-level statistics for a single channel\n",
    "channel_stats_pandas_df = client.get_channel_statistics(TEST_CHANNEL_ID, key_format=\"upper\", output_format=\"pandas\")\n",
    "print(f\"Remaining units in quota: {client.get_remaining_quota()}\")\n",
    "channel_stats_pandas_df"
   ]
  },
  {
   "cell_type": "markdown",
   "metadata": {},
   "source": [
    "### Polars output with modified column names"
   ]
  },
  {
   "cell_type": "code",
   "execution_count": 60,
   "metadata": {},
   "outputs": [
    {
     "name": "stdout",
     "output_type": "stream",
     "text": [
      "Remaining units in quota: 9697\n"
     ]
    },
    {
     "data": {
      "text/html": [
       "<div><style>\n",
       ".dataframe > thead > tr,\n",
       ".dataframe > tbody > tr {\n",
       "  text-align: right;\n",
       "  white-space: pre-wrap;\n",
       "}\n",
       "</style>\n",
       "<small>shape: (1, 6)</small><table border=\"1\" class=\"dataframe\"><thead><tr><th>channel_id</th><th>channel_name</th><th>subscribers</th><th>total_channel_views</th><th>total_posts</th><th>channel_stats_commit_time</th></tr><tr><td>str</td><td>str</td><td>i64</td><td>i64</td><td>i64</td><td>str</td></tr></thead><tbody><tr><td>&quot;UCB2mKxxXPK3X8SJkAc-db3A&quot;</td><td>&quot;CDcodes&quot;</td><td>3620</td><td>480975</td><td>18</td><td>&quot;2025-04-03 01:00:34.935216&quot;</td></tr></tbody></table></div>"
      ],
      "text/plain": [
       "shape: (1, 6)\n",
       "┌──────────────────┬──────────────┬─────────────┬──────────────────┬─────────────┬─────────────────┐\n",
       "│ channel_id       ┆ channel_name ┆ subscribers ┆ total_channel_vi ┆ total_posts ┆ channel_stats_c │\n",
       "│ ---              ┆ ---          ┆ ---         ┆ ews              ┆ ---         ┆ ommit_time      │\n",
       "│ str              ┆ str          ┆ i64         ┆ ---              ┆ i64         ┆ ---             │\n",
       "│                  ┆              ┆             ┆ i64              ┆             ┆ str             │\n",
       "╞══════════════════╪══════════════╪═════════════╪══════════════════╪═════════════╪═════════════════╡\n",
       "│ UCB2mKxxXPK3X8SJ ┆ CDcodes      ┆ 3620        ┆ 480975           ┆ 18          ┆ 2025-04-03      │\n",
       "│ kAc-db3A         ┆              ┆             ┆                  ┆             ┆ 01:00:34.935216 │\n",
       "└──────────────────┴──────────────┴─────────────┴──────────────────┴─────────────┴─────────────────┘"
      ]
     },
     "execution_count": 60,
     "metadata": {},
     "output_type": "execute_result"
    }
   ],
   "source": [
    "# Get high-level statistics for a single channel\n",
    "channel_stats_polars_df = client.get_channel_statistics(TEST_CHANNEL_ID, key_format=\"lower\", output_format=\"polars\")\n",
    "print(f\"Remaining units in quota: {client.get_remaining_quota()}\")\n",
    "channel_stats_polars_df"
   ]
  },
  {
   "cell_type": "markdown",
   "metadata": {},
   "source": [
    "## Get summaries for a multiple channels at a time\n",
    "\n",
    "### Raw output from YouTube API V3"
   ]
  },
  {
   "cell_type": "code",
   "execution_count": 61,
   "metadata": {},
   "outputs": [
    {
     "name": "stdout",
     "output_type": "stream",
     "text": [
      "Remaining units in quota: 9695\n"
     ]
    },
    {
     "data": {
      "text/plain": [
       "[{'channelId': 'UCB2mKxxXPK3X8SJkAc-db3A',\n",
       "  'channelName': 'CDcodes',\n",
       "  'subscribers': 3620,\n",
       "  'totalChannelViews': 480975,\n",
       "  'totalPosts': 18,\n",
       "  'channelStats_commit_time': '2025-04-03 01:00:35.035136'},\n",
       " {'channelId': 'UC0pIFIthf92_8ku2NAYFG_Q',\n",
       "  'channelName': 'homedawg',\n",
       "  'subscribers': 36,\n",
       "  'totalChannelViews': 523,\n",
       "  'totalPosts': 2,\n",
       "  'channelStats_commit_time': '2025-04-03 01:00:35.135866'}]"
      ]
     },
     "execution_count": 61,
     "metadata": {},
     "output_type": "execute_result"
    }
   ],
   "source": [
    "# Get high-level statistics for a single channel\n",
    "channels_stats = client.get_channel_statistics_for_channels(TEST_CHANNEL_IDS, key_format=\"raw\", output_format=\"raw\")\n",
    "print(f\"Remaining units in quota: {client.get_remaining_quota()}\")\n",
    "channels_stats"
   ]
  },
  {
   "cell_type": "code",
   "execution_count": 62,
   "metadata": {},
   "outputs": [
    {
     "name": "stdout",
     "output_type": "stream",
     "text": [
      "Remaining units in quota: 9693\n"
     ]
    },
    {
     "data": {
      "text/html": [
       "<div>\n",
       "<style scoped>\n",
       "    .dataframe tbody tr th:only-of-type {\n",
       "        vertical-align: middle;\n",
       "    }\n",
       "\n",
       "    .dataframe tbody tr th {\n",
       "        vertical-align: top;\n",
       "    }\n",
       "\n",
       "    .dataframe thead th {\n",
       "        text-align: right;\n",
       "    }\n",
       "</style>\n",
       "<table border=\"1\" class=\"dataframe\">\n",
       "  <thead>\n",
       "    <tr style=\"text-align: right;\">\n",
       "      <th></th>\n",
       "      <th>channel_id</th>\n",
       "      <th>channel_name</th>\n",
       "      <th>subscribers</th>\n",
       "      <th>total_channel_views</th>\n",
       "      <th>total_posts</th>\n",
       "      <th>channel_stats_commit_time</th>\n",
       "    </tr>\n",
       "  </thead>\n",
       "  <tbody>\n",
       "    <tr>\n",
       "      <th>0</th>\n",
       "      <td>UCB2mKxxXPK3X8SJkAc-db3A</td>\n",
       "      <td>CDcodes</td>\n",
       "      <td>3620</td>\n",
       "      <td>480975</td>\n",
       "      <td>18</td>\n",
       "      <td>2025-04-03 01:00:35.264598</td>\n",
       "    </tr>\n",
       "    <tr>\n",
       "      <th>1</th>\n",
       "      <td>UC0pIFIthf92_8ku2NAYFG_Q</td>\n",
       "      <td>homedawg</td>\n",
       "      <td>36</td>\n",
       "      <td>523</td>\n",
       "      <td>2</td>\n",
       "      <td>2025-04-03 01:00:35.352362</td>\n",
       "    </tr>\n",
       "  </tbody>\n",
       "</table>\n",
       "</div>"
      ],
      "text/plain": [
       "                 channel_id channel_name  subscribers  total_channel_views  \\\n",
       "0  UCB2mKxxXPK3X8SJkAc-db3A      CDcodes         3620               480975   \n",
       "1  UC0pIFIthf92_8ku2NAYFG_Q     homedawg           36                  523   \n",
       "\n",
       "   total_posts   channel_stats_commit_time  \n",
       "0           18  2025-04-03 01:00:35.264598  \n",
       "1            2  2025-04-03 01:00:35.352362  "
      ]
     },
     "execution_count": 62,
     "metadata": {},
     "output_type": "execute_result"
    }
   ],
   "source": [
    "channel_stats_pandas_df = client.get_channel_statistics_for_channels(TEST_CHANNEL_IDS, key_format=\"lower\", output_format=\"pandas\")\n",
    "print(f\"Remaining units in quota: {client.get_remaining_quota()}\")\n",
    "channel_stats_pandas_df"
   ]
  },
  {
   "cell_type": "code",
   "execution_count": 63,
   "metadata": {},
   "outputs": [
    {
     "name": "stdout",
     "output_type": "stream",
     "text": [
      "Remaining units in quota: 9691\n"
     ]
    },
    {
     "data": {
      "text/html": [
       "<div><style>\n",
       ".dataframe > thead > tr,\n",
       ".dataframe > tbody > tr {\n",
       "  text-align: right;\n",
       "  white-space: pre-wrap;\n",
       "}\n",
       "</style>\n",
       "<small>shape: (2, 6)</small><table border=\"1\" class=\"dataframe\"><thead><tr><th>CHANNEL_ID</th><th>CHANNEL_NAME</th><th>SUBSCRIBERS</th><th>TOTAL_CHANNEL_VIEWS</th><th>TOTAL_POSTS</th><th>CHANNEL_STATS_COMMIT_TIME</th></tr><tr><td>str</td><td>str</td><td>i64</td><td>i64</td><td>i64</td><td>str</td></tr></thead><tbody><tr><td>&quot;UCB2mKxxXPK3X8SJkAc-db3A&quot;</td><td>&quot;CDcodes&quot;</td><td>3620</td><td>480975</td><td>18</td><td>&quot;2025-04-03 01:00:35.457903&quot;</td></tr><tr><td>&quot;UC0pIFIthf92_8ku2NAYFG_Q&quot;</td><td>&quot;homedawg&quot;</td><td>36</td><td>523</td><td>2</td><td>&quot;2025-04-03 01:00:35.569604&quot;</td></tr></tbody></table></div>"
      ],
      "text/plain": [
       "shape: (2, 6)\n",
       "┌──────────────────┬──────────────┬─────────────┬──────────────────┬─────────────┬─────────────────┐\n",
       "│ CHANNEL_ID       ┆ CHANNEL_NAME ┆ SUBSCRIBERS ┆ TOTAL_CHANNEL_VI ┆ TOTAL_POSTS ┆ CHANNEL_STATS_C │\n",
       "│ ---              ┆ ---          ┆ ---         ┆ EWS              ┆ ---         ┆ OMMIT_TIME      │\n",
       "│ str              ┆ str          ┆ i64         ┆ ---              ┆ i64         ┆ ---             │\n",
       "│                  ┆              ┆             ┆ i64              ┆             ┆ str             │\n",
       "╞══════════════════╪══════════════╪═════════════╪══════════════════╪═════════════╪═════════════════╡\n",
       "│ UCB2mKxxXPK3X8SJ ┆ CDcodes      ┆ 3620        ┆ 480975           ┆ 18          ┆ 2025-04-03      │\n",
       "│ kAc-db3A         ┆              ┆             ┆                  ┆             ┆ 01:00:35.457903 │\n",
       "│ UC0pIFIthf92_8ku ┆ homedawg     ┆ 36          ┆ 523              ┆ 2           ┆ 2025-04-03      │\n",
       "│ 2NAYFG_Q         ┆              ┆             ┆                  ┆             ┆ 01:00:35.569604 │\n",
       "└──────────────────┴──────────────┴─────────────┴──────────────────┴─────────────┴─────────────────┘"
      ]
     },
     "execution_count": 63,
     "metadata": {},
     "output_type": "execute_result"
    }
   ],
   "source": [
    "channel_stats_polars_df = client.get_channel_statistics_for_channels(TEST_CHANNEL_IDS, key_format=\"upper\", output_format=\"polars\")\n",
    "print(f\"Remaining units in quota: {client.get_remaining_quota()}\")\n",
    "channel_stats_polars_df"
   ]
  },
  {
   "cell_type": "markdown",
   "metadata": {},
   "source": [
    "# Gather Video IDs and Metadata\n",
    "\n",
    "Series of functions that can take a YouTube channel ID or IDs and gather the following\n",
    "\n",
    "+ Titles, Descriptions, and upload dates for public videos on a YouTube channle or channels\n",
    "+ Video IDs that can be passed to other methods to collect descriptive data\n",
    "\n",
    "## Gather video IDs, titles and descriptions from a single channel"
   ]
  },
  {
   "cell_type": "markdown",
   "metadata": {},
   "source": [
    "### Raw output from YouTube API V3"
   ]
  },
  {
   "cell_type": "code",
   "execution_count": 64,
   "metadata": {},
   "outputs": [
    {
     "name": "stdout",
     "output_type": "stream",
     "text": [
      "Collected 18 videos.\n",
      "[{'channelId': 'UCB2mKxxXPK3X8SJkAc-db3A', 'videoId': '72Ef65B65JA', 'publishedAt': '2025-02-09T21:01:50Z', 'title': 'Python DeepSeek Tutorial: Installing DeepSeek Locally and Interfacing with Python', 'description': \"In this tutorial, we'll be installing DeepSeek onto our local machine, and then interfacing with the LLM through a Python script. I'll also run through a few very basic use cases that can give you an idea of how you might process data and automate tasks through an LLM.\\n\\nCode and Datasets can be found here: https://github.com/ChristianD37/YoutubeTutorials/tree/master/DeepSeekPython\\n\\nollama download: https://ollama.com/download\\ndeepseek-r1 page: https://ollama.com/library/deepseek-r1\\n\\n00:00 - Introduction\\n00:56 - Installing ollama and DeepSeek locally\\n02:05 - Interfacing with DeepSeek through Python\\n03:46 - Cleaner Interface Function\\n06:54 - Sentiment Analysis on YouTube Comments\\n11:24 - Pokemon 3 to 5 sentence Stat Summaries\", 'channelTitle': 'CDcodes', 'videoDetails_commit_time': '2025-04-03 01:00:35.788641'}]\n",
      "Remaining units in quota: 9689\n"
     ]
    }
   ],
   "source": [
    "# Get all public videos from a channel and print out in raw form\n",
    "videos = client.get_all_video_details_for_channel(TEST_CHANNEL_ID, key_format=\"raw\", output_format='raw')\n",
    "print(f\"Collected {len(videos)} videos.\")\n",
    "print(videos[:1])  # Preview first  result\n",
    "print(f\"Remaining units in quota: {client.get_remaining_quota()}\")"
   ]
  },
  {
   "cell_type": "markdown",
   "metadata": {},
   "source": [
    "### Pandas output with modified column names"
   ]
  },
  {
   "cell_type": "code",
   "execution_count": 65,
   "metadata": {},
   "outputs": [
    {
     "name": "stdout",
     "output_type": "stream",
     "text": [
      "Collected 18 videos.\n",
      "Remaining units in quota: 9687\n"
     ]
    },
    {
     "data": {
      "text/html": [
       "<div>\n",
       "<style scoped>\n",
       "    .dataframe tbody tr th:only-of-type {\n",
       "        vertical-align: middle;\n",
       "    }\n",
       "\n",
       "    .dataframe tbody tr th {\n",
       "        vertical-align: top;\n",
       "    }\n",
       "\n",
       "    .dataframe thead th {\n",
       "        text-align: right;\n",
       "    }\n",
       "</style>\n",
       "<table border=\"1\" class=\"dataframe\">\n",
       "  <thead>\n",
       "    <tr style=\"text-align: right;\">\n",
       "      <th></th>\n",
       "      <th>CHANNEL_ID</th>\n",
       "      <th>VIDEO_ID</th>\n",
       "      <th>PUBLISHED_AT</th>\n",
       "      <th>TITLE</th>\n",
       "      <th>DESCRIPTION</th>\n",
       "      <th>CHANNEL_TITLE</th>\n",
       "      <th>VIDEO_DETAILS_COMMIT_TIME</th>\n",
       "    </tr>\n",
       "  </thead>\n",
       "  <tbody>\n",
       "    <tr>\n",
       "      <th>0</th>\n",
       "      <td>UCB2mKxxXPK3X8SJkAc-db3A</td>\n",
       "      <td>72Ef65B65JA</td>\n",
       "      <td>2025-02-09T21:01:50Z</td>\n",
       "      <td>Python DeepSeek Tutorial: Installing DeepSeek ...</td>\n",
       "      <td>In this tutorial, we'll be installing DeepSeek...</td>\n",
       "      <td>CDcodes</td>\n",
       "      <td>2025-04-03 01:00:36.031221</td>\n",
       "    </tr>\n",
       "    <tr>\n",
       "      <th>1</th>\n",
       "      <td>UCB2mKxxXPK3X8SJkAc-db3A</td>\n",
       "      <td>S3dlYi7LPk0</td>\n",
       "      <td>2024-08-18T23:14:38Z</td>\n",
       "      <td>Thank You Pygame</td>\n",
       "      <td>An ode to pygame, the quirky little python mod...</td>\n",
       "      <td>CDcodes</td>\n",
       "      <td>2025-04-03 01:00:36.031221</td>\n",
       "    </tr>\n",
       "    <tr>\n",
       "      <th>2</th>\n",
       "      <td>UCB2mKxxXPK3X8SJkAc-db3A</td>\n",
       "      <td>5OoukJNz3YQ</td>\n",
       "      <td>2023-05-30T00:05:58Z</td>\n",
       "      <td>Beginner Python Project From Scratch: Web Scra...</td>\n",
       "      <td>In this video, I'll be walking you through a r...</td>\n",
       "      <td>CDcodes</td>\n",
       "      <td>2025-04-03 01:00:36.031221</td>\n",
       "    </tr>\n",
       "    <tr>\n",
       "      <th>3</th>\n",
       "      <td>UCB2mKxxXPK3X8SJkAc-db3A</td>\n",
       "      <td>ruISjcokmuk</td>\n",
       "      <td>2022-11-09T01:38:55Z</td>\n",
       "      <td>Beginner Python Project From Scratch: Rock Pap...</td>\n",
       "      <td>Follow along with me on replit: https://replit...</td>\n",
       "      <td>CDcodes</td>\n",
       "      <td>2025-04-03 01:00:36.031221</td>\n",
       "    </tr>\n",
       "    <tr>\n",
       "      <th>4</th>\n",
       "      <td>UCB2mKxxXPK3X8SJkAc-db3A</td>\n",
       "      <td>Q6CCdCBVypg</td>\n",
       "      <td>2022-04-05T22:45:48Z</td>\n",
       "      <td>Beginner Python Project From Scratch: Tic Tac Toe</td>\n",
       "      <td>Follow along with me on replit: https://replit...</td>\n",
       "      <td>CDcodes</td>\n",
       "      <td>2025-04-03 01:00:36.031221</td>\n",
       "    </tr>\n",
       "  </tbody>\n",
       "</table>\n",
       "</div>"
      ],
      "text/plain": [
       "                 CHANNEL_ID     VIDEO_ID          PUBLISHED_AT  \\\n",
       "0  UCB2mKxxXPK3X8SJkAc-db3A  72Ef65B65JA  2025-02-09T21:01:50Z   \n",
       "1  UCB2mKxxXPK3X8SJkAc-db3A  S3dlYi7LPk0  2024-08-18T23:14:38Z   \n",
       "2  UCB2mKxxXPK3X8SJkAc-db3A  5OoukJNz3YQ  2023-05-30T00:05:58Z   \n",
       "3  UCB2mKxxXPK3X8SJkAc-db3A  ruISjcokmuk  2022-11-09T01:38:55Z   \n",
       "4  UCB2mKxxXPK3X8SJkAc-db3A  Q6CCdCBVypg  2022-04-05T22:45:48Z   \n",
       "\n",
       "                                               TITLE  \\\n",
       "0  Python DeepSeek Tutorial: Installing DeepSeek ...   \n",
       "1                                   Thank You Pygame   \n",
       "2  Beginner Python Project From Scratch: Web Scra...   \n",
       "3  Beginner Python Project From Scratch: Rock Pap...   \n",
       "4  Beginner Python Project From Scratch: Tic Tac Toe   \n",
       "\n",
       "                                         DESCRIPTION CHANNEL_TITLE  \\\n",
       "0  In this tutorial, we'll be installing DeepSeek...       CDcodes   \n",
       "1  An ode to pygame, the quirky little python mod...       CDcodes   \n",
       "2  In this video, I'll be walking you through a r...       CDcodes   \n",
       "3  Follow along with me on replit: https://replit...       CDcodes   \n",
       "4  Follow along with me on replit: https://replit...       CDcodes   \n",
       "\n",
       "    VIDEO_DETAILS_COMMIT_TIME  \n",
       "0  2025-04-03 01:00:36.031221  \n",
       "1  2025-04-03 01:00:36.031221  \n",
       "2  2025-04-03 01:00:36.031221  \n",
       "3  2025-04-03 01:00:36.031221  \n",
       "4  2025-04-03 01:00:36.031221  "
      ]
     },
     "execution_count": 65,
     "metadata": {},
     "output_type": "execute_result"
    }
   ],
   "source": [
    "# Get all public videos from a channel and output a pandas dataframe with formatted column names\n",
    "videos_pandas_df = client.get_all_video_details_for_channel(TEST_CHANNEL_ID, key_format=\"upper\", output_format='pandas')\n",
    "print(f\"Collected {videos_pandas_df.shape[0]} videos.\")\n",
    "print(f\"Remaining units in quota: {client.get_remaining_quota()}\")\n",
    "videos_pandas_df.head(5)  # Preview first few results"
   ]
  },
  {
   "cell_type": "markdown",
   "metadata": {},
   "source": [
    "### Polars output with modified column names"
   ]
  },
  {
   "cell_type": "code",
   "execution_count": 66,
   "metadata": {},
   "outputs": [
    {
     "name": "stdout",
     "output_type": "stream",
     "text": [
      "Collected 18 videos.\n",
      "Remaining units in quota: 9685\n"
     ]
    },
    {
     "data": {
      "text/html": [
       "<div><style>\n",
       ".dataframe > thead > tr,\n",
       ".dataframe > tbody > tr {\n",
       "  text-align: right;\n",
       "  white-space: pre-wrap;\n",
       "}\n",
       "</style>\n",
       "<small>shape: (5, 7)</small><table border=\"1\" class=\"dataframe\"><thead><tr><th>channel_id</th><th>video_id</th><th>published_at</th><th>title</th><th>description</th><th>channel_title</th><th>video_details_commit_time</th></tr><tr><td>str</td><td>str</td><td>str</td><td>str</td><td>str</td><td>str</td><td>str</td></tr></thead><tbody><tr><td>&quot;UCB2mKxxXPK3X8SJkAc-db3A&quot;</td><td>&quot;72Ef65B65JA&quot;</td><td>&quot;2025-02-09T21:01:50Z&quot;</td><td>&quot;Python DeepSeek Tutorial: Inst…</td><td>&quot;In this tutorial, we&#x27;ll be ins…</td><td>&quot;CDcodes&quot;</td><td>&quot;2025-04-03 01:00:36.281805&quot;</td></tr><tr><td>&quot;UCB2mKxxXPK3X8SJkAc-db3A&quot;</td><td>&quot;S3dlYi7LPk0&quot;</td><td>&quot;2024-08-18T23:14:38Z&quot;</td><td>&quot;Thank You Pygame&quot;</td><td>&quot;An ode to pygame, the quirky l…</td><td>&quot;CDcodes&quot;</td><td>&quot;2025-04-03 01:00:36.281805&quot;</td></tr><tr><td>&quot;UCB2mKxxXPK3X8SJkAc-db3A&quot;</td><td>&quot;5OoukJNz3YQ&quot;</td><td>&quot;2023-05-30T00:05:58Z&quot;</td><td>&quot;Beginner Python Project From S…</td><td>&quot;In this video, I&#x27;ll be walking…</td><td>&quot;CDcodes&quot;</td><td>&quot;2025-04-03 01:00:36.281805&quot;</td></tr><tr><td>&quot;UCB2mKxxXPK3X8SJkAc-db3A&quot;</td><td>&quot;ruISjcokmuk&quot;</td><td>&quot;2022-11-09T01:38:55Z&quot;</td><td>&quot;Beginner Python Project From S…</td><td>&quot;Follow along with me on replit…</td><td>&quot;CDcodes&quot;</td><td>&quot;2025-04-03 01:00:36.281805&quot;</td></tr><tr><td>&quot;UCB2mKxxXPK3X8SJkAc-db3A&quot;</td><td>&quot;Q6CCdCBVypg&quot;</td><td>&quot;2022-04-05T22:45:48Z&quot;</td><td>&quot;Beginner Python Project From S…</td><td>&quot;Follow along with me on replit…</td><td>&quot;CDcodes&quot;</td><td>&quot;2025-04-03 01:00:36.281805&quot;</td></tr></tbody></table></div>"
      ],
      "text/plain": [
       "shape: (5, 7)\n",
       "┌──────────────┬─────────────┬─────────────┬─────────────┬─────────────┬─────────────┬─────────────┐\n",
       "│ channel_id   ┆ video_id    ┆ published_a ┆ title       ┆ description ┆ channel_tit ┆ video_detai │\n",
       "│ ---          ┆ ---         ┆ t           ┆ ---         ┆ ---         ┆ le          ┆ ls_commit_t │\n",
       "│ str          ┆ str         ┆ ---         ┆ str         ┆ str         ┆ ---         ┆ ime         │\n",
       "│              ┆             ┆ str         ┆             ┆             ┆ str         ┆ ---         │\n",
       "│              ┆             ┆             ┆             ┆             ┆             ┆ str         │\n",
       "╞══════════════╪═════════════╪═════════════╪═════════════╪═════════════╪═════════════╪═════════════╡\n",
       "│ UCB2mKxxXPK3 ┆ 72Ef65B65JA ┆ 2025-02-09T ┆ Python      ┆ In this     ┆ CDcodes     ┆ 2025-04-03  │\n",
       "│ X8SJkAc-db3A ┆             ┆ 21:01:50Z   ┆ DeepSeek    ┆ tutorial,   ┆             ┆ 01:00:36.28 │\n",
       "│              ┆             ┆             ┆ Tutorial:   ┆ we'll be    ┆             ┆ 1805        │\n",
       "│              ┆             ┆             ┆ Inst…       ┆ ins…        ┆             ┆             │\n",
       "│ UCB2mKxxXPK3 ┆ S3dlYi7LPk0 ┆ 2024-08-18T ┆ Thank You   ┆ An ode to   ┆ CDcodes     ┆ 2025-04-03  │\n",
       "│ X8SJkAc-db3A ┆             ┆ 23:14:38Z   ┆ Pygame      ┆ pygame, the ┆             ┆ 01:00:36.28 │\n",
       "│              ┆             ┆             ┆             ┆ quirky l…   ┆             ┆ 1805        │\n",
       "│ UCB2mKxxXPK3 ┆ 5OoukJNz3YQ ┆ 2023-05-30T ┆ Beginner    ┆ In this     ┆ CDcodes     ┆ 2025-04-03  │\n",
       "│ X8SJkAc-db3A ┆             ┆ 00:05:58Z   ┆ Python      ┆ video, I'll ┆             ┆ 01:00:36.28 │\n",
       "│              ┆             ┆             ┆ Project     ┆ be walking… ┆             ┆ 1805        │\n",
       "│              ┆             ┆             ┆ From S…     ┆             ┆             ┆             │\n",
       "│ UCB2mKxxXPK3 ┆ ruISjcokmuk ┆ 2022-11-09T ┆ Beginner    ┆ Follow      ┆ CDcodes     ┆ 2025-04-03  │\n",
       "│ X8SJkAc-db3A ┆             ┆ 01:38:55Z   ┆ Python      ┆ along with  ┆             ┆ 01:00:36.28 │\n",
       "│              ┆             ┆             ┆ Project     ┆ me on       ┆             ┆ 1805        │\n",
       "│              ┆             ┆             ┆ From S…     ┆ replit…     ┆             ┆             │\n",
       "│ UCB2mKxxXPK3 ┆ Q6CCdCBVypg ┆ 2022-04-05T ┆ Beginner    ┆ Follow      ┆ CDcodes     ┆ 2025-04-03  │\n",
       "│ X8SJkAc-db3A ┆             ┆ 22:45:48Z   ┆ Python      ┆ along with  ┆             ┆ 01:00:36.28 │\n",
       "│              ┆             ┆             ┆ Project     ┆ me on       ┆             ┆ 1805        │\n",
       "│              ┆             ┆             ┆ From S…     ┆ replit…     ┆             ┆             │\n",
       "└──────────────┴─────────────┴─────────────┴─────────────┴─────────────┴─────────────┴─────────────┘"
      ]
     },
     "execution_count": 66,
     "metadata": {},
     "output_type": "execute_result"
    }
   ],
   "source": [
    "# Get all public videos from a channel and output a pandas dataframe with formatted column names\n",
    "videos_polars_df = client.get_all_video_details_for_channel(TEST_CHANNEL_ID, key_format=\"lower\", output_format='polars')\n",
    "print(f\"Collected {videos_polars_df.shape[0]} videos.\")\n",
    "print(f\"Remaining units in quota: {client.get_remaining_quota()}\")\n",
    "videos_polars_df.head(5)  # Preview first few results"
   ]
  },
  {
   "cell_type": "markdown",
   "metadata": {},
   "source": [
    "## Gather video IDs, titles and descriptions from multiple channels at a time"
   ]
  },
  {
   "cell_type": "markdown",
   "metadata": {},
   "source": [
    "### Raw output from YouTube API V3"
   ]
  },
  {
   "cell_type": "code",
   "execution_count": 67,
   "metadata": {},
   "outputs": [
    {
     "name": "stdout",
     "output_type": "stream",
     "text": [
      "Fetching videos for channel: UCB2mKxxXPK3X8SJkAc-db3A\n",
      "Fetching videos for channel: UC0pIFIthf92_8ku2NAYFG_Q\n",
      "Collected 20 videos.\n",
      "Remaining units in quota: 9681\n"
     ]
    },
    {
     "data": {
      "text/plain": [
       "{'channelId': 'UC0pIFIthf92_8ku2NAYFG_Q',\n",
       " 'videoId': 'vDm8pvsqFY8',\n",
       " 'publishedAt': '2024-02-14T09:41:13Z',\n",
       " 'title': 'What Competitive Super Smash Bros Taught Me (About Life and Myself)',\n",
       " 'description': \"Some reflections on personal development that occurred through my journey as an amateur competitor in Super Smash Bros Melee for the Nintendo Gamecube.\\n\\n\\nTimestamps\\n00:00:00 - Introduction\\n00:01:26 - Lesson 1~ Improvement is a game (and you can level up)\\n00:06:10 - Lesson 2~ You're an obstacle in someone else's story\\n00:08:45 - Lesson 3~ Losing sucks, detaching is easier\\n00:11:04 - Lesson 4~ Win or lose, vulnerability is cool\\n00:14:21 - Lesson 5~ Anyone can step up and be a leader\\n00:17:08 - Final Remarks\\n\\nYou should totally play Melee if you don't already, checkout Slippi:\\nhttps://slippi.gg/\\n\\nMusic in order of appearance\\nMii Channel (Editing)\\nMenu - Super Smash Bros Melee\\n7PM - Animal Crossing New Leaf\\nIt's Raining Somewhere Else - Toby Fox\\nMenu 2 - Super Smash Bros Melee\\nMother 2 - Super Smash Bros Melee\\nTrophy - Super Smash Bros Melee\\nAll Star Rest Area - Super Smash Bros Melee\",\n",
       " 'channelTitle': 'homedawg',\n",
       " 'videoDetails_commit_time': '2025-04-03 01:00:36.724129'}"
      ]
     },
     "execution_count": 67,
     "metadata": {},
     "output_type": "execute_result"
    }
   ],
   "source": [
    "# Get all public videos from a channel and print out in raw form\n",
    "videos = client.get_all_video_details_for_channels(TEST_CHANNEL_IDS, key_format=\"raw\", output_format='raw')\n",
    "print(f\"Collected {len(videos)} videos.\")\n",
    "print(f\"Remaining units in quota: {client.get_remaining_quota()}\")\n",
    "videos[-1]  # Preview tail of the results"
   ]
  },
  {
   "cell_type": "markdown",
   "metadata": {},
   "source": [
    "### Pandas output with modified column names"
   ]
  },
  {
   "cell_type": "code",
   "execution_count": 68,
   "metadata": {},
   "outputs": [
    {
     "name": "stdout",
     "output_type": "stream",
     "text": [
      "Fetching videos for channel: UCB2mKxxXPK3X8SJkAc-db3A\n",
      "Fetching videos for channel: UC0pIFIthf92_8ku2NAYFG_Q\n",
      "Collected 20 videos.\n",
      "Remaining units in quota: 9677\n"
     ]
    },
    {
     "data": {
      "text/html": [
       "<div>\n",
       "<style scoped>\n",
       "    .dataframe tbody tr th:only-of-type {\n",
       "        vertical-align: middle;\n",
       "    }\n",
       "\n",
       "    .dataframe tbody tr th {\n",
       "        vertical-align: top;\n",
       "    }\n",
       "\n",
       "    .dataframe thead th {\n",
       "        text-align: right;\n",
       "    }\n",
       "</style>\n",
       "<table border=\"1\" class=\"dataframe\">\n",
       "  <thead>\n",
       "    <tr style=\"text-align: right;\">\n",
       "      <th></th>\n",
       "      <th>channel_id</th>\n",
       "      <th>video_id</th>\n",
       "      <th>published_at</th>\n",
       "      <th>title</th>\n",
       "      <th>description</th>\n",
       "      <th>channel_title</th>\n",
       "      <th>video_details_commit_time</th>\n",
       "    </tr>\n",
       "  </thead>\n",
       "  <tbody>\n",
       "    <tr>\n",
       "      <th>15</th>\n",
       "      <td>UCB2mKxxXPK3X8SJkAc-db3A</td>\n",
       "      <td>ePiMYe7JpJo</td>\n",
       "      <td>2020-07-27T15:59:04Z</td>\n",
       "      <td>Pygame Sprite Sheet Tutorial: How to Load, Par...</td>\n",
       "      <td>In this tutorial, we'll be learning all about ...</td>\n",
       "      <td>CDcodes</td>\n",
       "      <td>2025-04-03 01:00:36.971805</td>\n",
       "    </tr>\n",
       "    <tr>\n",
       "      <th>16</th>\n",
       "      <td>UCB2mKxxXPK3X8SJkAc-db3A</td>\n",
       "      <td>bmRFi7-gy5Y</td>\n",
       "      <td>2020-07-24T06:33:18Z</td>\n",
       "      <td>Pygame Menu System Tutorial Part 2: Building t...</td>\n",
       "      <td>LINK TO PART 1: https://youtu.be/a5JWrd7Y_14\\n...</td>\n",
       "      <td>CDcodes</td>\n",
       "      <td>2025-04-03 01:00:36.971805</td>\n",
       "    </tr>\n",
       "    <tr>\n",
       "      <th>17</th>\n",
       "      <td>UCB2mKxxXPK3X8SJkAc-db3A</td>\n",
       "      <td>a5JWrd7Y_14</td>\n",
       "      <td>2020-07-24T06:03:54Z</td>\n",
       "      <td>Pygame Menu System Tutorial Part 1: Game Loops...</td>\n",
       "      <td>LINK TO PART 2: https://www.youtube.com/watch?...</td>\n",
       "      <td>CDcodes</td>\n",
       "      <td>2025-04-03 01:00:36.971805</td>\n",
       "    </tr>\n",
       "    <tr>\n",
       "      <th>18</th>\n",
       "      <td>UC0pIFIthf92_8ku2NAYFG_Q</td>\n",
       "      <td>D7YJXgtLqAU</td>\n",
       "      <td>2024-05-05T23:21:21Z</td>\n",
       "      <td>Nostalgia, Change and Pokemon</td>\n",
       "      <td>Examining my relationship with the greatest ma...</td>\n",
       "      <td>homedawg</td>\n",
       "      <td>2025-04-03 01:00:37.177255</td>\n",
       "    </tr>\n",
       "    <tr>\n",
       "      <th>19</th>\n",
       "      <td>UC0pIFIthf92_8ku2NAYFG_Q</td>\n",
       "      <td>vDm8pvsqFY8</td>\n",
       "      <td>2024-02-14T09:41:13Z</td>\n",
       "      <td>What Competitive Super Smash Bros Taught Me (A...</td>\n",
       "      <td>Some reflections on personal development that ...</td>\n",
       "      <td>homedawg</td>\n",
       "      <td>2025-04-03 01:00:37.177255</td>\n",
       "    </tr>\n",
       "  </tbody>\n",
       "</table>\n",
       "</div>"
      ],
      "text/plain": [
       "                  channel_id     video_id          published_at  \\\n",
       "15  UCB2mKxxXPK3X8SJkAc-db3A  ePiMYe7JpJo  2020-07-27T15:59:04Z   \n",
       "16  UCB2mKxxXPK3X8SJkAc-db3A  bmRFi7-gy5Y  2020-07-24T06:33:18Z   \n",
       "17  UCB2mKxxXPK3X8SJkAc-db3A  a5JWrd7Y_14  2020-07-24T06:03:54Z   \n",
       "18  UC0pIFIthf92_8ku2NAYFG_Q  D7YJXgtLqAU  2024-05-05T23:21:21Z   \n",
       "19  UC0pIFIthf92_8ku2NAYFG_Q  vDm8pvsqFY8  2024-02-14T09:41:13Z   \n",
       "\n",
       "                                                title  \\\n",
       "15  Pygame Sprite Sheet Tutorial: How to Load, Par...   \n",
       "16  Pygame Menu System Tutorial Part 2: Building t...   \n",
       "17  Pygame Menu System Tutorial Part 1: Game Loops...   \n",
       "18                      Nostalgia, Change and Pokemon   \n",
       "19  What Competitive Super Smash Bros Taught Me (A...   \n",
       "\n",
       "                                          description channel_title  \\\n",
       "15  In this tutorial, we'll be learning all about ...       CDcodes   \n",
       "16  LINK TO PART 1: https://youtu.be/a5JWrd7Y_14\\n...       CDcodes   \n",
       "17  LINK TO PART 2: https://www.youtube.com/watch?...       CDcodes   \n",
       "18  Examining my relationship with the greatest ma...      homedawg   \n",
       "19  Some reflections on personal development that ...      homedawg   \n",
       "\n",
       "     video_details_commit_time  \n",
       "15  2025-04-03 01:00:36.971805  \n",
       "16  2025-04-03 01:00:36.971805  \n",
       "17  2025-04-03 01:00:36.971805  \n",
       "18  2025-04-03 01:00:37.177255  \n",
       "19  2025-04-03 01:00:37.177255  "
      ]
     },
     "execution_count": 68,
     "metadata": {},
     "output_type": "execute_result"
    }
   ],
   "source": [
    "# Get all public videos from a channel and output a pandas dataframe with formatted column names\n",
    "videos_pandas_df = client.get_all_video_details_for_channels(TEST_CHANNEL_IDS, key_format=\"lower\", output_format='pandas')\n",
    "print(f\"Collected {videos_pandas_df.shape[0]} videos.\")\n",
    "print(f\"Remaining units in quota: {client.get_remaining_quota()}\")\n",
    "videos_pandas_df.tail(5)  # Preview first few results"
   ]
  },
  {
   "cell_type": "markdown",
   "metadata": {},
   "source": [
    "### Polars output with modified column names"
   ]
  },
  {
   "cell_type": "code",
   "execution_count": 69,
   "metadata": {},
   "outputs": [
    {
     "name": "stdout",
     "output_type": "stream",
     "text": [
      "Fetching videos for channel: UCB2mKxxXPK3X8SJkAc-db3A\n",
      "Fetching videos for channel: UC0pIFIthf92_8ku2NAYFG_Q\n",
      "Collected 20 videos.\n",
      "Remaining units in quota: 9673\n"
     ]
    },
    {
     "data": {
      "text/html": [
       "<div><style>\n",
       ".dataframe > thead > tr,\n",
       ".dataframe > tbody > tr {\n",
       "  text-align: right;\n",
       "  white-space: pre-wrap;\n",
       "}\n",
       "</style>\n",
       "<small>shape: (5, 7)</small><table border=\"1\" class=\"dataframe\"><thead><tr><th>CHANNEL_ID</th><th>VIDEO_ID</th><th>PUBLISHED_AT</th><th>TITLE</th><th>DESCRIPTION</th><th>CHANNEL_TITLE</th><th>VIDEO_DETAILS_COMMIT_TIME</th></tr><tr><td>str</td><td>str</td><td>str</td><td>str</td><td>str</td><td>str</td><td>str</td></tr></thead><tbody><tr><td>&quot;UCB2mKxxXPK3X8SJkAc-db3A&quot;</td><td>&quot;ePiMYe7JpJo&quot;</td><td>&quot;2020-07-27T15:59:04Z&quot;</td><td>&quot;Pygame Sprite Sheet Tutorial: …</td><td>&quot;In this tutorial, we&#x27;ll be lea…</td><td>&quot;CDcodes&quot;</td><td>&quot;2025-04-03 01:00:37.397189&quot;</td></tr><tr><td>&quot;UCB2mKxxXPK3X8SJkAc-db3A&quot;</td><td>&quot;bmRFi7-gy5Y&quot;</td><td>&quot;2020-07-24T06:33:18Z&quot;</td><td>&quot;Pygame Menu System Tutorial Pa…</td><td>&quot;LINK TO PART 1: https://youtu.…</td><td>&quot;CDcodes&quot;</td><td>&quot;2025-04-03 01:00:37.397189&quot;</td></tr><tr><td>&quot;UCB2mKxxXPK3X8SJkAc-db3A&quot;</td><td>&quot;a5JWrd7Y_14&quot;</td><td>&quot;2020-07-24T06:03:54Z&quot;</td><td>&quot;Pygame Menu System Tutorial Pa…</td><td>&quot;LINK TO PART 2: https://www.yo…</td><td>&quot;CDcodes&quot;</td><td>&quot;2025-04-03 01:00:37.397189&quot;</td></tr><tr><td>&quot;UC0pIFIthf92_8ku2NAYFG_Q&quot;</td><td>&quot;D7YJXgtLqAU&quot;</td><td>&quot;2024-05-05T23:21:21Z&quot;</td><td>&quot;Nostalgia, Change and Pokemon&quot;</td><td>&quot;Examining my relationship with…</td><td>&quot;homedawg&quot;</td><td>&quot;2025-04-03 01:00:37.612613&quot;</td></tr><tr><td>&quot;UC0pIFIthf92_8ku2NAYFG_Q&quot;</td><td>&quot;vDm8pvsqFY8&quot;</td><td>&quot;2024-02-14T09:41:13Z&quot;</td><td>&quot;What Competitive Super Smash B…</td><td>&quot;Some reflections on personal d…</td><td>&quot;homedawg&quot;</td><td>&quot;2025-04-03 01:00:37.612613&quot;</td></tr></tbody></table></div>"
      ],
      "text/plain": [
       "shape: (5, 7)\n",
       "┌──────────────┬─────────────┬─────────────┬─────────────┬─────────────┬─────────────┬─────────────┐\n",
       "│ CHANNEL_ID   ┆ VIDEO_ID    ┆ PUBLISHED_A ┆ TITLE       ┆ DESCRIPTION ┆ CHANNEL_TIT ┆ VIDEO_DETAI │\n",
       "│ ---          ┆ ---         ┆ T           ┆ ---         ┆ ---         ┆ LE          ┆ LS_COMMIT_T │\n",
       "│ str          ┆ str         ┆ ---         ┆ str         ┆ str         ┆ ---         ┆ IME         │\n",
       "│              ┆             ┆ str         ┆             ┆             ┆ str         ┆ ---         │\n",
       "│              ┆             ┆             ┆             ┆             ┆             ┆ str         │\n",
       "╞══════════════╪═════════════╪═════════════╪═════════════╪═════════════╪═════════════╪═════════════╡\n",
       "│ UCB2mKxxXPK3 ┆ ePiMYe7JpJo ┆ 2020-07-27T ┆ Pygame      ┆ In this     ┆ CDcodes     ┆ 2025-04-03  │\n",
       "│ X8SJkAc-db3A ┆             ┆ 15:59:04Z   ┆ Sprite      ┆ tutorial,   ┆             ┆ 01:00:37.39 │\n",
       "│              ┆             ┆             ┆ Sheet       ┆ we'll be    ┆             ┆ 7189        │\n",
       "│              ┆             ┆             ┆ Tutorial: … ┆ lea…        ┆             ┆             │\n",
       "│ UCB2mKxxXPK3 ┆ bmRFi7-gy5Y ┆ 2020-07-24T ┆ Pygame Menu ┆ LINK TO     ┆ CDcodes     ┆ 2025-04-03  │\n",
       "│ X8SJkAc-db3A ┆             ┆ 06:33:18Z   ┆ System      ┆ PART 1: htt ┆             ┆ 01:00:37.39 │\n",
       "│              ┆             ┆             ┆ Tutorial    ┆ ps://youtu. ┆             ┆ 7189        │\n",
       "│              ┆             ┆             ┆ Pa…         ┆ …           ┆             ┆             │\n",
       "│ UCB2mKxxXPK3 ┆ a5JWrd7Y_14 ┆ 2020-07-24T ┆ Pygame Menu ┆ LINK TO     ┆ CDcodes     ┆ 2025-04-03  │\n",
       "│ X8SJkAc-db3A ┆             ┆ 06:03:54Z   ┆ System      ┆ PART 2: htt ┆             ┆ 01:00:37.39 │\n",
       "│              ┆             ┆             ┆ Tutorial    ┆ ps://www.yo ┆             ┆ 7189        │\n",
       "│              ┆             ┆             ┆ Pa…         ┆ …           ┆             ┆             │\n",
       "│ UC0pIFIthf92 ┆ D7YJXgtLqAU ┆ 2024-05-05T ┆ Nostalgia,  ┆ Examining   ┆ homedawg    ┆ 2025-04-03  │\n",
       "│ _8ku2NAYFG_Q ┆             ┆ 23:21:21Z   ┆ Change and  ┆ my relation ┆             ┆ 01:00:37.61 │\n",
       "│              ┆             ┆             ┆ Pokemon     ┆ ship with…  ┆             ┆ 2613        │\n",
       "│ UC0pIFIthf92 ┆ vDm8pvsqFY8 ┆ 2024-02-14T ┆ What        ┆ Some        ┆ homedawg    ┆ 2025-04-03  │\n",
       "│ _8ku2NAYFG_Q ┆             ┆ 09:41:13Z   ┆ Competitive ┆ reflections ┆             ┆ 01:00:37.61 │\n",
       "│              ┆             ┆             ┆ Super Smash ┆ on personal ┆             ┆ 2613        │\n",
       "│              ┆             ┆             ┆ B…          ┆ d…          ┆             ┆             │\n",
       "└──────────────┴─────────────┴─────────────┴─────────────┴─────────────┴─────────────┴─────────────┘"
      ]
     },
     "execution_count": 69,
     "metadata": {},
     "output_type": "execute_result"
    }
   ],
   "source": [
    "# Get all public videos from a channel and output a pandas dataframe with formatted column names\n",
    "videos_polars_df = client.get_all_video_details_for_channels(TEST_CHANNEL_IDS, key_format=\"upper\", output_format='polars')\n",
    "print(f\"Collected {videos_polars_df.shape[0]} videos.\")\n",
    "print(f\"Remaining units in quota: {client.get_remaining_quota()}\")\n",
    "videos_polars_df.tail(5)  # Preview last few results"
   ]
  },
  {
   "cell_type": "markdown",
   "metadata": {},
   "source": [
    "# Get Video Statistics\n",
    "\n",
    "Once you have a list of video IDs, you can retrieve high-level public statistics\n",
    "for each video, such as \n",
    "+ View counts\n",
    "+ Like counts\n",
    "+ Comment counts\n",
    "+ Tags\n",
    "\n",
    "This is useful for performance analytics and benchmarking.\n",
    "\n",
    "### Raw output from YouTube API V3"
   ]
  },
  {
   "cell_type": "code",
   "execution_count": 70,
   "metadata": {},
   "outputs": [
    {
     "name": "stdout",
     "output_type": "stream",
     "text": [
      "Retrieved statistics for 5 videos.\n",
      "Remaining units in quota: 9672\n"
     ]
    },
    {
     "data": {
      "text/plain": [
       "{'videoId': '72Ef65B65JA',\n",
       " 'title': 'Python DeepSeek Tutorial: Installing DeepSeek Locally and Interfacing with Python',\n",
       " 'description': \"In this tutorial, we'll be installing DeepSeek onto our local machine, and then interfacing with the LLM through a Python script. I'll also run through a few very basic use cases that can give you an idea of how you might process data and automate tasks through an LLM.\\n\\nCode and Datasets can be found here: https://github.com/ChristianD37/YoutubeTutorials/tree/master/DeepSeekPython\\n\\nollama download: https://ollama.com/download\\ndeepseek-r1 page: https://ollama.com/library/deepseek-r1\\n\\n00:00 - Introduction\\n00:56 - Installing ollama and DeepSeek locally\\n02:05 - Interfacing with DeepSeek through Python\\n03:46 - Cleaner Interface Function\\n06:54 - Sentiment Analysis on YouTube Comments\\n11:24 - Pokemon 3 to 5 sentence Stat Summaries\",\n",
       " 'publishedAt': '2025-02-09T21:01:50Z',\n",
       " 'channelId': 'UCB2mKxxXPK3X8SJkAc-db3A',\n",
       " 'channelTitle': 'CDcodes',\n",
       " 'tags': [],\n",
       " 'categoryId': '27',\n",
       " 'viewCount': 4715,\n",
       " 'likeCount': 95,\n",
       " 'commentCount': 18,\n",
       " 'duration_seconds': 925,\n",
       " 'definition': 'hd',\n",
       " 'isShort': False,\n",
       " 'videoStats_commit_time': '2025-04-03 01:00:37.747557'}"
      ]
     },
     "execution_count": 70,
     "metadata": {},
     "output_type": "execute_result"
    }
   ],
   "source": [
    "# Let's grab the first 5 video IDs from the previous data\n",
    "video_ids = [video[\"videoId\"] for video in videos[:5]]\n",
    "\n",
    "# Get statistics for the videos\n",
    "video_stats = client.get_video_stats(video_ids, key_format=\"raw\", output_format=\"raw\")\n",
    "print(f\"Retrieved statistics for {len(video_stats)} videos.\")\n",
    "print(f\"Remaining units in quota: {client.get_remaining_quota()}\")\n",
    "video_stats[0]"
   ]
  },
  {
   "cell_type": "markdown",
   "metadata": {},
   "source": [
    "### Pandas output with modified column names"
   ]
  },
  {
   "cell_type": "code",
   "execution_count": 71,
   "metadata": {},
   "outputs": [
    {
     "name": "stdout",
     "output_type": "stream",
     "text": [
      "Retrieved statistics for 5 videos.\n",
      "Remaining units in quota: 9671\n"
     ]
    },
    {
     "data": {
      "text/html": [
       "<div>\n",
       "<style scoped>\n",
       "    .dataframe tbody tr th:only-of-type {\n",
       "        vertical-align: middle;\n",
       "    }\n",
       "\n",
       "    .dataframe tbody tr th {\n",
       "        vertical-align: top;\n",
       "    }\n",
       "\n",
       "    .dataframe thead th {\n",
       "        text-align: right;\n",
       "    }\n",
       "</style>\n",
       "<table border=\"1\" class=\"dataframe\">\n",
       "  <thead>\n",
       "    <tr style=\"text-align: right;\">\n",
       "      <th></th>\n",
       "      <th>video_id</th>\n",
       "      <th>title</th>\n",
       "      <th>description</th>\n",
       "      <th>published_at</th>\n",
       "      <th>channel_id</th>\n",
       "      <th>channel_title</th>\n",
       "      <th>tags</th>\n",
       "      <th>category_id</th>\n",
       "      <th>view_count</th>\n",
       "      <th>like_count</th>\n",
       "      <th>comment_count</th>\n",
       "      <th>duration_seconds</th>\n",
       "      <th>definition</th>\n",
       "      <th>is_short</th>\n",
       "      <th>video_stats_commit_time</th>\n",
       "    </tr>\n",
       "  </thead>\n",
       "  <tbody>\n",
       "    <tr>\n",
       "      <th>0</th>\n",
       "      <td>72Ef65B65JA</td>\n",
       "      <td>Python DeepSeek Tutorial: Installing DeepSeek ...</td>\n",
       "      <td>In this tutorial, we'll be installing DeepSeek...</td>\n",
       "      <td>2025-02-09T21:01:50Z</td>\n",
       "      <td>UCB2mKxxXPK3X8SJkAc-db3A</td>\n",
       "      <td>CDcodes</td>\n",
       "      <td>[]</td>\n",
       "      <td>27</td>\n",
       "      <td>4720</td>\n",
       "      <td>95</td>\n",
       "      <td>18</td>\n",
       "      <td>925</td>\n",
       "      <td>hd</td>\n",
       "      <td>False</td>\n",
       "      <td>2025-04-03 01:00:37.863502</td>\n",
       "    </tr>\n",
       "    <tr>\n",
       "      <th>1</th>\n",
       "      <td>S3dlYi7LPk0</td>\n",
       "      <td>Thank You Pygame</td>\n",
       "      <td>An ode to pygame, the quirky little python mod...</td>\n",
       "      <td>2024-08-18T23:14:38Z</td>\n",
       "      <td>UCB2mKxxXPK3X8SJkAc-db3A</td>\n",
       "      <td>CDcodes</td>\n",
       "      <td>[]</td>\n",
       "      <td>27</td>\n",
       "      <td>8753</td>\n",
       "      <td>429</td>\n",
       "      <td>37</td>\n",
       "      <td>400</td>\n",
       "      <td>hd</td>\n",
       "      <td>False</td>\n",
       "      <td>2025-04-03 01:00:37.863502</td>\n",
       "    </tr>\n",
       "    <tr>\n",
       "      <th>2</th>\n",
       "      <td>5OoukJNz3YQ</td>\n",
       "      <td>Beginner Python Project From Scratch: Web Scra...</td>\n",
       "      <td>In this video, I'll be walking you through a r...</td>\n",
       "      <td>2023-05-30T00:05:58Z</td>\n",
       "      <td>UCB2mKxxXPK3X8SJkAc-db3A</td>\n",
       "      <td>CDcodes</td>\n",
       "      <td>[]</td>\n",
       "      <td>20</td>\n",
       "      <td>1552</td>\n",
       "      <td>68</td>\n",
       "      <td>11</td>\n",
       "      <td>2737</td>\n",
       "      <td>hd</td>\n",
       "      <td>False</td>\n",
       "      <td>2025-04-03 01:00:37.863502</td>\n",
       "    </tr>\n",
       "    <tr>\n",
       "      <th>3</th>\n",
       "      <td>ruISjcokmuk</td>\n",
       "      <td>Beginner Python Project From Scratch: Rock Pap...</td>\n",
       "      <td>Follow along with me on replit: https://replit...</td>\n",
       "      <td>2022-11-09T01:38:55Z</td>\n",
       "      <td>UCB2mKxxXPK3X8SJkAc-db3A</td>\n",
       "      <td>CDcodes</td>\n",
       "      <td>[]</td>\n",
       "      <td>20</td>\n",
       "      <td>3331</td>\n",
       "      <td>55</td>\n",
       "      <td>9</td>\n",
       "      <td>960</td>\n",
       "      <td>hd</td>\n",
       "      <td>False</td>\n",
       "      <td>2025-04-03 01:00:37.863502</td>\n",
       "    </tr>\n",
       "    <tr>\n",
       "      <th>4</th>\n",
       "      <td>Q6CCdCBVypg</td>\n",
       "      <td>Beginner Python Project From Scratch: Tic Tac Toe</td>\n",
       "      <td>Follow along with me on replit: https://replit...</td>\n",
       "      <td>2022-04-05T22:45:48Z</td>\n",
       "      <td>UCB2mKxxXPK3X8SJkAc-db3A</td>\n",
       "      <td>CDcodes</td>\n",
       "      <td>[]</td>\n",
       "      <td>20</td>\n",
       "      <td>79190</td>\n",
       "      <td>809</td>\n",
       "      <td>65</td>\n",
       "      <td>1014</td>\n",
       "      <td>hd</td>\n",
       "      <td>False</td>\n",
       "      <td>2025-04-03 01:00:37.863502</td>\n",
       "    </tr>\n",
       "  </tbody>\n",
       "</table>\n",
       "</div>"
      ],
      "text/plain": [
       "      video_id                                              title  \\\n",
       "0  72Ef65B65JA  Python DeepSeek Tutorial: Installing DeepSeek ...   \n",
       "1  S3dlYi7LPk0                                   Thank You Pygame   \n",
       "2  5OoukJNz3YQ  Beginner Python Project From Scratch: Web Scra...   \n",
       "3  ruISjcokmuk  Beginner Python Project From Scratch: Rock Pap...   \n",
       "4  Q6CCdCBVypg  Beginner Python Project From Scratch: Tic Tac Toe   \n",
       "\n",
       "                                         description          published_at  \\\n",
       "0  In this tutorial, we'll be installing DeepSeek...  2025-02-09T21:01:50Z   \n",
       "1  An ode to pygame, the quirky little python mod...  2024-08-18T23:14:38Z   \n",
       "2  In this video, I'll be walking you through a r...  2023-05-30T00:05:58Z   \n",
       "3  Follow along with me on replit: https://replit...  2022-11-09T01:38:55Z   \n",
       "4  Follow along with me on replit: https://replit...  2022-04-05T22:45:48Z   \n",
       "\n",
       "                 channel_id channel_title tags category_id  view_count  \\\n",
       "0  UCB2mKxxXPK3X8SJkAc-db3A       CDcodes   []          27        4720   \n",
       "1  UCB2mKxxXPK3X8SJkAc-db3A       CDcodes   []          27        8753   \n",
       "2  UCB2mKxxXPK3X8SJkAc-db3A       CDcodes   []          20        1552   \n",
       "3  UCB2mKxxXPK3X8SJkAc-db3A       CDcodes   []          20        3331   \n",
       "4  UCB2mKxxXPK3X8SJkAc-db3A       CDcodes   []          20       79190   \n",
       "\n",
       "   like_count  comment_count  duration_seconds definition  is_short  \\\n",
       "0          95             18               925         hd     False   \n",
       "1         429             37               400         hd     False   \n",
       "2          68             11              2737         hd     False   \n",
       "3          55              9               960         hd     False   \n",
       "4         809             65              1014         hd     False   \n",
       "\n",
       "      video_stats_commit_time  \n",
       "0  2025-04-03 01:00:37.863502  \n",
       "1  2025-04-03 01:00:37.863502  \n",
       "2  2025-04-03 01:00:37.863502  \n",
       "3  2025-04-03 01:00:37.863502  \n",
       "4  2025-04-03 01:00:37.863502  "
      ]
     },
     "execution_count": 71,
     "metadata": {},
     "output_type": "execute_result"
    }
   ],
   "source": [
    "# Let's grab the first 5 video IDs from the pandas dataframe\n",
    "# Get statistics for the videos\n",
    "video_stats_pandas_df = client.get_video_stats(videos_pandas_df['video_id'][0:5], key_format=\"lower\", output_format=\"pandas\")\n",
    "print(f\"Retrieved statistics for {video_stats_pandas_df .shape[0]} videos.\")\n",
    "print(f\"Remaining units in quota: {client.get_remaining_quota()}\")\n",
    "video_stats_pandas_df.head()"
   ]
  },
  {
   "cell_type": "markdown",
   "metadata": {},
   "source": [
    "### Polars output with modified column names"
   ]
  },
  {
   "cell_type": "code",
   "execution_count": 72,
   "metadata": {},
   "outputs": [
    {
     "name": "stdout",
     "output_type": "stream",
     "text": [
      "Retrieved statistics for 5 videos.\n",
      "Remaining units in quota: 9670\n"
     ]
    },
    {
     "data": {
      "text/html": [
       "<div>\n",
       "<style scoped>\n",
       "    .dataframe tbody tr th:only-of-type {\n",
       "        vertical-align: middle;\n",
       "    }\n",
       "\n",
       "    .dataframe tbody tr th {\n",
       "        vertical-align: top;\n",
       "    }\n",
       "\n",
       "    .dataframe thead th {\n",
       "        text-align: right;\n",
       "    }\n",
       "</style>\n",
       "<table border=\"1\" class=\"dataframe\">\n",
       "  <thead>\n",
       "    <tr style=\"text-align: right;\">\n",
       "      <th></th>\n",
       "      <th>VIDEO_ID</th>\n",
       "      <th>TITLE</th>\n",
       "      <th>DESCRIPTION</th>\n",
       "      <th>PUBLISHED_AT</th>\n",
       "      <th>CHANNEL_ID</th>\n",
       "      <th>CHANNEL_TITLE</th>\n",
       "      <th>TAGS</th>\n",
       "      <th>CATEGORY_ID</th>\n",
       "      <th>VIEW_COUNT</th>\n",
       "      <th>LIKE_COUNT</th>\n",
       "      <th>COMMENT_COUNT</th>\n",
       "      <th>DURATION_SECONDS</th>\n",
       "      <th>DEFINITION</th>\n",
       "      <th>IS_SHORT</th>\n",
       "      <th>VIDEO_STATS_COMMIT_TIME</th>\n",
       "    </tr>\n",
       "  </thead>\n",
       "  <tbody>\n",
       "    <tr>\n",
       "      <th>0</th>\n",
       "      <td>72Ef65B65JA</td>\n",
       "      <td>Python DeepSeek Tutorial: Installing DeepSeek ...</td>\n",
       "      <td>In this tutorial, we'll be installing DeepSeek...</td>\n",
       "      <td>2025-02-09T21:01:50Z</td>\n",
       "      <td>UCB2mKxxXPK3X8SJkAc-db3A</td>\n",
       "      <td>CDcodes</td>\n",
       "      <td>[]</td>\n",
       "      <td>27</td>\n",
       "      <td>4720</td>\n",
       "      <td>95</td>\n",
       "      <td>18</td>\n",
       "      <td>925</td>\n",
       "      <td>hd</td>\n",
       "      <td>False</td>\n",
       "      <td>2025-04-03 01:00:37.990106</td>\n",
       "    </tr>\n",
       "    <tr>\n",
       "      <th>1</th>\n",
       "      <td>S3dlYi7LPk0</td>\n",
       "      <td>Thank You Pygame</td>\n",
       "      <td>An ode to pygame, the quirky little python mod...</td>\n",
       "      <td>2024-08-18T23:14:38Z</td>\n",
       "      <td>UCB2mKxxXPK3X8SJkAc-db3A</td>\n",
       "      <td>CDcodes</td>\n",
       "      <td>[]</td>\n",
       "      <td>27</td>\n",
       "      <td>8753</td>\n",
       "      <td>429</td>\n",
       "      <td>37</td>\n",
       "      <td>400</td>\n",
       "      <td>hd</td>\n",
       "      <td>False</td>\n",
       "      <td>2025-04-03 01:00:37.990106</td>\n",
       "    </tr>\n",
       "    <tr>\n",
       "      <th>2</th>\n",
       "      <td>5OoukJNz3YQ</td>\n",
       "      <td>Beginner Python Project From Scratch: Web Scra...</td>\n",
       "      <td>In this video, I'll be walking you through a r...</td>\n",
       "      <td>2023-05-30T00:05:58Z</td>\n",
       "      <td>UCB2mKxxXPK3X8SJkAc-db3A</td>\n",
       "      <td>CDcodes</td>\n",
       "      <td>[]</td>\n",
       "      <td>20</td>\n",
       "      <td>1552</td>\n",
       "      <td>68</td>\n",
       "      <td>11</td>\n",
       "      <td>2737</td>\n",
       "      <td>hd</td>\n",
       "      <td>False</td>\n",
       "      <td>2025-04-03 01:00:37.990106</td>\n",
       "    </tr>\n",
       "    <tr>\n",
       "      <th>3</th>\n",
       "      <td>ruISjcokmuk</td>\n",
       "      <td>Beginner Python Project From Scratch: Rock Pap...</td>\n",
       "      <td>Follow along with me on replit: https://replit...</td>\n",
       "      <td>2022-11-09T01:38:55Z</td>\n",
       "      <td>UCB2mKxxXPK3X8SJkAc-db3A</td>\n",
       "      <td>CDcodes</td>\n",
       "      <td>[]</td>\n",
       "      <td>20</td>\n",
       "      <td>3331</td>\n",
       "      <td>55</td>\n",
       "      <td>9</td>\n",
       "      <td>960</td>\n",
       "      <td>hd</td>\n",
       "      <td>False</td>\n",
       "      <td>2025-04-03 01:00:37.990106</td>\n",
       "    </tr>\n",
       "    <tr>\n",
       "      <th>4</th>\n",
       "      <td>Q6CCdCBVypg</td>\n",
       "      <td>Beginner Python Project From Scratch: Tic Tac Toe</td>\n",
       "      <td>Follow along with me on replit: https://replit...</td>\n",
       "      <td>2022-04-05T22:45:48Z</td>\n",
       "      <td>UCB2mKxxXPK3X8SJkAc-db3A</td>\n",
       "      <td>CDcodes</td>\n",
       "      <td>[]</td>\n",
       "      <td>20</td>\n",
       "      <td>79190</td>\n",
       "      <td>809</td>\n",
       "      <td>65</td>\n",
       "      <td>1014</td>\n",
       "      <td>hd</td>\n",
       "      <td>False</td>\n",
       "      <td>2025-04-03 01:00:37.990106</td>\n",
       "    </tr>\n",
       "  </tbody>\n",
       "</table>\n",
       "</div>"
      ],
      "text/plain": [
       "      VIDEO_ID                                              TITLE  \\\n",
       "0  72Ef65B65JA  Python DeepSeek Tutorial: Installing DeepSeek ...   \n",
       "1  S3dlYi7LPk0                                   Thank You Pygame   \n",
       "2  5OoukJNz3YQ  Beginner Python Project From Scratch: Web Scra...   \n",
       "3  ruISjcokmuk  Beginner Python Project From Scratch: Rock Pap...   \n",
       "4  Q6CCdCBVypg  Beginner Python Project From Scratch: Tic Tac Toe   \n",
       "\n",
       "                                         DESCRIPTION          PUBLISHED_AT  \\\n",
       "0  In this tutorial, we'll be installing DeepSeek...  2025-02-09T21:01:50Z   \n",
       "1  An ode to pygame, the quirky little python mod...  2024-08-18T23:14:38Z   \n",
       "2  In this video, I'll be walking you through a r...  2023-05-30T00:05:58Z   \n",
       "3  Follow along with me on replit: https://replit...  2022-11-09T01:38:55Z   \n",
       "4  Follow along with me on replit: https://replit...  2022-04-05T22:45:48Z   \n",
       "\n",
       "                 CHANNEL_ID CHANNEL_TITLE TAGS CATEGORY_ID  VIEW_COUNT  \\\n",
       "0  UCB2mKxxXPK3X8SJkAc-db3A       CDcodes   []          27        4720   \n",
       "1  UCB2mKxxXPK3X8SJkAc-db3A       CDcodes   []          27        8753   \n",
       "2  UCB2mKxxXPK3X8SJkAc-db3A       CDcodes   []          20        1552   \n",
       "3  UCB2mKxxXPK3X8SJkAc-db3A       CDcodes   []          20        3331   \n",
       "4  UCB2mKxxXPK3X8SJkAc-db3A       CDcodes   []          20       79190   \n",
       "\n",
       "   LIKE_COUNT  COMMENT_COUNT  DURATION_SECONDS DEFINITION  IS_SHORT  \\\n",
       "0          95             18               925         hd     False   \n",
       "1         429             37               400         hd     False   \n",
       "2          68             11              2737         hd     False   \n",
       "3          55              9               960         hd     False   \n",
       "4         809             65              1014         hd     False   \n",
       "\n",
       "      VIDEO_STATS_COMMIT_TIME  \n",
       "0  2025-04-03 01:00:37.990106  \n",
       "1  2025-04-03 01:00:37.990106  \n",
       "2  2025-04-03 01:00:37.990106  \n",
       "3  2025-04-03 01:00:37.990106  \n",
       "4  2025-04-03 01:00:37.990106  "
      ]
     },
     "execution_count": 72,
     "metadata": {},
     "output_type": "execute_result"
    }
   ],
   "source": [
    "# Let's grab the first 5 video IDs from the pandas dataframe\n",
    "# Get statistics for the videos\n",
    "video_stats_polars_df = client.get_video_stats(videos_polars_df['VIDEO_ID'][0:5], key_format=\"upper\", output_format=\"pandas\")\n",
    "print(f\"Retrieved statistics for {video_stats_polars_df.shape[0]} videos.\")\n",
    "print(f\"Remaining units in quota: {client.get_remaining_quota()}\")\n",
    "video_stats_polars_df.head()"
   ]
  },
  {
   "cell_type": "markdown",
   "metadata": {},
   "source": [
    "# Get Video Comments\n",
    "\n",
    "Once you have a list of video IDs, you can the following data regarding each of the comments\n",
    "+ Comment Text\n",
    "+ Like counts\n",
    "+ Reply counts\n",
    "+ Publication Date\n",
    "\n",
    "This is useful for performance analytics and sentiment analysis\n",
    "\n",
    "## Gather top level comments for videos\n",
    "\n",
    "These methods will not include nested comments. In other words, it will gather comments left on the video, but not comments replying to other comments. See the next section to gather all comments."
   ]
  },
  {
   "cell_type": "markdown",
   "metadata": {},
   "source": [
    "### Raw output from YouTube API V3"
   ]
  },
  {
   "cell_type": "code",
   "execution_count": 73,
   "metadata": {},
   "outputs": [
    {
     "name": "stdout",
     "output_type": "stream",
     "text": [
      "Fetching comments for video ID: 72Ef65B65JA\n",
      "Fetching comments for video ID: S3dlYi7LPk0\n",
      "Fetching comments for video ID: 5OoukJNz3YQ\n",
      "Fetching comments for video ID: ruISjcokmuk\n",
      "Fetching comments for video ID: Q6CCdCBVypg\n",
      "Collected 74 comments across 5 videos.\n",
      "Remaining units in quota: 9665\n"
     ]
    },
    {
     "data": {
      "text/plain": [
       "[{'videoId': '72Ef65B65JA',\n",
       "  'commentId': 'UgwerLKK8iN9HRRWhQB4AaABAg',\n",
       "  'author': '@PARK60264',\n",
       "  'text': 'Is this local? lama is not local is it?',\n",
       "  'publishedAt': '2025-03-29T00:12:15Z',\n",
       "  'likeCount': 0,\n",
       "  'replyCount': 1,\n",
       "  'videoTopLevelComments_commit_time': '2025-04-03 01:00:38.122877'},\n",
       " {'videoId': '72Ef65B65JA',\n",
       "  'commentId': 'Ugwt5Tcy5DR98EpXUfF4AaABAg',\n",
       "  'author': '@xiaoyanzheng6435',\n",
       "  'text': 'hi thank you for sharing this very helpful! for me it runs a bit slow but still works in the command prompt but when i switched to Jupyter Notebook, it slowed dramatically, a simple question takes 10 minutes for the answer to be produced. Any advice on improving speed? thanks!',\n",
       "  'publishedAt': '2025-02-27T15:55:04Z',\n",
       "  'likeCount': 0,\n",
       "  'replyCount': 1,\n",
       "  'videoTopLevelComments_commit_time': '2025-04-03 01:00:38.122877'}]"
      ]
     },
     "execution_count": 73,
     "metadata": {},
     "output_type": "execute_result"
    }
   ],
   "source": [
    "comments = client.get_top_level_comments_for_video_ids(video_ids, key_format=\"raw\", output_format=\"raw\")\n",
    "print(f\"Collected {len(comments)} comments across {len(video_ids)} videos.\")\n",
    "print(f\"Remaining units in quota: {client.get_remaining_quota()}\")\n",
    "comments[0:2]"
   ]
  },
  {
   "cell_type": "markdown",
   "metadata": {},
   "source": [
    "### Pandas output with modified column names"
   ]
  },
  {
   "cell_type": "code",
   "execution_count": 74,
   "metadata": {},
   "outputs": [
    {
     "name": "stdout",
     "output_type": "stream",
     "text": [
      "Fetching comments for video ID: 72Ef65B65JA\n",
      "Fetching comments for video ID: S3dlYi7LPk0\n",
      "Fetching comments for video ID: 5OoukJNz3YQ\n",
      "Fetching comments for video ID: ruISjcokmuk\n",
      "Fetching comments for video ID: Q6CCdCBVypg\n",
      "Collected 74 comments across 5 videos.\n",
      "Remaining units in quota: 9660\n"
     ]
    },
    {
     "data": {
      "text/html": [
       "<div>\n",
       "<style scoped>\n",
       "    .dataframe tbody tr th:only-of-type {\n",
       "        vertical-align: middle;\n",
       "    }\n",
       "\n",
       "    .dataframe tbody tr th {\n",
       "        vertical-align: top;\n",
       "    }\n",
       "\n",
       "    .dataframe thead th {\n",
       "        text-align: right;\n",
       "    }\n",
       "</style>\n",
       "<table border=\"1\" class=\"dataframe\">\n",
       "  <thead>\n",
       "    <tr style=\"text-align: right;\">\n",
       "      <th></th>\n",
       "      <th>video_id</th>\n",
       "      <th>comment_id</th>\n",
       "      <th>author</th>\n",
       "      <th>text</th>\n",
       "      <th>published_at</th>\n",
       "      <th>like_count</th>\n",
       "      <th>reply_count</th>\n",
       "      <th>video_top_level_comments_commit_time</th>\n",
       "    </tr>\n",
       "  </thead>\n",
       "  <tbody>\n",
       "    <tr>\n",
       "      <th>0</th>\n",
       "      <td>72Ef65B65JA</td>\n",
       "      <td>UgwerLKK8iN9HRRWhQB4AaABAg</td>\n",
       "      <td>@PARK60264</td>\n",
       "      <td>Is this local? lama is not local is it?</td>\n",
       "      <td>2025-03-29T00:12:15Z</td>\n",
       "      <td>0</td>\n",
       "      <td>1</td>\n",
       "      <td>2025-04-03 01:00:38.759039</td>\n",
       "    </tr>\n",
       "    <tr>\n",
       "      <th>1</th>\n",
       "      <td>72Ef65B65JA</td>\n",
       "      <td>Ugwt5Tcy5DR98EpXUfF4AaABAg</td>\n",
       "      <td>@xiaoyanzheng6435</td>\n",
       "      <td>hi thank you for sharing this very helpful! fo...</td>\n",
       "      <td>2025-02-27T15:55:04Z</td>\n",
       "      <td>0</td>\n",
       "      <td>1</td>\n",
       "      <td>2025-04-03 01:00:38.759039</td>\n",
       "    </tr>\n",
       "    <tr>\n",
       "      <th>2</th>\n",
       "      <td>72Ef65B65JA</td>\n",
       "      <td>UgzgAHrcz8j51SwKlYN4AaABAg</td>\n",
       "      <td>@googleadmin4749</td>\n",
       "      <td>Halfpoker is misleading, it uses the Lama crut...</td>\n",
       "      <td>2025-02-21T08:48:10Z</td>\n",
       "      <td>0</td>\n",
       "      <td>2</td>\n",
       "      <td>2025-04-03 01:00:38.759039</td>\n",
       "    </tr>\n",
       "    <tr>\n",
       "      <th>3</th>\n",
       "      <td>72Ef65B65JA</td>\n",
       "      <td>Ugysv5Erz5c84y_Fsrd4AaABAg</td>\n",
       "      <td>@carloscastc</td>\n",
       "      <td>Dude this is an excellent tutorial, hope you u...</td>\n",
       "      <td>2025-02-20T21:44:55Z</td>\n",
       "      <td>0</td>\n",
       "      <td>1</td>\n",
       "      <td>2025-04-03 01:00:38.759039</td>\n",
       "    </tr>\n",
       "    <tr>\n",
       "      <th>4</th>\n",
       "      <td>72Ef65B65JA</td>\n",
       "      <td>Ugym5WKbqvgNqQdqTgh4AaABAg</td>\n",
       "      <td>@appsenence9244</td>\n",
       "      <td>Idk why I'm getting this error while trying to...</td>\n",
       "      <td>2025-02-19T14:56:06Z</td>\n",
       "      <td>0</td>\n",
       "      <td>4</td>\n",
       "      <td>2025-04-03 01:00:38.759039</td>\n",
       "    </tr>\n",
       "  </tbody>\n",
       "</table>\n",
       "</div>"
      ],
      "text/plain": [
       "      video_id                  comment_id             author  \\\n",
       "0  72Ef65B65JA  UgwerLKK8iN9HRRWhQB4AaABAg         @PARK60264   \n",
       "1  72Ef65B65JA  Ugwt5Tcy5DR98EpXUfF4AaABAg  @xiaoyanzheng6435   \n",
       "2  72Ef65B65JA  UgzgAHrcz8j51SwKlYN4AaABAg   @googleadmin4749   \n",
       "3  72Ef65B65JA  Ugysv5Erz5c84y_Fsrd4AaABAg       @carloscastc   \n",
       "4  72Ef65B65JA  Ugym5WKbqvgNqQdqTgh4AaABAg    @appsenence9244   \n",
       "\n",
       "                                                text          published_at  \\\n",
       "0            Is this local? lama is not local is it?  2025-03-29T00:12:15Z   \n",
       "1  hi thank you for sharing this very helpful! fo...  2025-02-27T15:55:04Z   \n",
       "2  Halfpoker is misleading, it uses the Lama crut...  2025-02-21T08:48:10Z   \n",
       "3  Dude this is an excellent tutorial, hope you u...  2025-02-20T21:44:55Z   \n",
       "4  Idk why I'm getting this error while trying to...  2025-02-19T14:56:06Z   \n",
       "\n",
       "   like_count  reply_count video_top_level_comments_commit_time  \n",
       "0           0            1           2025-04-03 01:00:38.759039  \n",
       "1           0            1           2025-04-03 01:00:38.759039  \n",
       "2           0            2           2025-04-03 01:00:38.759039  \n",
       "3           0            1           2025-04-03 01:00:38.759039  \n",
       "4           0            4           2025-04-03 01:00:38.759039  "
      ]
     },
     "execution_count": 74,
     "metadata": {},
     "output_type": "execute_result"
    }
   ],
   "source": [
    "# Get top-level comments from the same 5 videos\n",
    "comments_pandas_df = client.get_top_level_comments_for_video_ids(videos_pandas_df['video_id'][0:5], key_format=\"lower\", output_format=\"pandas\")\n",
    "print(f\"Collected {comments_pandas_df.shape[0]} comments across {len(videos_pandas_df['video_id'][0:5].unique())} videos.\")\n",
    "print(f\"Remaining units in quota: {client.get_remaining_quota()}\")\n",
    "comments_pandas_df.head(5)"
   ]
  },
  {
   "cell_type": "markdown",
   "metadata": {},
   "source": [
    "### Polars output with modified column names"
   ]
  },
  {
   "cell_type": "code",
   "execution_count": 75,
   "metadata": {},
   "outputs": [
    {
     "name": "stdout",
     "output_type": "stream",
     "text": [
      "Fetching comments for video ID: 72Ef65B65JA\n",
      "Fetching comments for video ID: S3dlYi7LPk0\n",
      "Fetching comments for video ID: 5OoukJNz3YQ\n",
      "Fetching comments for video ID: ruISjcokmuk\n",
      "Fetching comments for video ID: Q6CCdCBVypg\n",
      "Collected 74 comments across 1 videos.\n",
      "Remaining units in quota: 9655\n"
     ]
    },
    {
     "data": {
      "text/html": [
       "<div><style>\n",
       ".dataframe > thead > tr,\n",
       ".dataframe > tbody > tr {\n",
       "  text-align: right;\n",
       "  white-space: pre-wrap;\n",
       "}\n",
       "</style>\n",
       "<small>shape: (5, 8)</small><table border=\"1\" class=\"dataframe\"><thead><tr><th>VIDEO_ID</th><th>COMMENT_ID</th><th>AUTHOR</th><th>TEXT</th><th>PUBLISHED_AT</th><th>LIKE_COUNT</th><th>REPLY_COUNT</th><th>VIDEO_TOP_LEVEL_COMMENTS_COMMIT_TIME</th></tr><tr><td>str</td><td>str</td><td>str</td><td>str</td><td>str</td><td>i64</td><td>i64</td><td>str</td></tr></thead><tbody><tr><td>&quot;Q6CCdCBVypg&quot;</td><td>&quot;UgxhHvu2akHf8JBjU6h4AaABAg&quot;</td><td>&quot;@Poxlol&quot;</td><td>&quot;Underrated&quot;</td><td>&quot;2022-04-23T03:21:11Z&quot;</td><td>2</td><td>1</td><td>&quot;2025-04-03 01:00:39.872523&quot;</td></tr><tr><td>&quot;Q6CCdCBVypg&quot;</td><td>&quot;UgxUlgYS3l9AXkQnuWl4AaABAg&quot;</td><td>&quot;@phoebely2900&quot;</td><td>&quot;Fantastic work!&quot;</td><td>&quot;2022-04-06T04:44:48Z&quot;</td><td>1</td><td>1</td><td>&quot;2025-04-03 01:00:39.872523&quot;</td></tr><tr><td>&quot;Q6CCdCBVypg&quot;</td><td>&quot;UgyukXWFPcH1fo7Imv54AaABAg&quot;</td><td>&quot;@chosenone2435&quot;</td><td>&quot;Great to see you back! You are…</td><td>&quot;2022-04-06T01:25:19Z&quot;</td><td>4</td><td>1</td><td>&quot;2025-04-03 01:00:39.872523&quot;</td></tr><tr><td>&quot;Q6CCdCBVypg&quot;</td><td>&quot;UgxfNe6LcnteSh0uD3h4AaABAg&quot;</td><td>&quot;@joey546&quot;</td><td>&quot;Good to see you back! You stil…</td><td>&quot;2022-04-05T23:35:12Z&quot;</td><td>9</td><td>2</td><td>&quot;2025-04-03 01:00:39.872523&quot;</td></tr><tr><td>&quot;Q6CCdCBVypg&quot;</td><td>&quot;UgybfdmW11TCtS82wjh4AaABAg&quot;</td><td>&quot;@MyFishWillKillU&quot;</td><td>&quot;Wow so cool&quot;</td><td>&quot;2022-04-05T22:53:18Z&quot;</td><td>4</td><td>0</td><td>&quot;2025-04-03 01:00:39.872523&quot;</td></tr></tbody></table></div>"
      ],
      "text/plain": [
       "shape: (5, 8)\n",
       "┌────────────┬────────────┬────────────┬───────────┬───────────┬───────────┬───────────┬───────────┐\n",
       "│ VIDEO_ID   ┆ COMMENT_ID ┆ AUTHOR     ┆ TEXT      ┆ PUBLISHED ┆ LIKE_COUN ┆ REPLY_COU ┆ VIDEO_TOP │\n",
       "│ ---        ┆ ---        ┆ ---        ┆ ---       ┆ _AT       ┆ T         ┆ NT        ┆ _LEVEL_CO │\n",
       "│ str        ┆ str        ┆ str        ┆ str       ┆ ---       ┆ ---       ┆ ---       ┆ MMENTS_CO │\n",
       "│            ┆            ┆            ┆           ┆ str       ┆ i64       ┆ i64       ┆ MMI…      │\n",
       "│            ┆            ┆            ┆           ┆           ┆           ┆           ┆ ---       │\n",
       "│            ┆            ┆            ┆           ┆           ┆           ┆           ┆ str       │\n",
       "╞════════════╪════════════╪════════════╪═══════════╪═══════════╪═══════════╪═══════════╪═══════════╡\n",
       "│ Q6CCdCBVyp ┆ UgxhHvu2ak ┆ @Poxlol    ┆ Underrate ┆ 2022-04-2 ┆ 2         ┆ 1         ┆ 2025-04-0 │\n",
       "│ g          ┆ Hf8JBjU6h4 ┆            ┆ d         ┆ 3T03:21:1 ┆           ┆           ┆ 3 01:00:3 │\n",
       "│            ┆ AaABAg     ┆            ┆           ┆ 1Z        ┆           ┆           ┆ 9.872523  │\n",
       "│ Q6CCdCBVyp ┆ UgxUlgYS3l ┆ @phoebely2 ┆ Fantastic ┆ 2022-04-0 ┆ 1         ┆ 1         ┆ 2025-04-0 │\n",
       "│ g          ┆ 9AXkQnuWl4 ┆ 900        ┆ work!     ┆ 6T04:44:4 ┆           ┆           ┆ 3 01:00:3 │\n",
       "│            ┆ AaABAg     ┆            ┆           ┆ 8Z        ┆           ┆           ┆ 9.872523  │\n",
       "│ Q6CCdCBVyp ┆ UgyukXWFPc ┆ @chosenone ┆ Great to  ┆ 2022-04-0 ┆ 4         ┆ 1         ┆ 2025-04-0 │\n",
       "│ g          ┆ H1fo7Imv54 ┆ 2435       ┆ see you   ┆ 6T01:25:1 ┆           ┆           ┆ 3 01:00:3 │\n",
       "│            ┆ AaABAg     ┆            ┆ back! You ┆ 9Z        ┆           ┆           ┆ 9.872523  │\n",
       "│            ┆            ┆            ┆ are…      ┆           ┆           ┆           ┆           │\n",
       "│ Q6CCdCBVyp ┆ UgxfNe6Lcn ┆ @joey546   ┆ Good to   ┆ 2022-04-0 ┆ 9         ┆ 2         ┆ 2025-04-0 │\n",
       "│ g          ┆ teSh0uD3h4 ┆            ┆ see you   ┆ 5T23:35:1 ┆           ┆           ┆ 3 01:00:3 │\n",
       "│            ┆ AaABAg     ┆            ┆ back! You ┆ 2Z        ┆           ┆           ┆ 9.872523  │\n",
       "│            ┆            ┆            ┆ stil…     ┆           ┆           ┆           ┆           │\n",
       "│ Q6CCdCBVyp ┆ UgybfdmW11 ┆ @MyFishWil ┆ Wow so    ┆ 2022-04-0 ┆ 4         ┆ 0         ┆ 2025-04-0 │\n",
       "│ g          ┆ TCtS82wjh4 ┆ lKillU     ┆ cool      ┆ 5T22:53:1 ┆           ┆           ┆ 3 01:00:3 │\n",
       "│            ┆ AaABAg     ┆            ┆           ┆ 8Z        ┆           ┆           ┆ 9.872523  │\n",
       "└────────────┴────────────┴────────────┴───────────┴───────────┴───────────┴───────────┴───────────┘"
      ]
     },
     "execution_count": 75,
     "metadata": {},
     "output_type": "execute_result"
    }
   ],
   "source": [
    "# Get top-level comments from the same 5 videos\n",
    "comments_polars_df = client.get_top_level_comments_for_video_ids(videos_polars_df['VIDEO_ID'][0:5], key_format=\"upper\", output_format=\"polars\")\n",
    "print(f\"Collected {comments_polars_df.shape[0]} comments across {len(comments_polars_df['VIDEO_ID'][0:5].unique())} videos.\")\n",
    "print(f\"Remaining units in quota: {client.get_remaining_quota()}\")\n",
    "comments_polars_df.tail(5)"
   ]
  },
  {
   "cell_type": "markdown",
   "metadata": {},
   "source": [
    "## Get all comments and comment replies for videos\n",
    "\n",
    "These methods will include nested comments. In other words, it will gather comments left on the video, along with comments replying to other comments. It will return comments in the long format (i.e each comment and reply gets it own row or entry), but the `parentId` can be used to keep track of the nested structure of each comment."
   ]
  },
  {
   "cell_type": "code",
   "execution_count": 76,
   "metadata": {},
   "outputs": [
    {
     "name": "stdout",
     "output_type": "stream",
     "text": [
      "Fetching all comments for video ID: 72Ef65B65JA\n",
      "Fetching all comments for video ID: S3dlYi7LPk0\n",
      "Fetching all comments for video ID: 5OoukJNz3YQ\n",
      "Fetching all comments for video ID: ruISjcokmuk\n",
      "Fetching all comments for video ID: Q6CCdCBVypg\n",
      "Collected 140 comments across 5 videos.\n",
      "Remaining units in quota: 9600\n"
     ]
    },
    {
     "data": {
      "text/plain": [
       "[{'commentId': 'UgwerLKK8iN9HRRWhQB4AaABAg',\n",
       "  'videoId': '72Ef65B65JA',\n",
       "  'author': '@PARK60264',\n",
       "  'text': 'Is this local? lama is not local is it?',\n",
       "  'publishedAt': '2025-03-29T00:12:15Z',\n",
       "  'likeCount': 0,\n",
       "  'replyCount': 1,\n",
       "  'parentId': None,\n",
       "  'videoAllComments_commit_time': '2025-04-03 01:00:40.017127'},\n",
       " {'commentId': 'UgwerLKK8iN9HRRWhQB4AaABAg.AGEJqym_U1oAGJ-AbRIA54',\n",
       "  'parentId': 'UgwerLKK8iN9HRRWhQB4AaABAg',\n",
       "  'author': '@CDcodes',\n",
       "  'text': 'Yes if you follow the install instructions it will run deepseek off of your local computer',\n",
       "  'publishedAt': '2025-03-30T19:47:46Z',\n",
       "  'likeCount': 0,\n",
       "  'videoId': None,\n",
       "  'videoAllComments_commit_time': '2025-04-03 01:00:40.110876'}]"
      ]
     },
     "execution_count": 76,
     "metadata": {},
     "output_type": "execute_result"
    }
   ],
   "source": [
    "# Gather all comments for a sample of 5 videos. See comment count in this method compared to the ones above\n",
    "all_comments = client.get_all_comments_for_video_ids(video_ids, key_format=\"raw\", output_format=\"raw\")\n",
    "print(f\"Collected {len(all_comments)} comments across {len(video_ids)} videos.\")\n",
    "print(f\"Remaining units in quota: {client.get_remaining_quota()}\")\n",
    "all_comments[0:2]"
   ]
  },
  {
   "cell_type": "code",
   "execution_count": 77,
   "metadata": {},
   "outputs": [
    {
     "name": "stdout",
     "output_type": "stream",
     "text": [
      "Fetching all comments for video ID: 72Ef65B65JA\n",
      "Fetching all comments for video ID: S3dlYi7LPk0\n",
      "Fetching all comments for video ID: 5OoukJNz3YQ\n",
      "Fetching all comments for video ID: ruISjcokmuk\n",
      "Fetching all comments for video ID: Q6CCdCBVypg\n",
      "Collected 140 comments across 5 videos.\n",
      "Remaining units in quota: 9545\n"
     ]
    },
    {
     "data": {
      "text/html": [
       "<div>\n",
       "<style scoped>\n",
       "    .dataframe tbody tr th:only-of-type {\n",
       "        vertical-align: middle;\n",
       "    }\n",
       "\n",
       "    .dataframe tbody tr th {\n",
       "        vertical-align: top;\n",
       "    }\n",
       "\n",
       "    .dataframe thead th {\n",
       "        text-align: right;\n",
       "    }\n",
       "</style>\n",
       "<table border=\"1\" class=\"dataframe\">\n",
       "  <thead>\n",
       "    <tr style=\"text-align: right;\">\n",
       "      <th></th>\n",
       "      <th>comment_id</th>\n",
       "      <th>video_id</th>\n",
       "      <th>author</th>\n",
       "      <th>text</th>\n",
       "      <th>published_at</th>\n",
       "      <th>like_count</th>\n",
       "      <th>reply_count</th>\n",
       "      <th>parent_id</th>\n",
       "      <th>video_all_comments_commit_time</th>\n",
       "    </tr>\n",
       "  </thead>\n",
       "  <tbody>\n",
       "    <tr>\n",
       "      <th>0</th>\n",
       "      <td>UgwerLKK8iN9HRRWhQB4AaABAg</td>\n",
       "      <td>72Ef65B65JA</td>\n",
       "      <td>@PARK60264</td>\n",
       "      <td>Is this local? lama is not local is it?</td>\n",
       "      <td>2025-03-29T00:12:15Z</td>\n",
       "      <td>0</td>\n",
       "      <td>1.0</td>\n",
       "      <td>None</td>\n",
       "      <td>2025-04-03 01:00:46.216355</td>\n",
       "    </tr>\n",
       "    <tr>\n",
       "      <th>1</th>\n",
       "      <td>UgwerLKK8iN9HRRWhQB4AaABAg.AGEJqym_U1oAGJ-AbRIA54</td>\n",
       "      <td>None</td>\n",
       "      <td>@CDcodes</td>\n",
       "      <td>Yes if you follow the install instructions it ...</td>\n",
       "      <td>2025-03-30T19:47:46Z</td>\n",
       "      <td>0</td>\n",
       "      <td>NaN</td>\n",
       "      <td>UgwerLKK8iN9HRRWhQB4AaABAg</td>\n",
       "      <td>2025-04-03 01:00:46.308110</td>\n",
       "    </tr>\n",
       "    <tr>\n",
       "      <th>2</th>\n",
       "      <td>Ugwt5Tcy5DR98EpXUfF4AaABAg</td>\n",
       "      <td>72Ef65B65JA</td>\n",
       "      <td>@xiaoyanzheng6435</td>\n",
       "      <td>hi thank you for sharing this very helpful! fo...</td>\n",
       "      <td>2025-02-27T15:55:04Z</td>\n",
       "      <td>0</td>\n",
       "      <td>1.0</td>\n",
       "      <td>None</td>\n",
       "      <td>2025-04-03 01:00:46.309107</td>\n",
       "    </tr>\n",
       "    <tr>\n",
       "      <th>3</th>\n",
       "      <td>Ugwt5Tcy5DR98EpXUfF4AaABAg.AF2kuCt8XAHAFDjze7l89D</td>\n",
       "      <td>None</td>\n",
       "      <td>@CDcodes</td>\n",
       "      <td>Thanks for watching! Not sure why you're seein...</td>\n",
       "      <td>2025-03-03T22:18:44Z</td>\n",
       "      <td>0</td>\n",
       "      <td>NaN</td>\n",
       "      <td>Ugwt5Tcy5DR98EpXUfF4AaABAg</td>\n",
       "      <td>2025-04-03 01:00:46.427789</td>\n",
       "    </tr>\n",
       "    <tr>\n",
       "      <th>4</th>\n",
       "      <td>UgzgAHrcz8j51SwKlYN4AaABAg</td>\n",
       "      <td>72Ef65B65JA</td>\n",
       "      <td>@googleadmin4749</td>\n",
       "      <td>Halfpoker is misleading, it uses the Lama crut...</td>\n",
       "      <td>2025-02-21T08:48:10Z</td>\n",
       "      <td>0</td>\n",
       "      <td>2.0</td>\n",
       "      <td>None</td>\n",
       "      <td>2025-04-03 01:00:46.428786</td>\n",
       "    </tr>\n",
       "    <tr>\n",
       "      <th>5</th>\n",
       "      <td>UgzgAHrcz8j51SwKlYN4AaABAg.AEnYHCE2OBBAFDkIjYjRNe</td>\n",
       "      <td>None</td>\n",
       "      <td>@CDcodes</td>\n",
       "      <td>Sorry to hear you didn't enjoy the video. If t...</td>\n",
       "      <td>2025-03-03T22:21:28Z</td>\n",
       "      <td>0</td>\n",
       "      <td>NaN</td>\n",
       "      <td>UgzgAHrcz8j51SwKlYN4AaABAg</td>\n",
       "      <td>2025-04-03 01:00:46.537496</td>\n",
       "    </tr>\n",
       "    <tr>\n",
       "      <th>6</th>\n",
       "      <td>UgzgAHrcz8j51SwKlYN4AaABAg.AEnYHCE2OBBAGEJyK8fAmJ</td>\n",
       "      <td>None</td>\n",
       "      <td>@PARK60264</td>\n",
       "      <td>@@CDcodes Sounds like AI generated response lol.</td>\n",
       "      <td>2025-03-29T00:13:15Z</td>\n",
       "      <td>0</td>\n",
       "      <td>NaN</td>\n",
       "      <td>UgzgAHrcz8j51SwKlYN4AaABAg</td>\n",
       "      <td>2025-04-03 01:00:46.537496</td>\n",
       "    </tr>\n",
       "    <tr>\n",
       "      <th>7</th>\n",
       "      <td>Ugysv5Erz5c84y_Fsrd4AaABAg</td>\n",
       "      <td>72Ef65B65JA</td>\n",
       "      <td>@carloscastc</td>\n",
       "      <td>Dude this is an excellent tutorial, hope you u...</td>\n",
       "      <td>2025-02-20T21:44:55Z</td>\n",
       "      <td>0</td>\n",
       "      <td>1.0</td>\n",
       "      <td>None</td>\n",
       "      <td>2025-04-03 01:00:46.538493</td>\n",
       "    </tr>\n",
       "    <tr>\n",
       "      <th>8</th>\n",
       "      <td>Ugysv5Erz5c84y_Fsrd4AaABAg.AEmMNPbHdI7AFDk8QJqy3Y</td>\n",
       "      <td>None</td>\n",
       "      <td>@CDcodes</td>\n",
       "      <td>Thanks for watching! I haven't played around w...</td>\n",
       "      <td>2025-03-03T22:20:04Z</td>\n",
       "      <td>0</td>\n",
       "      <td>NaN</td>\n",
       "      <td>Ugysv5Erz5c84y_Fsrd4AaABAg</td>\n",
       "      <td>2025-04-03 01:00:46.653186</td>\n",
       "    </tr>\n",
       "    <tr>\n",
       "      <th>9</th>\n",
       "      <td>Ugym5WKbqvgNqQdqTgh4AaABAg</td>\n",
       "      <td>72Ef65B65JA</td>\n",
       "      <td>@appsenence9244</td>\n",
       "      <td>Idk why I'm getting this error while trying to...</td>\n",
       "      <td>2025-02-19T14:56:06Z</td>\n",
       "      <td>0</td>\n",
       "      <td>4.0</td>\n",
       "      <td>None</td>\n",
       "      <td>2025-04-03 01:00:46.653186</td>\n",
       "    </tr>\n",
       "  </tbody>\n",
       "</table>\n",
       "</div>"
      ],
      "text/plain": [
       "                                          comment_id     video_id  \\\n",
       "0                         UgwerLKK8iN9HRRWhQB4AaABAg  72Ef65B65JA   \n",
       "1  UgwerLKK8iN9HRRWhQB4AaABAg.AGEJqym_U1oAGJ-AbRIA54         None   \n",
       "2                         Ugwt5Tcy5DR98EpXUfF4AaABAg  72Ef65B65JA   \n",
       "3  Ugwt5Tcy5DR98EpXUfF4AaABAg.AF2kuCt8XAHAFDjze7l89D         None   \n",
       "4                         UgzgAHrcz8j51SwKlYN4AaABAg  72Ef65B65JA   \n",
       "5  UgzgAHrcz8j51SwKlYN4AaABAg.AEnYHCE2OBBAFDkIjYjRNe         None   \n",
       "6  UgzgAHrcz8j51SwKlYN4AaABAg.AEnYHCE2OBBAGEJyK8fAmJ         None   \n",
       "7                         Ugysv5Erz5c84y_Fsrd4AaABAg  72Ef65B65JA   \n",
       "8  Ugysv5Erz5c84y_Fsrd4AaABAg.AEmMNPbHdI7AFDk8QJqy3Y         None   \n",
       "9                         Ugym5WKbqvgNqQdqTgh4AaABAg  72Ef65B65JA   \n",
       "\n",
       "              author                                               text  \\\n",
       "0         @PARK60264            Is this local? lama is not local is it?   \n",
       "1           @CDcodes  Yes if you follow the install instructions it ...   \n",
       "2  @xiaoyanzheng6435  hi thank you for sharing this very helpful! fo...   \n",
       "3           @CDcodes  Thanks for watching! Not sure why you're seein...   \n",
       "4   @googleadmin4749  Halfpoker is misleading, it uses the Lama crut...   \n",
       "5           @CDcodes  Sorry to hear you didn't enjoy the video. If t...   \n",
       "6         @PARK60264   @@CDcodes Sounds like AI generated response lol.   \n",
       "7       @carloscastc  Dude this is an excellent tutorial, hope you u...   \n",
       "8           @CDcodes  Thanks for watching! I haven't played around w...   \n",
       "9    @appsenence9244  Idk why I'm getting this error while trying to...   \n",
       "\n",
       "           published_at  like_count  reply_count                   parent_id  \\\n",
       "0  2025-03-29T00:12:15Z           0          1.0                        None   \n",
       "1  2025-03-30T19:47:46Z           0          NaN  UgwerLKK8iN9HRRWhQB4AaABAg   \n",
       "2  2025-02-27T15:55:04Z           0          1.0                        None   \n",
       "3  2025-03-03T22:18:44Z           0          NaN  Ugwt5Tcy5DR98EpXUfF4AaABAg   \n",
       "4  2025-02-21T08:48:10Z           0          2.0                        None   \n",
       "5  2025-03-03T22:21:28Z           0          NaN  UgzgAHrcz8j51SwKlYN4AaABAg   \n",
       "6  2025-03-29T00:13:15Z           0          NaN  UgzgAHrcz8j51SwKlYN4AaABAg   \n",
       "7  2025-02-20T21:44:55Z           0          1.0                        None   \n",
       "8  2025-03-03T22:20:04Z           0          NaN  Ugysv5Erz5c84y_Fsrd4AaABAg   \n",
       "9  2025-02-19T14:56:06Z           0          4.0                        None   \n",
       "\n",
       "  video_all_comments_commit_time  \n",
       "0     2025-04-03 01:00:46.216355  \n",
       "1     2025-04-03 01:00:46.308110  \n",
       "2     2025-04-03 01:00:46.309107  \n",
       "3     2025-04-03 01:00:46.427789  \n",
       "4     2025-04-03 01:00:46.428786  \n",
       "5     2025-04-03 01:00:46.537496  \n",
       "6     2025-04-03 01:00:46.537496  \n",
       "7     2025-04-03 01:00:46.538493  \n",
       "8     2025-04-03 01:00:46.653186  \n",
       "9     2025-04-03 01:00:46.653186  "
      ]
     },
     "execution_count": 77,
     "metadata": {},
     "output_type": "execute_result"
    }
   ],
   "source": [
    "all_comments_pandas_df = client.get_all_comments_for_video_ids(videos_pandas_df['video_id'][0:5], key_format=\"lower\", output_format=\"pandas\")\n",
    "print(f\"Collected {all_comments_pandas_df.shape[0]} comments across {len(videos_pandas_df['video_id'][0:5].unique())} videos.\")\n",
    "print(f\"Remaining units in quota: {client.get_remaining_quota()}\")\n",
    "all_comments_pandas_df.head(10)"
   ]
  },
  {
   "cell_type": "code",
   "execution_count": 78,
   "metadata": {},
   "outputs": [
    {
     "name": "stdout",
     "output_type": "stream",
     "text": [
      "Fetching all comments for video ID: 72Ef65B65JA\n",
      "Fetching all comments for video ID: 72Ef65B65JA\n",
      "Fetching all comments for video ID: 72Ef65B65JA\n",
      "Fetching all comments for video ID: 72Ef65B65JA\n",
      "Fetching all comments for video ID: 72Ef65B65JA\n",
      "Collected 90 comments across 1 videos.\n",
      "Remaining units in quota: 9505\n"
     ]
    },
    {
     "data": {
      "text/html": [
       "<div><style>\n",
       ".dataframe > thead > tr,\n",
       ".dataframe > tbody > tr {\n",
       "  text-align: right;\n",
       "  white-space: pre-wrap;\n",
       "}\n",
       "</style>\n",
       "<small>shape: (10, 9)</small><table border=\"1\" class=\"dataframe\"><thead><tr><th>COMMENT_ID</th><th>VIDEO_ID</th><th>AUTHOR</th><th>TEXT</th><th>PUBLISHED_AT</th><th>LIKE_COUNT</th><th>REPLY_COUNT</th><th>PARENT_ID</th><th>VIDEO_ALL_COMMENTS_COMMIT_TIME</th></tr><tr><td>str</td><td>str</td><td>str</td><td>str</td><td>str</td><td>i64</td><td>i64</td><td>str</td><td>str</td></tr></thead><tbody><tr><td>&quot;Ugysv5Erz5c84y_Fsrd4AaABAg.AEm…</td><td>null</td><td>&quot;@CDcodes&quot;</td><td>&quot;Thanks for watching! I haven&#x27;t…</td><td>&quot;2025-03-03T22:20:04Z&quot;</td><td>0</td><td>null</td><td>&quot;Ugysv5Erz5c84y_Fsrd4AaABAg&quot;</td><td>&quot;2025-04-03 01:00:56.083239&quot;</td></tr><tr><td>&quot;Ugym5WKbqvgNqQdqTgh4AaABAg&quot;</td><td>&quot;72Ef65B65JA&quot;</td><td>&quot;@appsenence9244&quot;</td><td>&quot;Idk why I&#x27;m getting this error…</td><td>&quot;2025-02-19T14:56:06Z&quot;</td><td>0</td><td>4</td><td>null</td><td>&quot;2025-04-03 01:00:56.084237&quot;</td></tr><tr><td>&quot;Ugym5WKbqvgNqQdqTgh4AaABAg.AEj…</td><td>null</td><td>&quot;@appsenence9244&quot;</td><td>&quot;Never mind... I had to pull th…</td><td>&quot;2025-02-19T15:34:29Z&quot;</td><td>0</td><td>null</td><td>&quot;Ugym5WKbqvgNqQdqTgh4AaABAg&quot;</td><td>&quot;2025-04-03 01:00:56.184967&quot;</td></tr><tr><td>&quot;Ugym5WKbqvgNqQdqTgh4AaABAg.AEj…</td><td>null</td><td>&quot;@korsik4559&quot;</td><td>&quot;@@appsenence9244 change &#x27;model…</td><td>&quot;2025-02-20T22:34:08Z&quot;</td><td>1</td><td>null</td><td>&quot;Ugym5WKbqvgNqQdqTgh4AaABAg&quot;</td><td>&quot;2025-04-03 01:00:56.184967&quot;</td></tr><tr><td>&quot;Ugym5WKbqvgNqQdqTgh4AaABAg.AEj…</td><td>null</td><td>&quot;@CDcodes&quot;</td><td>&quot;thanks for helping out here : …</td><td>&quot;2025-03-03T22:40:44Z&quot;</td><td>0</td><td>null</td><td>&quot;Ugym5WKbqvgNqQdqTgh4AaABAg&quot;</td><td>&quot;2025-04-03 01:00:56.184967&quot;</td></tr><tr><td>&quot;Ugym5WKbqvgNqQdqTgh4AaABAg.AEj…</td><td>null</td><td>&quot;@appsenence9244&quot;</td><td>&quot;@@korsik4559 i used a differen…</td><td>&quot;2025-03-03T22:52:30Z&quot;</td><td>0</td><td>null</td><td>&quot;Ugym5WKbqvgNqQdqTgh4AaABAg&quot;</td><td>&quot;2025-04-03 01:00:56.184967&quot;</td></tr><tr><td>&quot;Ugy2GPnoS69usGOCMwp4AaABAg&quot;</td><td>&quot;72Ef65B65JA&quot;</td><td>&quot;@alikayhanatay9080&quot;</td><td>&quot;great, easy to follow tutorial…</td><td>&quot;2025-02-16T18:31:55Z&quot;</td><td>1</td><td>1</td><td>null</td><td>&quot;2025-04-03 01:00:56.184967&quot;</td></tr><tr><td>&quot;Ugy2GPnoS69usGOCMwp4AaABAg.AEb…</td><td>null</td><td>&quot;@CDcodes&quot;</td><td>&quot;Thank you! I&#x27;m planning on upl…</td><td>&quot;2025-02-16T18:55:35Z&quot;</td><td>1</td><td>null</td><td>&quot;Ugy2GPnoS69usGOCMwp4AaABAg&quot;</td><td>&quot;2025-04-03 01:00:56.281708&quot;</td></tr><tr><td>&quot;UgxpBojUlkiwpvUlzAt4AaABAg&quot;</td><td>&quot;72Ef65B65JA&quot;</td><td>&quot;@MyFishWillKillU&quot;</td><td>&quot;First 😂&quot;</td><td>&quot;2025-02-09T21:05:08Z&quot;</td><td>0</td><td>1</td><td>null</td><td>&quot;2025-04-03 01:00:56.282706&quot;</td></tr><tr><td>&quot;UgxpBojUlkiwpvUlzAt4AaABAg.AEK…</td><td>null</td><td>&quot;@CDcodes&quot;</td><td>&quot;🙌&quot;</td><td>&quot;2025-02-19T05:00:41Z&quot;</td><td>0</td><td>null</td><td>&quot;UgxpBojUlkiwpvUlzAt4AaABAg&quot;</td><td>&quot;2025-04-03 01:00:56.408370&quot;</td></tr></tbody></table></div>"
      ],
      "text/plain": [
       "shape: (10, 9)\n",
       "┌───────────┬───────────┬───────────┬───────────┬───┬───────────┬───────────┬───────────┬──────────┐\n",
       "│ COMMENT_I ┆ VIDEO_ID  ┆ AUTHOR    ┆ TEXT      ┆ … ┆ LIKE_COUN ┆ REPLY_COU ┆ PARENT_ID ┆ VIDEO_AL │\n",
       "│ D         ┆ ---       ┆ ---       ┆ ---       ┆   ┆ T         ┆ NT        ┆ ---       ┆ L_COMMEN │\n",
       "│ ---       ┆ str       ┆ str       ┆ str       ┆   ┆ ---       ┆ ---       ┆ str       ┆ TS_COMMI │\n",
       "│ str       ┆           ┆           ┆           ┆   ┆ i64       ┆ i64       ┆           ┆ T_TIME   │\n",
       "│           ┆           ┆           ┆           ┆   ┆           ┆           ┆           ┆ ---      │\n",
       "│           ┆           ┆           ┆           ┆   ┆           ┆           ┆           ┆ str      │\n",
       "╞═══════════╪═══════════╪═══════════╪═══════════╪═══╪═══════════╪═══════════╪═══════════╪══════════╡\n",
       "│ Ugysv5Erz ┆ null      ┆ @CDcodes  ┆ Thanks    ┆ … ┆ 0         ┆ null      ┆ Ugysv5Erz ┆ 2025-04- │\n",
       "│ 5c84y_Fsr ┆           ┆           ┆ for       ┆   ┆           ┆           ┆ 5c84y_Fsr ┆ 03 01:00 │\n",
       "│ d4AaABAg. ┆           ┆           ┆ watching! ┆   ┆           ┆           ┆ d4AaABAg  ┆ :56.0832 │\n",
       "│ AEm…      ┆           ┆           ┆ I         ┆   ┆           ┆           ┆           ┆ 39       │\n",
       "│           ┆           ┆           ┆ haven't…  ┆   ┆           ┆           ┆           ┆          │\n",
       "│ Ugym5WKbq ┆ 72Ef65B65 ┆ @appsenen ┆ Idk why   ┆ … ┆ 0         ┆ 4         ┆ null      ┆ 2025-04- │\n",
       "│ vgNqQdqTg ┆ JA        ┆ ce9244    ┆ I'm       ┆   ┆           ┆           ┆           ┆ 03 01:00 │\n",
       "│ h4AaABAg  ┆           ┆           ┆ getting   ┆   ┆           ┆           ┆           ┆ :56.0842 │\n",
       "│           ┆           ┆           ┆ this      ┆   ┆           ┆           ┆           ┆ 37       │\n",
       "│           ┆           ┆           ┆ error…    ┆   ┆           ┆           ┆           ┆          │\n",
       "│ Ugym5WKbq ┆ null      ┆ @appsenen ┆ Never     ┆ … ┆ 0         ┆ null      ┆ Ugym5WKbq ┆ 2025-04- │\n",
       "│ vgNqQdqTg ┆           ┆ ce9244    ┆ mind... I ┆   ┆           ┆           ┆ vgNqQdqTg ┆ 03 01:00 │\n",
       "│ h4AaABAg. ┆           ┆           ┆ had to    ┆   ┆           ┆           ┆ h4AaABAg  ┆ :56.1849 │\n",
       "│ AEj…      ┆           ┆           ┆ pull th…  ┆   ┆           ┆           ┆           ┆ 67       │\n",
       "│ Ugym5WKbq ┆ null      ┆ @korsik45 ┆ @@appsene ┆ … ┆ 1         ┆ null      ┆ Ugym5WKbq ┆ 2025-04- │\n",
       "│ vgNqQdqTg ┆           ┆ 59        ┆ nce9244   ┆   ┆           ┆           ┆ vgNqQdqTg ┆ 03 01:00 │\n",
       "│ h4AaABAg. ┆           ┆           ┆ change    ┆   ┆           ┆           ┆ h4AaABAg  ┆ :56.1849 │\n",
       "│ AEj…      ┆           ┆           ┆ 'model…   ┆   ┆           ┆           ┆           ┆ 67       │\n",
       "│ Ugym5WKbq ┆ null      ┆ @CDcodes  ┆ thanks    ┆ … ┆ 0         ┆ null      ┆ Ugym5WKbq ┆ 2025-04- │\n",
       "│ vgNqQdqTg ┆           ┆           ┆ for       ┆   ┆           ┆           ┆ vgNqQdqTg ┆ 03 01:00 │\n",
       "│ h4AaABAg. ┆           ┆           ┆ helping   ┆   ┆           ┆           ┆ h4AaABAg  ┆ :56.1849 │\n",
       "│ AEj…      ┆           ┆           ┆ out here  ┆   ┆           ┆           ┆           ┆ 67       │\n",
       "│           ┆           ┆           ┆ : …       ┆   ┆           ┆           ┆           ┆          │\n",
       "│ Ugym5WKbq ┆ null      ┆ @appsenen ┆ @@korsik4 ┆ … ┆ 0         ┆ null      ┆ Ugym5WKbq ┆ 2025-04- │\n",
       "│ vgNqQdqTg ┆           ┆ ce9244    ┆ 559 i     ┆   ┆           ┆           ┆ vgNqQdqTg ┆ 03 01:00 │\n",
       "│ h4AaABAg. ┆           ┆           ┆ used a    ┆   ┆           ┆           ┆ h4AaABAg  ┆ :56.1849 │\n",
       "│ AEj…      ┆           ┆           ┆ differen… ┆   ┆           ┆           ┆           ┆ 67       │\n",
       "│ Ugy2GPnoS ┆ 72Ef65B65 ┆ @alikayha ┆ great,    ┆ … ┆ 1         ┆ 1         ┆ null      ┆ 2025-04- │\n",
       "│ 69usGOCMw ┆ JA        ┆ natay9080 ┆ easy to   ┆   ┆           ┆           ┆           ┆ 03 01:00 │\n",
       "│ p4AaABAg  ┆           ┆           ┆ follow    ┆   ┆           ┆           ┆           ┆ :56.1849 │\n",
       "│           ┆           ┆           ┆ tutorial… ┆   ┆           ┆           ┆           ┆ 67       │\n",
       "│ Ugy2GPnoS ┆ null      ┆ @CDcodes  ┆ Thank     ┆ … ┆ 1         ┆ null      ┆ Ugy2GPnoS ┆ 2025-04- │\n",
       "│ 69usGOCMw ┆           ┆           ┆ you! I'm  ┆   ┆           ┆           ┆ 69usGOCMw ┆ 03 01:00 │\n",
       "│ p4AaABAg. ┆           ┆           ┆ planning  ┆   ┆           ┆           ┆ p4AaABAg  ┆ :56.2817 │\n",
       "│ AEb…      ┆           ┆           ┆ on upl…   ┆   ┆           ┆           ┆           ┆ 08       │\n",
       "│ UgxpBojUl ┆ 72Ef65B65 ┆ @MyFishWi ┆ First 😂  ┆ … ┆ 0         ┆ 1         ┆ null      ┆ 2025-04- │\n",
       "│ kiwpvUlzA ┆ JA        ┆ llKillU   ┆           ┆   ┆           ┆           ┆           ┆ 03 01:00 │\n",
       "│ t4AaABAg  ┆           ┆           ┆           ┆   ┆           ┆           ┆           ┆ :56.2827 │\n",
       "│           ┆           ┆           ┆           ┆   ┆           ┆           ┆           ┆ 06       │\n",
       "│ UgxpBojUl ┆ null      ┆ @CDcodes  ┆ 🙌        ┆ … ┆ 0         ┆ null      ┆ UgxpBojUl ┆ 2025-04- │\n",
       "│ kiwpvUlzA ┆           ┆           ┆           ┆   ┆           ┆           ┆ kiwpvUlzA ┆ 03 01:00 │\n",
       "│ t4AaABAg. ┆           ┆           ┆           ┆   ┆           ┆           ┆ t4AaABAg  ┆ :56.4083 │\n",
       "│ AEK…      ┆           ┆           ┆           ┆   ┆           ┆           ┆           ┆ 70       │\n",
       "└───────────┴───────────┴───────────┴───────────┴───┴───────────┴───────────┴───────────┴──────────┘"
      ]
     },
     "execution_count": 78,
     "metadata": {},
     "output_type": "execute_result"
    }
   ],
   "source": [
    "all_comments_polars_df = client.get_all_comments_for_video_ids(comments_polars_df['VIDEO_ID'][0:5], key_format=\"upper\", output_format=\"polars\")\n",
    "print(f\"Collected {all_comments_polars_df.shape[0]} comments across {len(comments_polars_df['VIDEO_ID'][0:5].unique())} videos.\")\n",
    "print(f\"Remaining units in quota: {client.get_remaining_quota()}\")\n",
    "all_comments_polars_df.tail(10)"
   ]
  }
 ],
 "metadata": {
  "kernelspec": {
   "display_name": "scraper_tutorial_env",
   "language": "python",
   "name": "python3"
  },
  "language_info": {
   "codemirror_mode": {
    "name": "ipython",
    "version": 3
   },
   "file_extension": ".py",
   "mimetype": "text/x-python",
   "name": "python",
   "nbconvert_exporter": "python",
   "pygments_lexer": "ipython3",
   "version": "3.11.3"
  }
 },
 "nbformat": 4,
 "nbformat_minor": 2
}
