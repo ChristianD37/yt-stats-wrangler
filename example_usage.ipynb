{
 "cells": [
  {
   "cell_type": "markdown",
   "metadata": {},
   "source": [
    "# Setup - Load API Key and YouTubeDataClient"
   ]
  },
  {
   "cell_type": "code",
   "execution_count": 12,
   "metadata": {},
   "outputs": [],
   "source": [
    "# Load environment variables\n",
    "import os\n",
    "from yt_stats_wrangler.api.client import YouTubeDataClient\n",
    "\n",
    "# Channel ID(s) to test the package\n",
    "# Feel free to test the package with those of your choosing\n",
    "TEST_CHANNEL_ID = 'UCB2mKxxXPK3X8SJkAc-db3A' # https://www.youtube.com/@cdcodes\n",
    "TEST_CHANNEL_IDS = ['UCB2mKxxXPK3X8SJkAc-db3A', 'UC0pIFIthf92_8ku2NAYFG_Q'] # https://www.youtube.com/@cdcodes, https://www.youtube.com/@homedawg_yt\n",
    "\n",
    "# Get your API key - recommended to store it as an environment variable\n",
    "YOUTUBE_API_KEY = os.getenv(\"YOUTUBE_API_V3_KEY\")\n",
    "\n",
    "if not YOUTUBE_API_KEY:\n",
    "    raise ValueError(\"Missing YOUTUBE_API_V3_KEY. it is recommended that you set it as an environment variable.\")\n",
    "\n",
    "# Create the client (with no quota limit)\n",
    "client = YouTubeDataClient(api_key=YOUTUBE_API_KEY)"
   ]
  },
  {
   "cell_type": "markdown",
   "metadata": {},
   "source": [
    "# Gather Video IDs and Metadata\n",
    "## Gather video IDs, titles and descriptions from a single channel"
   ]
  },
  {
   "cell_type": "code",
   "execution_count": 15,
   "metadata": {},
   "outputs": [
    {
     "name": "stdout",
     "output_type": "stream",
     "text": [
      "Collected 18 videos.\n"
     ]
    },
    {
     "data": {
      "text/plain": [
       "[{'channelId': 'UCB2mKxxXPK3X8SJkAc-db3A',\n",
       "  'videoId': '72Ef65B65JA',\n",
       "  'publishedAt': '2025-02-09T21:01:50Z',\n",
       "  'title': 'Python DeepSeek Tutorial: Installing DeepSeek Locally and Interfacing with Python',\n",
       "  'description': \"In this tutorial, we'll be installing DeepSeek onto our local machine, and then interfacing with the LLM through a Python script. I'll also run through a few very basic use cases that can give you an idea of how you might process data and automate tasks through an LLM.\\n\\nCode and Datasets can be found here: https://github.com/ChristianD37/YoutubeTutorials/tree/master/DeepSeekPython\\n\\nollama download: https://ollama.com/download\\ndeepseek-r1 page: https://ollama.com/library/deepseek-r1\\n\\n00:00 - Introduction\\n00:56 - Installing ollama and DeepSeek locally\\n02:05 - Interfacing with DeepSeek through Python\\n03:46 - Cleaner Interface Function\\n06:54 - Sentiment Analysis on YouTube Comments\\n11:24 - Pokemon 3 to 5 sentence Stat Summaries\",\n",
       "  'channelTitle': 'CDcodes',\n",
       "  'videoDetails_commit_time': '2025-03-30 18:41:45.532672'},\n",
       " {'channelId': 'UCB2mKxxXPK3X8SJkAc-db3A',\n",
       "  'videoId': 'S3dlYi7LPk0',\n",
       "  'publishedAt': '2024-08-18T23:14:38Z',\n",
       "  'title': 'Thank You Pygame',\n",
       "  'description': \"An ode to pygame, the quirky little python module that tricked me into learning Python.\\n\\nAny future content on this channel will likely not be pygame focused. That being said, I super appreciate anyone who watched those videos! I hope you learned something useful along the way : )\\n\\nLearn more about pygame here: \\nhttps://www.pygame.org/news\\nhttps://github.com/pygame\\n\\nCheckout my personal channel if you'd like:\\nhttps://www.youtube.com/@homedawg_yt\",\n",
       "  'channelTitle': 'CDcodes',\n",
       "  'videoDetails_commit_time': '2025-03-30 18:41:45.532672'}]"
      ]
     },
     "execution_count": 15,
     "metadata": {},
     "output_type": "execute_result"
    }
   ],
   "source": [
    "# Get all public videos from a channel and print out in raw form\n",
    "videos = client.get_all_video_details_for_channel(TEST_CHANNEL_ID, key_format=\"raw\", output_format='raw')\n",
    "print(f\"Collected {len(videos)} videos.\")\n",
    "videos[:2]  # Preview first few results"
   ]
  },
  {
   "cell_type": "code",
   "execution_count": 16,
   "metadata": {},
   "outputs": [
    {
     "name": "stdout",
     "output_type": "stream",
     "text": [
      "Collected 18 videos.\n"
     ]
    },
    {
     "data": {
      "text/html": [
       "<div>\n",
       "<style scoped>\n",
       "    .dataframe tbody tr th:only-of-type {\n",
       "        vertical-align: middle;\n",
       "    }\n",
       "\n",
       "    .dataframe tbody tr th {\n",
       "        vertical-align: top;\n",
       "    }\n",
       "\n",
       "    .dataframe thead th {\n",
       "        text-align: right;\n",
       "    }\n",
       "</style>\n",
       "<table border=\"1\" class=\"dataframe\">\n",
       "  <thead>\n",
       "    <tr style=\"text-align: right;\">\n",
       "      <th></th>\n",
       "      <th>CHANNEL_ID</th>\n",
       "      <th>VIDEO_ID</th>\n",
       "      <th>PUBLISHED_AT</th>\n",
       "      <th>TITLE</th>\n",
       "      <th>DESCRIPTION</th>\n",
       "      <th>CHANNEL_TITLE</th>\n",
       "      <th>VIDEO_DETAILS_COMMIT_TIME</th>\n",
       "    </tr>\n",
       "  </thead>\n",
       "  <tbody>\n",
       "    <tr>\n",
       "      <th>0</th>\n",
       "      <td>UCB2mKxxXPK3X8SJkAc-db3A</td>\n",
       "      <td>72Ef65B65JA</td>\n",
       "      <td>2025-02-09T21:01:50Z</td>\n",
       "      <td>Python DeepSeek Tutorial: Installing DeepSeek ...</td>\n",
       "      <td>In this tutorial, we'll be installing DeepSeek...</td>\n",
       "      <td>CDcodes</td>\n",
       "      <td>2025-03-30 18:41:45.778132</td>\n",
       "    </tr>\n",
       "    <tr>\n",
       "      <th>1</th>\n",
       "      <td>UCB2mKxxXPK3X8SJkAc-db3A</td>\n",
       "      <td>S3dlYi7LPk0</td>\n",
       "      <td>2024-08-18T23:14:38Z</td>\n",
       "      <td>Thank You Pygame</td>\n",
       "      <td>An ode to pygame, the quirky little python mod...</td>\n",
       "      <td>CDcodes</td>\n",
       "      <td>2025-03-30 18:41:45.778132</td>\n",
       "    </tr>\n",
       "    <tr>\n",
       "      <th>2</th>\n",
       "      <td>UCB2mKxxXPK3X8SJkAc-db3A</td>\n",
       "      <td>5OoukJNz3YQ</td>\n",
       "      <td>2023-05-30T00:05:58Z</td>\n",
       "      <td>Beginner Python Project From Scratch: Web Scra...</td>\n",
       "      <td>In this video, I'll be walking you through a r...</td>\n",
       "      <td>CDcodes</td>\n",
       "      <td>2025-03-30 18:41:45.778132</td>\n",
       "    </tr>\n",
       "    <tr>\n",
       "      <th>3</th>\n",
       "      <td>UCB2mKxxXPK3X8SJkAc-db3A</td>\n",
       "      <td>ruISjcokmuk</td>\n",
       "      <td>2022-11-09T01:38:55Z</td>\n",
       "      <td>Beginner Python Project From Scratch: Rock Pap...</td>\n",
       "      <td>Follow along with me on replit: https://replit...</td>\n",
       "      <td>CDcodes</td>\n",
       "      <td>2025-03-30 18:41:45.778132</td>\n",
       "    </tr>\n",
       "    <tr>\n",
       "      <th>4</th>\n",
       "      <td>UCB2mKxxXPK3X8SJkAc-db3A</td>\n",
       "      <td>Q6CCdCBVypg</td>\n",
       "      <td>2022-04-05T22:45:48Z</td>\n",
       "      <td>Beginner Python Project From Scratch: Tic Tac Toe</td>\n",
       "      <td>Follow along with me on replit: https://replit...</td>\n",
       "      <td>CDcodes</td>\n",
       "      <td>2025-03-30 18:41:45.778132</td>\n",
       "    </tr>\n",
       "  </tbody>\n",
       "</table>\n",
       "</div>"
      ],
      "text/plain": [
       "                 CHANNEL_ID     VIDEO_ID          PUBLISHED_AT  \\\n",
       "0  UCB2mKxxXPK3X8SJkAc-db3A  72Ef65B65JA  2025-02-09T21:01:50Z   \n",
       "1  UCB2mKxxXPK3X8SJkAc-db3A  S3dlYi7LPk0  2024-08-18T23:14:38Z   \n",
       "2  UCB2mKxxXPK3X8SJkAc-db3A  5OoukJNz3YQ  2023-05-30T00:05:58Z   \n",
       "3  UCB2mKxxXPK3X8SJkAc-db3A  ruISjcokmuk  2022-11-09T01:38:55Z   \n",
       "4  UCB2mKxxXPK3X8SJkAc-db3A  Q6CCdCBVypg  2022-04-05T22:45:48Z   \n",
       "\n",
       "                                               TITLE  \\\n",
       "0  Python DeepSeek Tutorial: Installing DeepSeek ...   \n",
       "1                                   Thank You Pygame   \n",
       "2  Beginner Python Project From Scratch: Web Scra...   \n",
       "3  Beginner Python Project From Scratch: Rock Pap...   \n",
       "4  Beginner Python Project From Scratch: Tic Tac Toe   \n",
       "\n",
       "                                         DESCRIPTION CHANNEL_TITLE  \\\n",
       "0  In this tutorial, we'll be installing DeepSeek...       CDcodes   \n",
       "1  An ode to pygame, the quirky little python mod...       CDcodes   \n",
       "2  In this video, I'll be walking you through a r...       CDcodes   \n",
       "3  Follow along with me on replit: https://replit...       CDcodes   \n",
       "4  Follow along with me on replit: https://replit...       CDcodes   \n",
       "\n",
       "    VIDEO_DETAILS_COMMIT_TIME  \n",
       "0  2025-03-30 18:41:45.778132  \n",
       "1  2025-03-30 18:41:45.778132  \n",
       "2  2025-03-30 18:41:45.778132  \n",
       "3  2025-03-30 18:41:45.778132  \n",
       "4  2025-03-30 18:41:45.778132  "
      ]
     },
     "execution_count": 16,
     "metadata": {},
     "output_type": "execute_result"
    }
   ],
   "source": [
    "# Get all public videos from a channel and output a pandas dataframe with formatted column names\n",
    "videos_pandas_df = client.get_all_video_details_for_channel(TEST_CHANNEL_ID, key_format=\"upper\", output_format='pandas')\n",
    "print(f\"Collected {videos_pandas_df.shape[0]} videos.\")\n",
    "videos_pandas_df.head(5)  # Preview first few results"
   ]
  },
  {
   "cell_type": "markdown",
   "metadata": {},
   "source": [
    "## Gather video IDs, titles and descriptions from multiple channels at a time"
   ]
  },
  {
   "cell_type": "code",
   "execution_count": 17,
   "metadata": {},
   "outputs": [
    {
     "name": "stdout",
     "output_type": "stream",
     "text": [
      "Fetching videos for channel: UCB2mKxxXPK3X8SJkAc-db3A\n",
      "Fetching videos for channel: UC0pIFIthf92_8ku2NAYFG_Q\n",
      "Collected 20 videos.\n"
     ]
    },
    {
     "data": {
      "text/plain": [
       "[{'channelId': 'UCB2mKxxXPK3X8SJkAc-db3A',\n",
       "  'videoId': '72Ef65B65JA',\n",
       "  'publishedAt': '2025-02-09T21:01:50Z',\n",
       "  'title': 'Python DeepSeek Tutorial: Installing DeepSeek Locally and Interfacing with Python',\n",
       "  'description': \"In this tutorial, we'll be installing DeepSeek onto our local machine, and then interfacing with the LLM through a Python script. I'll also run through a few very basic use cases that can give you an idea of how you might process data and automate tasks through an LLM.\\n\\nCode and Datasets can be found here: https://github.com/ChristianD37/YoutubeTutorials/tree/master/DeepSeekPython\\n\\nollama download: https://ollama.com/download\\ndeepseek-r1 page: https://ollama.com/library/deepseek-r1\\n\\n00:00 - Introduction\\n00:56 - Installing ollama and DeepSeek locally\\n02:05 - Interfacing with DeepSeek through Python\\n03:46 - Cleaner Interface Function\\n06:54 - Sentiment Analysis on YouTube Comments\\n11:24 - Pokemon 3 to 5 sentence Stat Summaries\",\n",
       "  'channelTitle': 'CDcodes',\n",
       "  'videoDetails_commit_time': '2025-03-30 18:41:46.018004'},\n",
       " {'channelId': 'UCB2mKxxXPK3X8SJkAc-db3A',\n",
       "  'videoId': 'S3dlYi7LPk0',\n",
       "  'publishedAt': '2024-08-18T23:14:38Z',\n",
       "  'title': 'Thank You Pygame',\n",
       "  'description': \"An ode to pygame, the quirky little python module that tricked me into learning Python.\\n\\nAny future content on this channel will likely not be pygame focused. That being said, I super appreciate anyone who watched those videos! I hope you learned something useful along the way : )\\n\\nLearn more about pygame here: \\nhttps://www.pygame.org/news\\nhttps://github.com/pygame\\n\\nCheckout my personal channel if you'd like:\\nhttps://www.youtube.com/@homedawg_yt\",\n",
       "  'channelTitle': 'CDcodes',\n",
       "  'videoDetails_commit_time': '2025-03-30 18:41:46.018004'}]"
      ]
     },
     "execution_count": 17,
     "metadata": {},
     "output_type": "execute_result"
    }
   ],
   "source": [
    "# Get all public videos from a channel and print out in raw form\n",
    "videos = client.get_all_video_details_for_channels(TEST_CHANNEL_IDS, key_format=\"raw\", output_format='raw')\n",
    "print(f\"Collected {len(videos)} videos.\")\n",
    "videos[:2]  # Preview first few results"
   ]
  },
  {
   "cell_type": "code",
   "execution_count": 18,
   "metadata": {},
   "outputs": [
    {
     "name": "stdout",
     "output_type": "stream",
     "text": [
      "Fetching videos for channel: UCB2mKxxXPK3X8SJkAc-db3A\n",
      "Fetching videos for channel: UC0pIFIthf92_8ku2NAYFG_Q\n",
      "Collected 20 videos.\n"
     ]
    },
    {
     "data": {
      "text/html": [
       "<div>\n",
       "<style scoped>\n",
       "    .dataframe tbody tr th:only-of-type {\n",
       "        vertical-align: middle;\n",
       "    }\n",
       "\n",
       "    .dataframe tbody tr th {\n",
       "        vertical-align: top;\n",
       "    }\n",
       "\n",
       "    .dataframe thead th {\n",
       "        text-align: right;\n",
       "    }\n",
       "</style>\n",
       "<table border=\"1\" class=\"dataframe\">\n",
       "  <thead>\n",
       "    <tr style=\"text-align: right;\">\n",
       "      <th></th>\n",
       "      <th>channel_id</th>\n",
       "      <th>video_id</th>\n",
       "      <th>published_at</th>\n",
       "      <th>title</th>\n",
       "      <th>description</th>\n",
       "      <th>channel_title</th>\n",
       "      <th>video_details_commit_time</th>\n",
       "    </tr>\n",
       "  </thead>\n",
       "  <tbody>\n",
       "    <tr>\n",
       "      <th>15</th>\n",
       "      <td>UCB2mKxxXPK3X8SJkAc-db3A</td>\n",
       "      <td>ePiMYe7JpJo</td>\n",
       "      <td>2020-07-27T15:59:04Z</td>\n",
       "      <td>Pygame Sprite Sheet Tutorial: How to Load, Par...</td>\n",
       "      <td>In this tutorial, we'll be learning all about ...</td>\n",
       "      <td>CDcodes</td>\n",
       "      <td>2025-03-30 18:41:46.505227</td>\n",
       "    </tr>\n",
       "    <tr>\n",
       "      <th>16</th>\n",
       "      <td>UCB2mKxxXPK3X8SJkAc-db3A</td>\n",
       "      <td>bmRFi7-gy5Y</td>\n",
       "      <td>2020-07-24T06:33:18Z</td>\n",
       "      <td>Pygame Menu System Tutorial Part 2: Building t...</td>\n",
       "      <td>LINK TO PART 1: https://youtu.be/a5JWrd7Y_14\\n...</td>\n",
       "      <td>CDcodes</td>\n",
       "      <td>2025-03-30 18:41:46.505227</td>\n",
       "    </tr>\n",
       "    <tr>\n",
       "      <th>17</th>\n",
       "      <td>UCB2mKxxXPK3X8SJkAc-db3A</td>\n",
       "      <td>a5JWrd7Y_14</td>\n",
       "      <td>2020-07-24T06:03:54Z</td>\n",
       "      <td>Pygame Menu System Tutorial Part 1: Game Loops...</td>\n",
       "      <td>LINK TO PART 2: https://www.youtube.com/watch?...</td>\n",
       "      <td>CDcodes</td>\n",
       "      <td>2025-03-30 18:41:46.505227</td>\n",
       "    </tr>\n",
       "    <tr>\n",
       "      <th>18</th>\n",
       "      <td>UC0pIFIthf92_8ku2NAYFG_Q</td>\n",
       "      <td>D7YJXgtLqAU</td>\n",
       "      <td>2024-05-05T23:21:21Z</td>\n",
       "      <td>Nostalgia, Change and Pokemon</td>\n",
       "      <td>Examining my relationship with the greatest ma...</td>\n",
       "      <td>homedawg</td>\n",
       "      <td>2025-03-30 18:41:46.712691</td>\n",
       "    </tr>\n",
       "    <tr>\n",
       "      <th>19</th>\n",
       "      <td>UC0pIFIthf92_8ku2NAYFG_Q</td>\n",
       "      <td>vDm8pvsqFY8</td>\n",
       "      <td>2024-02-14T09:41:13Z</td>\n",
       "      <td>What Competitive Super Smash Bros Taught Me (A...</td>\n",
       "      <td>Some reflections on personal development that ...</td>\n",
       "      <td>homedawg</td>\n",
       "      <td>2025-03-30 18:41:46.713688</td>\n",
       "    </tr>\n",
       "  </tbody>\n",
       "</table>\n",
       "</div>"
      ],
      "text/plain": [
       "                  channel_id     video_id          published_at  \\\n",
       "15  UCB2mKxxXPK3X8SJkAc-db3A  ePiMYe7JpJo  2020-07-27T15:59:04Z   \n",
       "16  UCB2mKxxXPK3X8SJkAc-db3A  bmRFi7-gy5Y  2020-07-24T06:33:18Z   \n",
       "17  UCB2mKxxXPK3X8SJkAc-db3A  a5JWrd7Y_14  2020-07-24T06:03:54Z   \n",
       "18  UC0pIFIthf92_8ku2NAYFG_Q  D7YJXgtLqAU  2024-05-05T23:21:21Z   \n",
       "19  UC0pIFIthf92_8ku2NAYFG_Q  vDm8pvsqFY8  2024-02-14T09:41:13Z   \n",
       "\n",
       "                                                title  \\\n",
       "15  Pygame Sprite Sheet Tutorial: How to Load, Par...   \n",
       "16  Pygame Menu System Tutorial Part 2: Building t...   \n",
       "17  Pygame Menu System Tutorial Part 1: Game Loops...   \n",
       "18                      Nostalgia, Change and Pokemon   \n",
       "19  What Competitive Super Smash Bros Taught Me (A...   \n",
       "\n",
       "                                          description channel_title  \\\n",
       "15  In this tutorial, we'll be learning all about ...       CDcodes   \n",
       "16  LINK TO PART 1: https://youtu.be/a5JWrd7Y_14\\n...       CDcodes   \n",
       "17  LINK TO PART 2: https://www.youtube.com/watch?...       CDcodes   \n",
       "18  Examining my relationship with the greatest ma...      homedawg   \n",
       "19  Some reflections on personal development that ...      homedawg   \n",
       "\n",
       "     video_details_commit_time  \n",
       "15  2025-03-30 18:41:46.505227  \n",
       "16  2025-03-30 18:41:46.505227  \n",
       "17  2025-03-30 18:41:46.505227  \n",
       "18  2025-03-30 18:41:46.712691  \n",
       "19  2025-03-30 18:41:46.713688  "
      ]
     },
     "execution_count": 18,
     "metadata": {},
     "output_type": "execute_result"
    }
   ],
   "source": [
    "# Get all public videos from a channel and output a pandas dataframe with formatted column names\n",
    "videos_pandas_df = client.get_all_video_details_for_channels(TEST_CHANNEL_IDS, key_format=\"lower\", output_format='pandas')\n",
    "print(f\"Collected {videos_pandas_df.shape[0]} videos.\")\n",
    "videos_pandas_df.tail(5)  # Preview first few results"
   ]
  },
  {
   "cell_type": "markdown",
   "metadata": {},
   "source": [
    "# Get Video Statistics"
   ]
  },
  {
   "cell_type": "markdown",
   "metadata": {},
   "source": [
    "# Get Video Comments"
   ]
  }
 ],
 "metadata": {
  "kernelspec": {
   "display_name": "scraper_tutorial_env",
   "language": "python",
   "name": "python3"
  },
  "language_info": {
   "codemirror_mode": {
    "name": "ipython",
    "version": 3
   },
   "file_extension": ".py",
   "mimetype": "text/x-python",
   "name": "python",
   "nbconvert_exporter": "python",
   "pygments_lexer": "ipython3",
   "version": "3.11.3"
  }
 },
 "nbformat": 4,
 "nbformat_minor": 2
}
